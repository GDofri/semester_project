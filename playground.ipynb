{
 "cells": [
  {
   "cell_type": "code",
   "id": "initial_id",
   "metadata": {
    "collapsed": true,
    "ExecuteTime": {
     "end_time": "2024-10-18T13:04:50.866362Z",
     "start_time": "2024-10-18T13:04:50.849349Z"
    }
   },
   "source": [
    "%load_ext autoreload\n",
    "%autoreload 2"
   ],
   "outputs": [],
   "execution_count": 1
  },
  {
   "metadata": {
    "ExecuteTime": {
     "end_time": "2024-10-18T13:04:52.368698Z",
     "start_time": "2024-10-18T13:04:50.875988Z"
    }
   },
   "cell_type": "code",
   "source": [
    "import streak_cut as sc\n",
    "import gradient_image as gi\n",
    "import numpy as np\n",
    "import matplotlib.pyplot as plt\n",
    "import utils\n",
    "import pandas as pd\n",
    "import os\n",
    "from tqdm import tqdm as tqdm\n",
    "import astropy.io.fits as fits\n",
    "\n"
   ],
   "id": "c0b5efd8a94dda14",
   "outputs": [],
   "execution_count": 2
  },
  {
   "metadata": {
    "ExecuteTime": {
     "end_time": "2024-10-11T20:22:56.140399Z",
     "start_time": "2024-10-11T20:22:55.943902Z"
    }
   },
   "cell_type": "code",
   "source": [
    "width = 100\n",
    "height = 100\n",
    "point1 = (99, 80)\n",
    "point2 = (0,20)\n",
    "img = gi.create_gradient_image_with_line(height, width, point1, point2)\n",
    "cut = sc.cut_around_line(img, point1, point2, 32)\n",
    "ax, fig = plt.subplots(1, 2)\n",
    "fig[0].imshow(img, cmap='gray')\n",
    "fig[1].imshow(cut, cmap='gray')\n",
    "plt.show()\n",
    "\n"
   ],
   "id": "1a9540865a4fe04c",
   "outputs": [
    {
     "data": {
      "text/plain": [
       "<Figure size 640x480 with 2 Axes>"
      ],
      "image/png": "[encoded data removed]"
     },
     "metadata": {},
     "output_type": "display_data"
    }
   ],
   "execution_count": 6
  },
  {
   "metadata": {
    "ExecuteTime": {
     "end_time": "2024-10-04T15:33:17.987524Z",
     "start_time": "2024-10-04T15:33:17.968863Z"
    }
   },
   "cell_type": "code",
   "source": "streaks_csv = utils.read_streaks_csv()\n",
   "id": "41351397957b10ba",
   "outputs": [],
   "execution_count": 30
  },
  {
   "metadata": {
    "ExecuteTime": {
     "end_time": "2024-10-05T16:19:28.784902Z",
     "start_time": "2024-10-05T16:19:28.606542Z"
    }
   },
   "cell_type": "code",
   "source": [
    "# Sort through r_SDSS.correlated_streaks.csv and add astred.cal.fits to the file name if it is needed\n",
    "\n",
    "correlated_df = pd.read_csv('data/r_SDSS.correlated_streaks.csv')\n",
    "for index, row in correlated_df.iterrows():\n",
    "    path = utils.get_fits_path(row['file_name'], True)\n",
    "    name = path.split('/')[-1]\n",
    "    correlated_df.at[index, 'file_name'] = name\n",
    "correlated_df.to_csv('data/r_SDSS.correlated_streaks_fixed.csv', index=False)\n",
    "\n"
   ],
   "id": "1c412e487018f9e0",
   "outputs": [],
   "execution_count": 103
  },
  {
   "metadata": {
    "ExecuteTime": {
     "end_time": "2024-10-05T16:20:38.929869Z",
     "start_time": "2024-10-05T16:20:38.425888Z"
    }
   },
   "cell_type": "code",
   "source": [
    "# Aggregate all .streaks files into a single CSV file\n",
    "\n",
    "# Define the root directory of the project\n",
    "root_dir = os.path.join('/media/dofri/OBSERVATIONS/VST_BUFFER/')\n",
    "\n",
    "# List to hold individual dataframes\n",
    "dataframes = []\n",
    "\n",
    "type_1 = ['#extension', 'start_x',     'start_y',    'end_x',     'end_y',      'start_ra',      'start_dec',     'end_ra',      'end_dec',      'mjd_start',     'mjd_end']\n",
    "type_2 = ['extension', 'x_start[px]', 'y_start[px]','x_end[px]', 'y_end[px]',  'ra_start[deg]', 'dec_start[deg]','ra_end[deg]', 'dec_end[deg]', 'JD_start[UTC]', 'JD_end[UTC]']\n",
    "column_mapping = dict(zip(type_1, type_2))\n",
    "\n",
    "\n",
    "# Walk through the directory structure\n",
    "for subdir, dirs, files in os.walk(root_dir):\n",
    "    # Skip directories named 'L1_DETECTION'\n",
    "    if 'L1_DETECTION' in subdir:\n",
    "        continue\n",
    "    \n",
    "    for file in files:\n",
    "        # Check if the file has the extension '.fits.streaks'\n",
    "        if file.endswith('.fits.streaks'):\n",
    "            file_path = os.path.join(subdir, file)\n",
    "            \n",
    "            # Read the .streaks file into a dataframe\n",
    "            df = pd.read_csv(file_path)\n",
    "            file_name = file[:-8]\n",
    "            df.insert(0, 'file_name', file[:-8])\n",
    "            # df.insert(1, 'file_path', subdir)\n",
    "            # Remove the time_method column if it exists\n",
    "            if ' time_method' in df.columns:\n",
    "                df.drop(columns=[' time_method'], inplace=True)\n",
    "            df.rename(columns=column_mapping, inplace=True)\n",
    "            # Append the dataframe to the list\n",
    "            dataframes.append(df)\n",
    "\n",
    "# Concatenate all dataframes into a single dataframe\n",
    "combined_df = pd.concat(dataframes, ignore_index=True)\n",
    "\n",
    "\n",
    "# Save the combined dataframe to a single CSV file\n",
    "combined_df.to_csv('combined_streaks.csv', index=False)\n",
    "\n",
    "print(combined_df.columns)\n",
    "\n",
    "print(\"All CSV files have been successfully concatenated into 'combined_streaks.csv'\")\n",
    "\n",
    "#count the number of rows with no nans or nulls or empty strings except for 'time_method'\n",
    "print(combined_df.dropna().shape[0])\n",
    "# Create histogram for each column\n",
    "# for column in combined_df.columns:\n",
    "#     if column in ['file_name', 'file_path']:\n",
    "#         continue\n",
    "#     combined_df[column].hist()\n",
    "#     plt.title(column)\n",
    "#     plt.show()"
   ],
   "id": "c1bda388355320f8",
   "outputs": [
    {
     "name": "stdout",
     "output_type": "stream",
     "text": [
      "Index(['file_name', 'extension', 'ID', 'x_start[px]', 'y_start[px]',\n",
      "       'x_end[px]', 'y_end[px]', 'ra_start[deg]', 'dec_start[deg]',\n",
      "       'ra_end[deg]', 'dec_end[deg]', 'JD_start[UTC]', 'JD_end[UTC]',\n",
      "       'norad_number', 'angle_offset[deg]', 'pixel_offset[px]', 'range[m]',\n",
      "       'phase_angle[deg]', 'ang_vel[deg/s]'],\n",
      "      dtype='object')\n",
      "All CSV files have been successfully concatenated into 'combined_streaks.csv'\n",
      "110\n"
     ]
    }
   ],
   "execution_count": 104
  },
  {
   "metadata": {
    "ExecuteTime": {
     "end_time": "2024-10-05T16:48:16.200911Z",
     "start_time": "2024-10-05T16:48:16.126584Z"
    }
   },
   "cell_type": "code",
   "source": [
    "# Compare and combine the aggregated streaks with the correlated streaks, using the data from the aggregated streaks as the primary data source.\n",
    "# Now realizing that I only end up using the data from one source so a lot of this is redundant but oh well.\n",
    "\n",
    "combined_df = pd.read_csv('combined_streaks.csv')\n",
    "correlated_df = pd.read_csv('data/r_SDSS.correlated_streaks_fixed.csv')\n",
    "match_columns = ['file_name', 'extension', 'ID']\n",
    "merged_df = pd.merge(combined_df, correlated_df, on=match_columns, suffixes=('_df1', '_df2'), how='outer', indicator=True)\n",
    "# Find differences between other columns\n",
    "difference_columns = [col for col in combined_df.columns if col not in match_columns]\n",
    "zipped_columns = []\n",
    "for col in difference_columns:\n",
    "    zipped_columns.append(f'{col}_df1')\n",
    "    zipped_columns.append(f'{col}_df2')\n",
    "\n",
    "# Include the matching columns at the start\n",
    "final_columns_order = match_columns + zipped_columns\n",
    "merged_df = merged_df[final_columns_order]\n",
    "print(merged_df.columns)\n",
    "\n",
    "merged_df.to_csv('comparison.csv', index=False)\n",
    "print(\"Saved comparison to 'comparison.csv'\")\n",
    "\n",
    "def find_diff(col1, col2):\n",
    "    return merged_df[ (merged_df[col1] != merged_df[col2]) \n",
    "                     & merged_df[col1].notna() \n",
    "                     & merged_df[col2].notna()][[col1, col2]]\n",
    "\n",
    "columns_of_interest = ['x_start[px]', 'y_start[px]', 'x_end[px]', 'y_end[px]', 'ang_vel[deg/s]']\n",
    "\n",
    "# for col in columns_of_interest:\n",
    "#     diff = find_diff(f'{col}_df1', f'{col}_df2')\n",
    "#     if not diff.empty:\n",
    "#         print(f\"Differences in column '{col}':\")\n",
    "#         print(diff)\n",
    "#         \n",
    "# Save the columns of interest to a new CSV file with file_name, extension and ID. Prioritize the first dataframe in the case of a difference\n",
    "new_df = merged_df[['file_name', 'extension', 'ID']].copy()\n",
    "print(merged_df.columns)\n",
    "new_df.insert(3, 'x_start[px]', merged_df['x_start[px]_df2'])\n",
    "new_df.insert(4, 'y_start[px]', merged_df['y_start[px]_df2'])\n",
    "new_df.insert(5, 'x_end[px]', merged_df['x_end[px]_df2'])\n",
    "new_df.insert(6, 'y_end[px]', merged_df['y_end[px]_df2'])\n",
    "new_df.insert(7, 'ang_vel[deg/s]', merged_df['ang_vel[deg/s]_df2'])\n",
    "# Throw away any rows with NaN values\n",
    "new_df.dropna(inplace=True)\n",
    "new_df.to_csv('good_data.csv', index=False)\n",
    "\n",
    "\n",
    "# # Print differences between matching row\n",
    "# \n",
    "# # Print differences between matching rows\n",
    "# for col in difference_columns:\n",
    "#     diff = merged_df[f'{col}_df1'] != merged_df[f'{col}_df2']\n",
    "#     differing_rows = merged_df[diff]\n",
    "#     if not differing_rows.empty:\n",
    "#         print(f\"Differences in column '{col}':\")\n",
    "#         print(differing_rows[[f'{col}_df1', f'{col}_df2', *match_columns]])\n",
    "# \n",
    "# print(\"Comparison complete.\")\n",
    "# Math by file_name, extention and ID. Print differences in other columns\n"
   ],
   "id": "365326d359b12bd6",
   "outputs": [
    {
     "name": "stdout",
     "output_type": "stream",
     "text": [
      "Index(['file_name', 'extension', 'ID', 'x_start[px]_df1', 'x_start[px]_df2',\n",
      "       'y_start[px]_df1', 'y_start[px]_df2', 'x_end[px]_df1', 'x_end[px]_df2',\n",
      "       'y_end[px]_df1', 'y_end[px]_df2', 'ra_start[deg]_df1',\n",
      "       'ra_start[deg]_df2', 'dec_start[deg]_df1', 'dec_start[deg]_df2',\n",
      "       'ra_end[deg]_df1', 'ra_end[deg]_df2', 'dec_end[deg]_df1',\n",
      "       'dec_end[deg]_df2', 'JD_start[UTC]_df1', 'JD_start[UTC]_df2',\n",
      "       'JD_end[UTC]_df1', 'JD_end[UTC]_df2', 'norad_number_df1',\n",
      "       'norad_number_df2', 'angle_offset[deg]_df1', 'angle_offset[deg]_df2',\n",
      "       'pixel_offset[px]_df1', 'pixel_offset[px]_df2', 'range[m]_df1',\n",
      "       'range[m]_df2', 'phase_angle[deg]_df1', 'phase_angle[deg]_df2',\n",
      "       'ang_vel[deg/s]_df1', 'ang_vel[deg/s]_df2'],\n",
      "      dtype='object')\n",
      "Saved comparison to 'comparison.csv'\n",
      "Index(['file_name', 'extension', 'ID', 'x_start[px]_df1', 'x_start[px]_df2',\n",
      "       'y_start[px]_df1', 'y_start[px]_df2', 'x_end[px]_df1', 'x_end[px]_df2',\n",
      "       'y_end[px]_df1', 'y_end[px]_df2', 'ra_start[deg]_df1',\n",
      "       'ra_start[deg]_df2', 'dec_start[deg]_df1', 'dec_start[deg]_df2',\n",
      "       'ra_end[deg]_df1', 'ra_end[deg]_df2', 'dec_end[deg]_df1',\n",
      "       'dec_end[deg]_df2', 'JD_start[UTC]_df1', 'JD_start[UTC]_df2',\n",
      "       'JD_end[UTC]_df1', 'JD_end[UTC]_df2', 'norad_number_df1',\n",
      "       'norad_number_df2', 'angle_offset[deg]_df1', 'angle_offset[deg]_df2',\n",
      "       'pixel_offset[px]_df1', 'pixel_offset[px]_df2', 'range[m]_df1',\n",
      "       'range[m]_df2', 'phase_angle[deg]_df1', 'phase_angle[deg]_df2',\n",
      "       'ang_vel[deg/s]_df1', 'ang_vel[deg/s]_df2'],\n",
      "      dtype='object')\n"
     ]
    }
   ],
   "execution_count": 111
  },
  {
   "metadata": {
    "ExecuteTime": {
     "end_time": "2024-10-06T14:41:53.943871Z",
     "start_time": "2024-10-06T14:41:49.097461Z"
    }
   },
   "cell_type": "code",
   "source": [
    "good_data = pd.read_csv('good_data.csv') \n",
    "\n",
    "# pick 10 random rows\n",
    "sample = good_data.sample(10)\n",
    "for index, row in sample.iterrows():\n",
    "    file_path = utils.get_fits_path(row['file_name'], True)\n",
    "    with fits.open(file_path) as hdul:\n",
    "        data = hdul[row['extension']].data\n",
    "        start = (row['x_start[px]'], row['y_start[px]'])\n",
    "        end = (row['x_end[px]'], row['y_end[px]'])\n",
    "        cut = sc.cut_around_line(data, start, end, 32)[:,:]\n",
    "        # # Display the cut along with a histogram of the cut\n",
    "        # ax, fig = plt.subplots(1, 2)\n",
    "        # fig[0].imshow(cut, cmap='gray')\n",
    "        # # histogram in log scale\n",
    "        # fig[1].hist(cut.flatten(), bins=256, log=True)\n",
    "        plt.imshow(cut, cmap='gray', norm=utils.LogNorm())\n",
    "        title = f\"{row['file_name']} - {row['extension']} - {row['ID']}\"\n",
    "        plt.title(title)\n",
    "        print(title)\n",
    "        plt.show()\n",
    "        "
   ],
   "id": "37f633a8f7cac35a",
   "outputs": [
    {
     "name": "stdout",
     "output_type": "stream",
     "text": [
      "OMEGA.2022-01-21T01:18:05.558.astred.cal.fits - 22 - 1\n"
     ]
    },
    {
     "data": {
      "text/plain": [
       "<Figure size 640x480 with 1 Axes>"
      ],
      "image/png": "[encoded data removed]"
     },
     "metadata": {},
     "output_type": "display_data"
    },
    {
     "name": "stdout",
     "output_type": "stream",
     "text": [
      "OMEGA.2022-01-27T04:01:24.760.fits - 22 - 5\n"
     ]
    },
    {
     "data": {
      "text/plain": [
       "<Figure size 640x480 with 1 Axes>"
      ],
      "image/png": "[encoded data removed]"
     },
     "metadata": {},
     "output_type": "display_data"
    },
    {
     "name": "stdout",
     "output_type": "stream",
     "text": [
      "OMEGA.2022-01-07T03:48:30.986.fits - 14 - 2\n"
     ]
    },
    {
     "data": {
      "text/plain": [
       "<Figure size 640x480 with 1 Axes>"
      ],
      "image/png": "[encoded data removed]"
     },
     "metadata": {},
     "output_type": "display_data"
    },
    {
     "name": "stdout",
     "output_type": "stream",
     "text": [
      "OMEGA.2022-01-30T03:09:26.986.fits - 16 - 1\n"
     ]
    },
    {
     "data": {
      "text/plain": [
       "<Figure size 640x480 with 1 Axes>"
      ],
      "image/png": "[encoded data removed]"
     },
     "metadata": {},
     "output_type": "display_data"
    },
    {
     "name": "stdout",
     "output_type": "stream",
     "text": [
      "OMEGA.2022-01-29T02:24:16.978.fits - 15 - 5\n"
     ]
    },
    {
     "data": {
      "text/plain": [
       "<Figure size 640x480 with 1 Axes>"
      ],
      "image/png": "[encoded data removed]"
     },
     "metadata": {},
     "output_type": "display_data"
    },
    {
     "name": "stdout",
     "output_type": "stream",
     "text": [
      "OMEGA.2022-01-05T06:36:26.320.fits - 26 - 7\n"
     ]
    },
    {
     "data": {
      "text/plain": [
       "<Figure size 640x480 with 1 Axes>"
      ],
      "image/png": "[encoded data removed]"
     },
     "metadata": {},
     "output_type": "display_data"
    },
    {
     "name": "stdout",
     "output_type": "stream",
     "text": [
      "OMEGA.2022-01-10T01:23:14.692.fits - 4 - 7\n"
     ]
    },
    {
     "data": {
      "text/plain": [
       "<Figure size 640x480 with 1 Axes>"
      ],
      "image/png": "[encoded data removed]"
     },
     "metadata": {},
     "output_type": "display_data"
    },
    {
     "name": "stdout",
     "output_type": "stream",
     "text": [
      "OMEGA.2022-01-08T04:30:31.115.astred.cal.fits - 7 - 6\n"
     ]
    },
    {
     "data": {
      "text/plain": [
       "<Figure size 640x480 with 1 Axes>"
      ],
      "image/png": "[encoded data removed]"
     },
     "metadata": {},
     "output_type": "display_data"
    },
    {
     "name": "stdout",
     "output_type": "stream",
     "text": [
      "OMEGA.2022-01-27T02:24:18.744.fits - 13 - 1\n"
     ]
    },
    {
     "data": {
      "text/plain": [
       "<Figure size 640x480 with 1 Axes>"
      ],
      "image/png": "[encoded data removed]"
     },
     "metadata": {},
     "output_type": "display_data"
    },
    {
     "name": "stdout",
     "output_type": "stream",
     "text": [
      "OMEGA.2022-01-31T05:26:59.419.fits - 27 - 6\n"
     ]
    },
    {
     "data": {
      "text/plain": [
       "<Figure size 640x480 with 1 Axes>"
      ],
      "image/png": "[encoded data removed]"
     },
     "metadata": {},
     "output_type": "display_data"
    }
   ],
   "execution_count": 189
  },
  {
   "metadata": {},
   "cell_type": "code",
   "outputs": [],
   "execution_count": null,
   "source": "",
   "id": "991c1fc005274821"
  },
  {
   "metadata": {
    "ExecuteTime": {
     "end_time": "2024-10-06T14:55:50.820771Z",
     "start_time": "2024-10-06T14:55:50.699320Z"
    }
   },
   "cell_type": "code",
   "source": [
    "# utils.show_streak_with_endpoints('OMEGA.2022-01-05T06:08:00.955.fits', 19, 1, True)\n",
    "utils.show_streak_with_endpoints('OMEGA.2022-01-08T04:30:31.115.astred.cal.fits', 7, 6, True)"
   ],
   "id": "92220a0d892b9f42",
   "outputs": [
    {
     "name": "stdout",
     "output_type": "stream",
     "text": [
      "                                         file_name  extension  ID  \\\n",
      "273  OMEGA.2022-01-08T04:30:31.115.astred.cal.fits          7   6   \n",
      "274  OMEGA.2022-01-08T04:30:31.115.astred.cal.fits          8   7   \n",
      "275  OMEGA.2022-01-08T04:30:31.115.astred.cal.fits         22   2   \n",
      "276  OMEGA.2022-01-08T04:30:31.115.astred.cal.fits         23   3   \n",
      "277  OMEGA.2022-01-08T04:30:31.115.astred.cal.fits         24   4   \n",
      "\n",
      "     x_start[px]  y_start[px]  x_end[px]  y_end[px]  ang_vel[deg/s]  \n",
      "273       1792.0        635.9     2096.0      672.4        0.002385  \n",
      "274         48.0        640.6     2096.0      832.6        0.002386  \n",
      "275         48.0        960.9     2096.0     1120.8        0.002390  \n",
      "276         48.0       1121.1     2096.0     1281.0        0.002392  \n",
      "277         48.0       1281.2     2096.0     1441.2        0.002394  \n",
      "Start: (1792, 635), End: (2096, 672)\n"
     ]
    },
    {
     "data": {
      "text/plain": [
       "<Figure size 640x480 with 1 Axes>"
      ],
      "image/png": "[encoded data removed]"
     },
     "metadata": {},
     "output_type": "display_data"
    }
   ],
   "execution_count": 199
  },
  {
   "metadata": {
    "ExecuteTime": {
     "end_time": "2024-10-06T13:59:01.511421Z",
     "start_time": "2024-10-06T13:59:01.464563Z"
    }
   },
   "cell_type": "code",
   "source": [
    "good_data = pd.read_csv('good_data.csv')\n",
    "# get first row\n",
    "row = good_data.iloc[1]\n",
    "bzero_counts = {}\n",
    "\n",
    "for idx, row in good_data.iterrows():\n",
    "    with fits.open(utils.get_fits_path(row['file_name'], True)) as hdul:\n",
    "        # print the extension metadata\n",
    "        # print(hdul[0].header)\n",
    "        # hdul.info()\n",
    "        # for i in range(1, len(hdul)):\n",
    "        i = 1\n",
    "        if hdul[i].header['BZERO'] in bzero_counts.keys():\n",
    "            bzero_counts[hdul[i].header['BZERO']] += 1\n",
    "        else:\n",
    "            bzero_counts[hdul[i].header['BZERO']] = 1\n",
    "        # if hdul[i].header['BSCALE'] != 1.0:\n",
    "        #     print(row['file_name'] + \" BSCALE[\" + str(i) + \"]: \" + str(hdul[i].header['BSCALE']))\n",
    "        # if hdul[i].header['BZERO'] != 32768:\n",
    "        #     print(row['file_name'] + \" BZERO[\" + str(i) + \"]: \" + str(hdul[i].header['BZERO']))\n",
    "\n",
    "print(bzero_counts)"
   ],
   "id": "653bcc8ee51d93e0",
   "outputs": [
    {
     "ename": "KeyError",
     "evalue": "\"Keyword 'BUNIT' not found.\"",
     "output_type": "error",
     "traceback": [
      "\u001B[0;31m---------------------------------------------------------------------------\u001B[0m",
      "\u001B[0;31mKeyError\u001B[0m                                  Traceback (most recent call last)",
      "Cell \u001B[0;32mIn[172], line 11\u001B[0m\n\u001B[1;32m      6\u001B[0m \u001B[38;5;28;01mfor\u001B[39;00m idx, row \u001B[38;5;129;01min\u001B[39;00m good_data\u001B[38;5;241m.\u001B[39miterrows():\n\u001B[1;32m      7\u001B[0m     \u001B[38;5;28;01mwith\u001B[39;00m fits\u001B[38;5;241m.\u001B[39mopen(utils\u001B[38;5;241m.\u001B[39mget_fits_path(row[\u001B[38;5;124m'\u001B[39m\u001B[38;5;124mfile_name\u001B[39m\u001B[38;5;124m'\u001B[39m], \u001B[38;5;28;01mTrue\u001B[39;00m)) \u001B[38;5;28;01mas\u001B[39;00m hdul:\n\u001B[1;32m      8\u001B[0m         \u001B[38;5;66;03m# print the extension metadata\u001B[39;00m\n\u001B[1;32m      9\u001B[0m         \u001B[38;5;66;03m# print(hdul[0].header)\u001B[39;00m\n\u001B[1;32m     10\u001B[0m         \u001B[38;5;66;03m# hdul.info()\u001B[39;00m\n\u001B[0;32m---> 11\u001B[0m         \u001B[38;5;28mprint\u001B[39m(\u001B[43mhdul\u001B[49m\u001B[43m[\u001B[49m\u001B[38;5;241;43m0\u001B[39;49m\u001B[43m]\u001B[49m\u001B[38;5;241;43m.\u001B[39;49m\u001B[43mheader\u001B[49m\u001B[43m[\u001B[49m\u001B[38;5;124;43m'\u001B[39;49m\u001B[38;5;124;43mBUNIT\u001B[39;49m\u001B[38;5;124;43m'\u001B[39;49m\u001B[43m]\u001B[49m)\n\u001B[1;32m     12\u001B[0m         \u001B[38;5;66;03m# for i in range(1, len(hdul)):\u001B[39;00m\n\u001B[1;32m     13\u001B[0m         i \u001B[38;5;241m=\u001B[39m \u001B[38;5;241m1\u001B[39m\n",
      "File \u001B[0;32m~/miniconda3/envs/semester_project/lib/python3.10/site-packages/astropy/io/fits/header.py:170\u001B[0m, in \u001B[0;36mHeader.__getitem__\u001B[0;34m(self, key)\u001B[0m\n\u001B[1;32m    167\u001B[0m \u001B[38;5;28;01melse\u001B[39;00m:\n\u001B[1;32m    168\u001B[0m     keyword \u001B[38;5;241m=\u001B[39m key\n\u001B[0;32m--> 170\u001B[0m card \u001B[38;5;241m=\u001B[39m \u001B[38;5;28mself\u001B[39m\u001B[38;5;241m.\u001B[39m_cards[\u001B[38;5;28;43mself\u001B[39;49m\u001B[38;5;241;43m.\u001B[39;49m\u001B[43m_cardindex\u001B[49m\u001B[43m(\u001B[49m\u001B[43mkey\u001B[49m\u001B[43m)\u001B[49m]\n\u001B[1;32m    172\u001B[0m \u001B[38;5;28;01mif\u001B[39;00m card\u001B[38;5;241m.\u001B[39mfield_specifier \u001B[38;5;129;01mis\u001B[39;00m \u001B[38;5;129;01mnot\u001B[39;00m \u001B[38;5;28;01mNone\u001B[39;00m \u001B[38;5;129;01mand\u001B[39;00m keyword \u001B[38;5;241m==\u001B[39m card\u001B[38;5;241m.\u001B[39mrawkeyword:\n\u001B[1;32m    173\u001B[0m     \u001B[38;5;66;03m# This is RVKC; if only the top-level keyword was specified return\u001B[39;00m\n\u001B[1;32m    174\u001B[0m     \u001B[38;5;66;03m# the raw value, not the parsed out float value\u001B[39;00m\n\u001B[1;32m    175\u001B[0m     \u001B[38;5;28;01mreturn\u001B[39;00m card\u001B[38;5;241m.\u001B[39mrawvalue\n",
      "File \u001B[0;32m~/miniconda3/envs/semester_project/lib/python3.10/site-packages/astropy/io/fits/header.py:1725\u001B[0m, in \u001B[0;36mHeader._cardindex\u001B[0;34m(self, key)\u001B[0m\n\u001B[1;32m   1722\u001B[0m         indices \u001B[38;5;241m=\u001B[39m \u001B[38;5;28mself\u001B[39m\u001B[38;5;241m.\u001B[39m_rvkc_indices\u001B[38;5;241m.\u001B[39mget(keyword, \u001B[38;5;28;01mNone\u001B[39;00m)\n\u001B[1;32m   1724\u001B[0m \u001B[38;5;28;01mif\u001B[39;00m \u001B[38;5;129;01mnot\u001B[39;00m indices:\n\u001B[0;32m-> 1725\u001B[0m     \u001B[38;5;28;01mraise\u001B[39;00m \u001B[38;5;167;01mKeyError\u001B[39;00m(\u001B[38;5;124mf\u001B[39m\u001B[38;5;124m\"\u001B[39m\u001B[38;5;124mKeyword \u001B[39m\u001B[38;5;132;01m{\u001B[39;00mkeyword\u001B[38;5;132;01m!r}\u001B[39;00m\u001B[38;5;124m not found.\u001B[39m\u001B[38;5;124m\"\u001B[39m)\n\u001B[1;32m   1727\u001B[0m \u001B[38;5;28;01mtry\u001B[39;00m:\n\u001B[1;32m   1728\u001B[0m     \u001B[38;5;28;01mreturn\u001B[39;00m indices[n]\n",
      "\u001B[0;31mKeyError\u001B[0m: \"Keyword 'BUNIT' not found.\""
     ]
    }
   ],
   "execution_count": 172
  },
  {
   "metadata": {
    "ExecuteTime": {
     "end_time": "2024-10-06T17:35:10.399337Z",
     "start_time": "2024-10-06T17:35:10.356121Z"
    }
   },
   "cell_type": "code",
   "source": [
    "good_data = pd.read_csv('good_data.csv')\n",
    "# get first row\n",
    "row = good_data.iloc[1]\n",
    "bzero_counts = {}\n",
    "\n",
    "with fits.open(utils.get_fits_path(row['file_name'], True)) as hdul:\n",
    "    print(hdul[1].data.shape)\n",
    "    print(hdul[0].header.keys)"
   ],
   "id": "1487f00856f22127",
   "outputs": [
    {
     "name": "stdout",
     "output_type": "stream",
     "text": [
      "(4200, 2144)\n",
      "<bound method Header.keys of SIMPLE  =                    T          / Standard FITS format (NOST-100.0)     \n",
      "BITPIX  =                   16          / # of bits storing pix values          \n",
      "NAXIS   =                    0          / # of axes in frame                    \n",
      "EXTEND  =                    T / Extension may be present                       \n",
      "ORIGIN  = 'ESO-PARANAL'                 / European Southern Observatory         \n",
      "DATE    = '2023-10-23T11:19:33' / File Creation date                            \n",
      "TELESCOP= 'ESO-VST '                    / ESO Telescope Name                    \n",
      "INSTRUME= 'OMEGACAM'                    / Instrument used.                      \n",
      "OBJECT  = 'STD,ZEROPOINT'      / Original target.                               \n",
      "RA      =            13.800000          / 00:55:12.0 RA (J2000) pointing (deg)  \n",
      "DEC     =              0.93278          / 00:55:58.0 DEC (J2000) pointing (deg) \n",
      "EQUINOX =                2000.          / Standard FK5 (years)                  \n",
      "RADECSYS= 'FK5     '                    / Coordinate reference frame            \n",
      "EXPTIME =              75.0000          / Total integration time                \n",
      "MJD-OBS =      59581.024988914          / MJD start (2022-01-02T00:35:59.042)   \n",
      "DATE-OBS= '2022-01-02T00:35:59.042'     / Date of observation                   \n",
      "UTC     =             2151.000          / 00:35:51.000 UTC at start (sec)       \n",
      "LST     =             9647.016          / 02:40:47.016 LST at start (sec)       \n",
      "PI-COI  = 'UNKNOWN '           / PI-COI name.                                   \n",
      "OBSERVER= 'UNKNOWN '           / Name of observer.                              \n",
      "HIERARCH ESO ADA ABSROT END  =    -43.24460 / Abs rot angle at exp end (deg)    \n",
      "HIERARCH ESO ADA ABSROT PPOS = 'POS     '   / sign of probe position            \n",
      "HIERARCH ESO ADA ABSROT START=    -42.88306 / Abs rot angle at exp start (deg)  \n",
      "HIERARCH ESO ADA GUID STATUS = 'OFF     '   / Status of autoguider              \n",
      "HIERARCH ESO ADA POSANG      =      0.00000 / Position angle at start           \n",
      "HIERARCH ESO DET BITS        =           16 / Bits per pixel readout            \n",
      "HIERARCH ESO DET CHIPS       =           32 / # of chips in detector array      \n",
      "HIERARCH ESO DET DATE        = '2004-11-10' / Installation date                 \n",
      "HIERARCH ESO DET DEC         =  0.000000000 / Apparent 00:00:00.0 DEC at start  \n",
      "HIERARCH ESO DET DID         = 'ESO-VLT-DIC.OMEGA_CCD,ESO-VLT-DIC.FCDDCS' / Dict\n",
      "HIERARCH ESO DET EXP NO      =          231 / Unique exposure ID number         \n",
      "HIERARCH ESO DET EXP RDTTIME =       30.599 / image readout time                \n",
      "HIERARCH ESO DET EXP TYPE    = 'Normal  '   / Exposure type                     \n",
      "HIERARCH ESO DET EXP XFERTIM =       30.534 / image transfer time               \n",
      "HIERARCH ESO DET FRAM ID     =            1 / Image sequencial number           \n",
      "HIERARCH ESO DET FRAM TYPE   = 'Normal  '   / Frame type                        \n",
      "HIERARCH ESO DET ID          = 'CCD FIERA - Rev: 238334' / Detector system Id   \n",
      "HIERARCH ESO DET NAME        = 'ocmsci1 - ocmsci1' / Name of detector system    \n",
      "HIERARCH ESO DET OUTPUTS     =           32 / # of outputs                      \n",
      "HIERARCH ESO DET OUTREF      =            0 / reference output                  \n",
      "HIERARCH ESO DET RA          =  0.000000000 / Apparent 00:00:00.0 RA at start   \n",
      "HIERARCH ESO DET READ CLOCK  = 'mosaic read (ordered)' / Readout clock pattern u\n",
      "HIERARCH ESO DET READ MODE   = 'normal  '   / Readout method                    \n",
      "HIERARCH ESO DET READ NFRAM  =            1 / Number of readouts buffered in sin\n",
      "HIERARCH ESO DET READ SPEED  = 'normal  '   / Readout speed                     \n",
      "HIERARCH ESO DET SHUT ID     = 'OmegaCAM (Bonn) SE132' / Shutter unique identifi\n",
      "HIERARCH ESO DET SHUT TMCLOS =       -0.804 / Time taken to close shutter       \n",
      "HIERARCH ESO DET SHUT TMOPEN =       -0.804 / Time taken to open shutter        \n",
      "HIERARCH ESO DET SHUT TYPE   = 'curtain '   / type of shutter                   \n",
      "HIERARCH ESO DET SOFW MODE   = 'Normal  '   / CCD sw operational mode           \n",
      "HIERARCH ESO DET TELE INT    =        600.0 / Interval between two successive te\n",
      "HIERARCH ESO DET TELE NO     =           22 / # of sources active               \n",
      "HIERARCH ESO DET TLM1 END    =      147.000 / Telemetry value at read completion\n",
      "HIERARCH ESO DET TLM1 ID     = 'SE132   '   / ID of telemetry sensor            \n",
      "HIERARCH ESO DET TLM1 NAME   = 'Mosaicplate out' / Description of telemetry para\n",
      "HIERARCH ESO DET TLM1 START  =      147.000 / Telemetry value at read start     \n",
      "HIERARCH ESO DET TLM10 END   =      285.700 / Telemetry value at read completion\n",
      "HIERARCH ESO DET TLM10 ID    = 'SE20    '   / ID of telemetry sensor            \n",
      "HIERARCH ESO DET TLM10 NAME  = 'Bottom Heat Exc' / Description of telemetry para\n",
      "HIERARCH ESO DET TLM10 START =      285.700 / Telemetry value at read start     \n",
      "HIERARCH ESO DET TLM2 END = 3.500E-05 / Telemetry value at read completion      \n",
      "HIERARCH ESO DET TLM2 ID     = 'SE8     '   / ID of telemetry sensor            \n",
      "HIERARCH ESO DET TLM2 NAME   = 'Cryostat Vacuum' / Description of telemetry para\n",
      "HIERARCH ESO DET TLM2 START = 3.500E-05 / Telemetry value at read start         \n",
      "HIERARCH ESO DET TLM3 END    =        0.000 / Telemetry value at read completion\n",
      "HIERARCH ESO DET TLM3 ID     = 'SE10    '   / ID of telemetry sensor            \n",
      "HIERARCH ESO DET TLM3 NAME   = 'Fiera 1 ps' / Description of telemetry param.   \n",
      "HIERARCH ESO DET TLM3 START  =        0.000 / Telemetry value at read start     \n",
      "HIERARCH ESO DET TLM4 END    =      288.600 / Telemetry value at read completion\n",
      "HIERARCH ESO DET TLM4 ID     = 'SE11    '   / ID of telemetry sensor            \n",
      "HIERARCH ESO DET TLM4 NAME   = 'Fiera 1 dfe' / Description of telemetry param.  \n",
      "HIERARCH ESO DET TLM4 START  =      288.600 / Telemetry value at read start     \n",
      "HIERARCH ESO DET TLM5 END    =      286.300 / Telemetry value at read completion\n",
      "HIERARCH ESO DET TLM5 ID     = 'SE12    '   / ID of telemetry sensor            \n",
      "HIERARCH ESO DET TLM5 NAME   = 'Fiera 2 ps' / Description of telemetry param.   \n",
      "HIERARCH ESO DET TLM5 START  =      286.300 / Telemetry value at read start     \n",
      "HIERARCH ESO DET TLM6 END    =      288.500 / Telemetry value at read completion\n",
      "HIERARCH ESO DET TLM6 ID     = 'SE13    '   / ID of telemetry sensor            \n",
      "HIERARCH ESO DET TLM6 NAME   = 'Fiera 2 dfe' / Description of telemetry param.  \n",
      "HIERARCH ESO DET TLM6 START  =      288.500 / Telemetry value at read start     \n",
      "HIERARCH ESO DET TLM7 END    =      287.100 / Telemetry value at read completion\n",
      "HIERARCH ESO DET TLM7 ID     = 'SE14    '   / ID of telemetry sensor            \n",
      "HIERARCH ESO DET TLM7 NAME   = 'Fiera 3 ps' / Description of telemetry param.   \n",
      "HIERARCH ESO DET TLM7 START  =      287.100 / Telemetry value at read start     \n",
      "HIERARCH ESO DET TLM8 END    =      288.800 / Telemetry value at read completion\n",
      "HIERARCH ESO DET TLM8 ID     = 'SE15    '   / ID of telemetry sensor            \n",
      "HIERARCH ESO DET TLM8 NAME   = 'Fiera 3 dfe' / Description of telemetry param.  \n",
      "HIERARCH ESO DET TLM8 START  =      288.800 / Telemetry value at read start     \n",
      "HIERARCH ESO DET TLM9 END    =      111.700 / Telemetry value at read completion\n",
      "HIERARCH ESO DET TLM9 ID     = 'SE19    '   / ID of telemetry sensor            \n",
      "HIERARCH ESO DET TLM9 NAME   = 'Top Heat Exchan' / Description of telemetry para\n",
      "HIERARCH ESO DET TLM9 START  =      111.700 / Telemetry value at read start     \n",
      "HIERARCH ESO DET WIN1 BINX   =            1 / Binning factor along X            \n",
      "HIERARCH ESO DET WIN1 BINY   =            1 / Binning factor along Y            \n",
      "HIERARCH ESO DET WIN1 DIT1   =    75.000000 / actual subintegration time        \n",
      "HIERARCH ESO DET WIN1 DKTM   =      75.3293 / Dark current time                 \n",
      "HIERARCH ESO DET WIN1 NDIT   =            1 / # of subintegrations              \n",
      "HIERARCH ESO DET WIN1 NX     =        17152 / # of pixels along X               \n",
      "HIERARCH ESO DET WIN1 NY     =        16800 / # of pixels along Y               \n",
      "HIERARCH ESO DET WIN1 ST     =            T / If T, window enabled              \n",
      "HIERARCH ESO DET WIN1 STRX   =            1 / Lower left pixel in X             \n",
      "HIERARCH ESO DET WIN1 STRY   =            1 / Lower left pixel in Y             \n",
      "HIERARCH ESO DET WIN1 UIT1   =    75.000000 / user defined subintegration time  \n",
      "HIERARCH ESO DET WINDOWS     =            1 / # of windows readout              \n",
      "HIERARCH ESO DPR CATG        = 'CALIB   '   / Observation category              \n",
      "HIERARCH ESO DPR TECH        = 'IMAGE,DIRECT' / Observation technique           \n",
      "HIERARCH ESO DPR TYPE        = 'STD,ZEROPOINT' / Observation type               \n",
      "HIERARCH ESO INS DATE        = '2002-01-31' / Instrument release date (yyyy-mm-d\n",
      "HIERARCH ESO INS DID         = 'ESO-VLT-DIC.OMEGACAM_ICS-217958' / Data dictiona\n",
      "HIERARCH ESO INS FILT1 ID    = 'PS4     '   / Filter unique id.                 \n",
      "HIERARCH ESO INS FILT1 NAME  = 'r_SDSS  '   / Filter name.                      \n",
      "HIERARCH ESO INS FILT1 NO    =            2 / Pos 1-6=Mag.A 7-12=Mag.B 0=NO Filt\n",
      "HIERARCH ESO INS FILT1 SWSIM =            F / If T, function is software simulat\n",
      "HIERARCH ESO INS ID          = 'OMEGACAM/176642' / Instrument ID.               \n",
      "HIERARCH ESO INS MODE        = 'IMAGING '   / Instrument mode used.             \n",
      "HIERARCH ESO INS SENS1 ID    = 'LCUR    '   / sensor ID.                        \n",
      "HIERARCH ESO INS SENS1 NAME  = 'Lamps current' / sensor common name.            \n",
      "HIERARCH ESO INS SENS1 VAL   =        0.010 / [A] Calibration Lamps Current     \n",
      "HIERARCH ESO INS SENS2 ID    = 'FCFLI   '   / sensor ID.                        \n",
      "HIERARCH ESO INS SENS2 NAME  = 'Flow Cooling Fluid IN of Ins' / sensor common na\n",
      "HIERARCH ESO INS SENS2 VAL   =         4.40 / [l/min] Instr Cool. Fluid Flow IN \n",
      "HIERARCH ESO INS SENS3 ID    = 'FCFLD   '   / sensor ID.                        \n",
      "HIERARCH ESO INS SENS3 NAME  = 'Diff flow Cooling Fluid of Ins' / sensor common \n",
      "HIERARCH ESO INS SENS3 VAL   =        -0.43 / [l/min] Instr Cool. Fluid Flow DIF\n",
      "HIERARCH ESO INS SHUT1 SWSIM =            F / If T, function is software simulat\n",
      "HIERARCH ESO INS SWSIM       = 'NORMAL  '   / Software simulation.              \n",
      "HIERARCH ESO INS TEMP11 ID   = 'TFS     '   / Temperature sensor ID.            \n",
      "HIERARCH ESO INS TEMP11 NAME = 'Temp. Filter System' / Temperature sensor name. \n",
      "HIERARCH ESO INS TEMP11 VAL  =         11.1 / [DEG C] Filter system temperature \n",
      "HIERARCH ESO INS TEMP12 ID   = 'TFCL1   '   / Temperature sensor ID.            \n",
      "HIERARCH ESO INS TEMP12 NAME = 'Temp. FIERA Cooling Liquid IN' / Temperature sen\n",
      "HIERARCH ESO INS TEMP12 VAL  =          8.9 / [DEG C] FIERA Cooling Liquid IN T \n",
      "HIERARCH ESO INS TEMP13 ID   = 'TFCL2   '   / Temperature sensor ID.            \n",
      "HIERARCH ESO INS TEMP13 NAME = 'Temp. FIERA Cooling Liquid OUT' / Temperature se\n",
      "HIERARCH ESO INS TEMP13 VAL  =         12.6 / [DEG C] FIERA Cooling Liquid OUT T\n",
      "HIERARCH ESO OBS AIRM        =          2.8 / Req. max. airmass                 \n",
      "HIERARCH ESO OBS AMBI FWHM   =          2.0 / Req. max. seeing                  \n",
      "HIERARCH ESO OBS AMBI TRANS  = '1PHO    '   / Req. sky transparency             \n",
      "HIERARCH ESO OBS AOMODE      = 'NO_AO   '   / Req. AO mode                      \n",
      "HIERARCH ESO OBS CONTAINER ID=         -999 / Scheduling container ID           \n",
      "HIERARCH ESO OBS CONTAINER TYPE= 'U       ' / Scheduling container type         \n",
      "HIERARCH ESO OBS DID         = 'ESO-VLT-DIC.OBS-2.2' / OBS Dictionary           \n",
      "HIERARCH ESO OBS EXECTIME    =         1241 / Expected execution time           \n",
      "HIERARCH ESO OBS GRP         = '0       '   / linked blocks                     \n",
      "HIERARCH ESO OBS ID          =      3189782 / Observation block ID              \n",
      "HIERARCH ESO OBS MOON DIST   =           30 / Req. min. angular dist. from moon \n",
      "HIERARCH ESO OBS MOON FLI    =          1.0 / Req. max. fractional lunar illum. \n",
      "HIERARCH ESO OBS NAME        = 'OMEGACAM_Landolt_SA92_Master_Key' / OB name     \n",
      "HIERARCH ESO OBS NTPL        =            6 / Number of templates within OB     \n",
      "HIERARCH ESO OBS OBSERVER    = 'UNKNOWN '   / Observer Name                     \n",
      "HIERARCH ESO OBS PI-COI ID   =        52038 / ESO internal PI-COI ID            \n",
      "HIERARCH ESO OBS PI-COI NAME = 'UNKNOWN '   / PI-COI name                       \n",
      "HIERARCH ESO OBS PROG ID     = '60.A-9038(A)' / ESO program identification      \n",
      "HIERARCH ESO OBS START       = '2022-01-01T23:59:49' / OB start time            \n",
      "HIERARCH ESO OBS STRTG       = 'Freq    '   / Observing strategy                \n",
      "HIERARCH ESO OBS TARG NAME   = 'SA92    '   / OB target name                    \n",
      "HIERARCH ESO OBS TPLNO       =            4 / Template number within OB         \n",
      "HIERARCH ESO OBS TWILIGHT    =            0 / Req. twilight                     \n",
      "HIERARCH ESO OBS WATERVAPOUR =         30.0 / Req. water vapour                 \n",
      "HIERARCH ESO OCS DET1 IMGNAME= 'OMEGACAM_IMG_STD' / Data File Name.             \n",
      "HIERARCH ESO TEL ADC ST      =            F / ADC state, if T ADC is in path.   \n",
      "HIERARCH ESO TEL AIRM END    =        1.240 / Airmass at end                    \n",
      "HIERARCH ESO TEL AIRM START  =        1.236 / Airmass at start                  \n",
      "HIERARCH ESO TEL ALT         =       53.953 / Alt angle at start (deg)          \n",
      "HIERARCH ESO TEL AMBI FWHM END=        0.73 / Seeing queried from ASM (arcsec)  \n",
      "HIERARCH ESO TEL AMBI FWHM START=      0.73 / Seeing queried from ASM (arcsec)  \n",
      "HIERARCH ESO TEL AMBI IRSKY TEMP=     -84.0 / Temperature of the IR sky, from ra\n",
      "HIERARCH ESO TEL AMBI IWV END=         6.54 / Integrated Water Vapor            \n",
      "HIERARCH ESO TEL AMBI IWV START=       6.54 / Integrated Water Vapor            \n",
      "HIERARCH ESO TEL AMBI IWV30D END=      7.06 / IWV at 30deg elev.                \n",
      "HIERARCH ESO TEL AMBI IWV30D START=    7.06 / IWV at 30deg elev.                \n",
      "HIERARCH ESO TEL AMBI IWV30DSTD END=   0.12 / IWV at 30deg elev.                \n",
      "HIERARCH ESO TEL AMBI IWV30DSTD START= 0.12 / IWV at 30deg elev.                \n",
      "HIERARCH ESO TEL AMBI IWVSTD END=      0.04 / Standard Deviation of Integrated W\n",
      "HIERARCH ESO TEL AMBI IWVSTD START=    0.04 / Standard Deviation of Integrated W\n",
      "HIERARCH ESO TEL AMBI PRES END=      744.10 / Air pressure from ASM (hPa)       \n",
      "HIERARCH ESO TEL AMBI PRES START=    744.20 / Air pressure from ASM (hPa)       \n",
      "HIERARCH ESO TEL AMBI RHUM   =           26. / Relative humidity from ASM       \n",
      "HIERARCH ESO TEL AMBI TAU0   =     0.001993 / Average coherence time (s)        \n",
      "HIERARCH ESO TEL AMBI TEMP   =        15.82 / Amb temp from ASM (deg C)         \n",
      "HIERARCH ESO TEL AMBI WINDDIR=           55. / Wind direction (N=0 E=90) (deg)  \n",
      "HIERARCH ESO TEL AMBI WINDSP =         3.03 / Wind speed from ASM (m/s)         \n",
      "HIERARCH ESO TEL AZ          =      131.605 / Az angle at start (deg) S=0,W=90  \n",
      "HIERARCH ESO TEL CHOP ST     =            F / True when chopping is active      \n",
      "HIERARCH ESO TEL DATE        = '2011-05-10T24:00:00.0' / TCS installation date  \n",
      "HIERARCH ESO TEL DID         = 'ESO-VLT-DIC.TCS' / Data dictionary for TEL      \n",
      "HIERARCH ESO TEL DOME STATUS = 'FULLY-OPEN' / Dome status                       \n",
      "HIERARCH ESO TEL FOCU ID     = 'CA      '   / Telescope focus station ID        \n",
      "HIERARCH ESO TEL FOCU LEN    =       14.497 / Focal length (m)                  \n",
      "HIERARCH ESO TEL FOCU SCALE  =       14.267 / Focal scale (arcsec/mm)           \n",
      "HIERARCH ESO TEL FOCU VALUE  =        0.304 / M2 setting (mm)                   \n",
      "HIERARCH ESO TEL GEOELEV     =         2648. / Elevation above sea level (m)    \n",
      "HIERARCH ESO TEL GEOLAT      =     -24.6251 / Tel geo latitute (+=North) (deg)  \n",
      "HIERARCH ESO TEL GEOLON      =     -70.4027 / Tel geo longitude (+=East) (deg)  \n",
      "HIERARCH ESO TEL ID          = 'v 300949'   / TCS version number                \n",
      "HIERARCH ESO TEL MOON DEC    =    -25.38092 / -25:22:51.3 DEC (J2000) (deg)     \n",
      "HIERARCH ESO TEL MOON RA     =   270.280564 / 18:01:07.3 RA (J2000) (deg)       \n",
      "HIERARCH ESO TEL OPER        = 'I, Respiri' / Telescope Operator                \n",
      "HIERARCH ESO TEL PARANG END  =      136.809 / Parallactic angle at end (deg)    \n",
      "HIERARCH ESO TEL PARANG START=      137.167 / Parallactic angle at start (deg)  \n",
      "HIERARCH ESO TEL TARG ALPHA  =     5512.000 / Alpha coordinate for the target   \n",
      "HIERARCH ESO TEL TARG COORDTYPE= 'M       ' / Coordinate type (M=mean A=apparent\n",
      "HIERARCH ESO TEL TARG DELTA  =     5558.000 / Delta coordinate for the target   \n",
      "HIERARCH ESO TEL TARG EPOCH  =     2000.000 / Epoch                             \n",
      "HIERARCH ESO TEL TARG EPOCHSYSTEM= 'J       ' / Epoch system (default J=Julian) \n",
      "HIERARCH ESO TEL TARG EQUINOX=     2000.000 / Equinox                           \n",
      "HIERARCH ESO TEL TARG PARALLAX=       0.000 / Parallax                          \n",
      "HIERARCH ESO TEL TARG PMA    =     0.000000 / Proper Motion Alpha               \n",
      "HIERARCH ESO TEL TARG PMD    =     0.000000 / Proper motion Delta               \n",
      "HIERARCH ESO TEL TARG RADVEL =        0.000 / Radial velocity                   \n",
      "HIERARCH ESO TEL TH M1 TEMP  =        13.74 / M1 superficial temperature (deg C)\n",
      "HIERARCH ESO TEL TRAK STATUS = 'NORMAL  '   / Tracking status                   \n",
      "HIERARCH ESO TPL DID         = 'ESO-VLT-DIC.TPL-1.9' / Data dictionary for TPL  \n",
      "HIERARCH ESO TPL EXPNO       =            1 / Exposure number within template   \n",
      "HIERARCH ESO TPL ID          = 'OMEGACAM_img_cal_zp' / Template signature ID    \n",
      "HIERARCH ESO TPL NAME        = 'OMEGACAM ZP calib' / Template name              \n",
      "HIERARCH ESO TPL NEXP        =            1 / Number of exposures within templat\n",
      "HIERARCH ESO TPL PRESEQ      = 'OMEGACAM_img_obs_stare.seq' / Sequencer script  \n",
      "HIERARCH ESO TPL START       = '2022-01-02T00:34:51' / TPL start time           \n",
      "HIERARCH ESO TPL VERSION     = '1.0     '   / Version of the template           \n",
      "ORIGFILE= 'OMEGACAM_IMG_STD002_0003.fits' / Original File Name                  \n",
      "ARCFILE = 'OMEGA.2022-01-02T00:35:59.042.fits' / Archive File Name              \n",
      "CHECKSUM= 'AVdaDTaRATaXATaX'   / HDU checksum updated 2022-01-02T00:37:59       \n",
      "DATASUM = '         0'         / data unit checksum updated 2022-01-02T00:37:59 \n",
      "HISTORY created with combineFits version: 0.20                                  \n",
      "HISTORY bias file: bias.median.fits                                             \n",
      "HISTORY flat file: flat_r_SDSS.dome.fits                                        \n",
      "                                                                                \n",
      "                                                                                \n",
      "                                                                                \n",
      "                                                                                \n",
      "                                                                                \n",
      "                                                                                \n",
      "                                                                                \n",
      "                                                                                \n",
      "                                                                                \n",
      "                                                                                \n",
      "                                                                                \n",
      "                                                                                \n",
      "                                                                                \n",
      "                                                                                \n",
      "                                                                                \n",
      "                                                                                \n",
      "                                                                                \n",
      "                                                                                \n",
      "                                                                                \n",
      "                                                                                \n",
      "                                                                                \n",
      "                                                                                \n",
      "                                                                                \n",
      "                                                                                \n",
      "                                                                                \n",
      "                                                                                \n",
      "                                                                                \n",
      "                                                                                \n",
      "                                                                                \n",
      "                                                                                \n",
      "                                                                                \n",
      "                                                                                \n",
      "                                                                                \n",
      "                                                                                \n",
      "                                                                                \n",
      "                                                                                \n",
      "                                                                                \n",
      "                                                                                \n",
      "                                                                                \n",
      "                                                                                \n",
      "                                                                                \n",
      "                                                                                \n",
      "                                                                                \n",
      "                                                                                \n",
      "                                                                                \n",
      "                                                                                \n",
      "                                                                                \n",
      "                                                                                \n",
      "                                                                                \n",
      "                                                                                \n",
      "                                                                                \n",
      "                                                                                \n",
      "                                                                                \n",
      "                                                                                \n",
      "                                                                                \n",
      "                                                                                \n",
      "                                                                                \n",
      "                                                                                \n",
      "                                                                                \n",
      "                                                                                \n",
      "                                                                                \n",
      "                                                                                \n",
      "                                                                                \n",
      "                                                                                \n",
      "                                                                                \n",
      "                                                                                \n",
      "                                                                                \n",
      "                                                                                \n",
      "                                                                                \n",
      "                                                                                \n",
      "                                                                                \n",
      "                                                                                \n",
      "                                                                                \n",
      "                                                                                \n",
      "                                                                                \n",
      "                                                                                \n",
      "                                                                                \n",
      "                                                                                \n",
      "                                                                                \n",
      "                                                                                \n",
      "                                                                                \n",
      "                                                                                \n",
      "                                                                                \n",
      "                                                                                \n",
      "                                                                                \n",
      "                                                                                \n",
      "                                                                                \n",
      "                                                                                \n",
      "                                                                                \n",
      "                                                                                \n",
      "                                                                                \n",
      "                                                                                \n",
      "                                                                                \n",
      "                                                                                \n",
      "                                                                                \n",
      "                                                                                \n",
      "                                                                                \n",
      "                                                                                \n",
      "                                                                                \n",
      "                                                                                \n",
      "                                                                                \n",
      "                                                                                \n",
      "                                                                                \n",
      "                                                                                \n",
      "                                                                                \n",
      "                                                                                \n",
      "                                                                                \n",
      "                                                                                \n",
      "                                                                                \n",
      "                                                                                \n",
      "                                                                                \n",
      "                                                                                \n",
      "                                                                                \n",
      "                                                                                \n",
      "                                                                                \n",
      "                                                                                \n",
      "                                                                                \n",
      "                                                                                \n",
      "                                                                                \n",
      "                                                                                \n",
      "                                                                                \n",
      "                                                                                \n",
      "                                                                                \n",
      "                                                                                \n",
      "                                                                                \n",
      "                                                                                \n",
      "                                                                                \n",
      "                                                                                \n",
      "                                                                                \n",
      "                                                                                \n",
      "                                                                                \n",
      "                                                                                \n",
      "                                                                                \n",
      "                                                                                \n",
      "                                                                                \n",
      "                                                                                \n",
      "                                                                                \n",
      "                                                                                \n",
      "                                                                                \n",
      "                                                                                \n",
      "                                                                                \n",
      "                                                                                \n",
      "                                                                                \n",
      "                                                                                \n",
      "                                                                                \n",
      "                                                                                \n",
      "                                                                                \n",
      "                                                                                \n",
      "                                                                                \n",
      "                                                                                \n",
      "                                                                                \n",
      "                                                                                \n",
      "                                                                                \n",
      "                                                                                \n",
      "                                                                                \n",
      "                                                                                \n",
      "                                                                                \n",
      "                                                                                \n",
      "                                                                                \n",
      "                                                                                \n",
      "                                                                                \n",
      "                                                                                \n",
      "                                                                                \n",
      "                                                                                \n",
      "                                                                                \n",
      "                                                                                \n",
      "                                                                                \n",
      "                                                                                \n",
      "                                                                                \n",
      "                                                                                \n",
      "                                                                                \n",
      "                                                                                \n",
      "                                                                                \n",
      "                                                                                \n",
      "                                                                                \n",
      "                                                                                \n",
      "                                                                                \n",
      "                                                                                \n",
      "                                                                                \n",
      "                                                                                \n",
      "                                                                                \n",
      "                                                                                \n",
      "                                                                                \n",
      "                                                                                \n",
      "                                                                                \n",
      "                                                                                \n",
      "                                                                                \n",
      "                                                                                \n",
      "                                                                                \n",
      "                                                                                \n",
      "                                                                                \n",
      "                                                                                \n",
      "                                                                                \n",
      "                                                                                \n",
      "                                                                                \n",
      "                                                                                \n",
      "                                                                                \n",
      "                                                                                \n",
      "                                                                                \n",
      "                                                                                \n",
      "                                                                                \n",
      "                                                                                \n",
      "                                                                                \n",
      "                                                                                \n",
      "                                                                                \n",
      "                                                                                \n",
      "                                                                                \n",
      "                                                                                \n",
      "                                                                                \n",
      "                                                                                \n",
      "                                                                                \n",
      "                                                                                \n",
      "                                                                                \n",
      "                                                                                \n",
      "                                                                                \n",
      "                                                                                \n",
      "                                                                                \n",
      "                                                                                \n",
      "                                                                                \n",
      "                                                                                \n",
      "                                                                                \n",
      "                                                                                \n",
      "                                                                                \n",
      "                                                                                \n",
      "                                                                                \n",
      "                                                                                \n",
      "                                                                                \n",
      "                                                                                \n",
      "                                                                                \n",
      "                                                                                \n",
      "                                                                                \n",
      "                                                                                \n",
      "                                                                                \n",
      "                                                                                \n",
      "                                                                                \n",
      "                                                                                \n",
      "                                                                                \n",
      "                                                                                \n",
      "                                                                                \n",
      "                                                                                \n",
      "                                                                                \n",
      "                                                                                \n",
      "                                                                                \n",
      "                                                                                \n",
      "                                                                                \n",
      "                                                                                \n",
      "                                                                                \n",
      "                                                                                \n",
      "                                                                                \n",
      "                                                                                \n",
      "                                                                                \n",
      "                                                                                \n",
      "                                                                                \n",
      "                                                                                \n",
      "                                                                                \n",
      "                                                                                \n",
      "                                                                                \n",
      "                                                                                \n",
      "                                                                                \n",
      "                                                                                \n",
      "                                                                                \n",
      "                                                                                \n",
      "                                                                                \n",
      "                                                                                \n",
      "                                                                                \n",
      "                                                                                \n",
      "                                                                                \n",
      "                                                                                \n",
      "                                                                                \n",
      "                                                                                \n",
      "                                                                                \n",
      "                                                                                \n",
      "                                                                                \n",
      "                                                                                \n",
      "                                                                                \n",
      "                                                                                \n",
      "                                                                                \n",
      "                                                                                \n",
      "                                                                                \n",
      "                                                                                \n",
      "                                                                                \n",
      "                                                                                \n",
      "                                                                                \n",
      "                                                                                \n",
      "                                                                                \n",
      "                                                                                \n",
      "                                                                                \n",
      "                                                                                \n",
      "                                                                                \n",
      "                                                                                \n",
      "                                                                                \n",
      "                                                                                \n",
      "                                                                                \n",
      "                                                                                \n",
      "                                                                                \n",
      "                                                                                \n",
      "                                                                                \n",
      "                                                                                \n",
      "                                                                                \n",
      "                                                                                \n",
      "                                                                                \n",
      "                                                                                \n",
      "                                                                                \n",
      "                                                                                \n",
      "                                                                                \n",
      "                                                                                \n",
      "                                                                                \n",
      "                                                                                \n",
      "                                                                                \n",
      "                                                                                \n",
      "                                                                                \n",
      "                                                                                \n",
      "                                                                                \n",
      "                                                                                \n",
      "                                                                                \n",
      "                                                                                \n",
      "                                                                                \n",
      "                                                                                \n",
      "                                                                                \n",
      "                                                                                \n",
      "                                                                                \n",
      "                                                                                \n",
      "                                                                                \n",
      "                                                                                \n",
      "                                                                                \n",
      "                                                                                \n",
      "                                                                                \n",
      "                                                                                \n",
      "                                                                                \n",
      "                                                                                \n",
      "                                                                                \n",
      "                                                                                \n",
      "                                                                                \n",
      "                                                                                \n",
      "                                                                                \n",
      "                                                                                \n",
      "                                                                                \n",
      "                                                                                \n",
      "                                                                                \n",
      "                                                                                \n",
      "                                                                                \n",
      "                                                                                \n",
      "                                                                                \n",
      "                                                                                \n",
      "                                                                                \n",
      "                                                                                \n",
      "                                                                                \n",
      "                                                                                \n",
      "                                                                                \n",
      "                                                                                \n",
      "                                                                                \n",
      "                                                                                \n",
      "                                                                                \n",
      "                                                                                \n",
      "                                                                                \n",
      "                                                                                \n",
      "                                                                                \n",
      "                                                                                \n",
      "                                                                                \n",
      "                                                                                \n",
      "                                                                                \n",
      "                                                                                \n",
      "                                                                                \n",
      "                                                                                \n",
      "                                                                                \n",
      "                                                                                \n",
      "                                                                                \n",
      "                                                                                \n",
      "                                                                                \n",
      "                                                                                \n",
      "                                                                                \n",
      "                                                                                \n",
      "                                                                                \n",
      "                                                                                \n",
      "                                                                                \n",
      "                                                                                \n",
      "                                                                                \n",
      "                                                                                \n",
      "                                                                                \n",
      "                                                                                \n",
      "                                                                                \n",
      "                                                                                \n",
      "                                                                                \n",
      "                                                                                \n",
      "                                                                                >\n"
     ]
    },
    {
     "name": "stderr",
     "output_type": "stream",
     "text": [
      "WARNING: VerifyWarning: Verification reported errors: [astropy.io.fits.verify]\n",
      "WARNING: VerifyWarning: Card 'ESO DET TLM2 END' is not FITS standard (invalid value string: '3.500e-05 / Telemetry value at read completion').  Fixed 'ESO DET TLM2 END' card to meet the FITS standard. [astropy.io.fits.verify]\n",
      "WARNING: VerifyWarning: Note: astropy.io.fits uses zero-based indexing.\n",
      " [astropy.io.fits.verify]\n",
      "WARNING: VerifyWarning: Card 'ESO DET TLM2 START' is not FITS standard (invalid value string: '3.500e-05 / Telemetry value at read start').  Fixed 'ESO DET TLM2 START' card to meet the FITS standard. [astropy.io.fits.verify]\n"
     ]
    }
   ],
   "execution_count": 206
  },
  {
   "metadata": {
    "ExecuteTime": {
     "end_time": "2024-10-06T19:20:16.010755Z",
     "start_time": "2024-10-06T19:20:15.639539Z"
    }
   },
   "cell_type": "code",
   "source": [
    "good_data = pd.read_csv('good_data.csv')\n",
    "\n",
    "# Create a histogram and boxplot of the ang_vel[deg/s] column in a subplot\n",
    "fig, ax = plt.subplots(1, 2)\n",
    "good_data['ang_vel[deg/s]'].hist(ax=ax[0], bins=50)\n",
    "good_data['ang_vel[deg/s]'].plot(kind='box', ax=ax[1])\n",
    "fig.suptitle('ang_vel[deg/s]')\n",
    "plt.show()\n",
    "\n",
    "# Create a histogram and boxplot of the log(ang_vel[deg/s]) column\n",
    "log_ang_vel = np.log10(good_data['ang_vel[deg/s]'])\n",
    "fig, ax = plt.subplots(1, 2)\n",
    "log_ang_vel.hist(ax=ax[0], bins=50)\n",
    "log_ang_vel.plot(kind='box', ax=ax[1])\n",
    "fig.suptitle('log(ang_vel[deg/s])')\n",
    "plt.show()"
   ],
   "id": "49c8882c61ad0987",
   "outputs": [
    {
     "data": {
      "text/plain": [
       "<Figure size 640x480 with 2 Axes>"
      ],
      "image/png": "[encoded data removed]"
     },
     "metadata": {},
     "output_type": "display_data"
    },
    {
     "data": {
      "text/plain": [
       "<Figure size 640x480 with 2 Axes>"
      ],
      "image/png": "[encoded data removed]"
     },
     "metadata": {},
     "output_type": "display_data"
    }
   ],
   "execution_count": 243
  },
  {
   "metadata": {
    "ExecuteTime": {
     "end_time": "2024-10-06T19:19:51.037288Z",
     "start_time": "2024-10-06T19:19:50.851732Z"
    }
   },
   "cell_type": "code",
   "source": [
    "# Scale and translate log_ang_vel so the mean is 0 and the standard deviation is 1\n",
    "print(log_ang_vel.mean())\n",
    "print(log_ang_vel.std())\n",
    "log_ang_vel_standardized = (log_ang_vel - log_ang_vel.mean()) / log_ang_vel.std()\n",
    "print(log_ang_vel_standardized.mean())\n",
    "# Create a histogram and boxplot of the scaled log(ang_vel[deg/s]) column\n",
    "fig, ax = plt.subplots(1, 2)\n",
    "log_ang_vel_standardized.hist(ax=ax[0], bins=50)\n",
    "log_ang_vel_standardized.plot(kind='box', ax=ax[1])\n",
    "fig.suptitle('log(ang_vel[deg/s]) standardized')\n",
    "plt.show()"
   ],
   "id": "7e051ec6cdbaaf23",
   "outputs": [
    {
     "name": "stdout",
     "output_type": "stream",
     "text": [
      "-1.3698193225848714\n",
      "0.7541695564718683\n",
      "9.593825968068863e-17\n"
     ]
    },
    {
     "data": {
      "text/plain": [
       "<Figure size 640x480 with 2 Axes>"
      ],
      "image/png": "[encoded data removed]"
     },
     "metadata": {},
     "output_type": "display_data"
    }
   ],
   "execution_count": 241
  },
  {
   "metadata": {
    "ExecuteTime": {
     "end_time": "2024-10-06T19:27:46.044821Z",
     "start_time": "2024-10-06T19:27:40.935290Z"
    }
   },
   "cell_type": "code",
   "source": [
    "# Look at the distribution of fits metadata\n",
    "good_data = pd.read_csv('good_data.csv')\n",
    "keys_of_interest = ['HIERARCH ESO TEL AMBI IRSKY TEMP',\n",
    "                    'HIERARCH ESO TEL AMBI TEMP',\n",
    "                    'HIERARCH ESO TEL AMBI WINDDIR',\n",
    "                    'HIERARCH ESO TEL AMBI WINDSP'\n",
    "                    'HIERARCH ESO TEL AMBI PRES START',\n",
    "                    'HIERARCH ESO TEL AMBI FWHM START',\n",
    "                    'HIERARCH ESO TEL AMBI FWHM END',\n",
    "                    'HIERARCH ESO TEL AMBI RHUM',\n",
    "                    'HIERARCH ESO TEL AMBI TAU0'\n",
    "]\n",
    "key_data = {}                \n",
    "\n",
    "for idx, row in good_data.iterrows():\n",
    "    with fits.open(utils.get_fits_path(row['file_name'], True)) as hdul:\n",
    "        for key in keys_of_interest:\n",
    "            if key in hdul[0].header:\n",
    "                if key in key_data.keys():\n",
    "                    key_data[key].append(hdul[0].header[key])\n",
    "                else:\n",
    "                    key_data[key] = [hdul[0].header[key]]\n",
    "\n",
    "# Show histograms for each key\n",
    "for key, data in key_data.items():\n",
    "    plt.hist(data, bins=50)\n",
    "    plt.title(key)\n",
    "    plt.show()"
   ],
   "id": "dbf70fd91b232a8c",
   "outputs": [
    {
     "data": {
      "text/plain": [
       "<Figure size 640x480 with 1 Axes>"
      ],
      "image/png": "[encoded data removed]"
     },
     "metadata": {},
     "output_type": "display_data"
    },
    {
     "data": {
      "text/plain": [
       "<Figure size 640x480 with 1 Axes>"
      ],
      "image/png": "[encoded data removed]"
     },
     "metadata": {},
     "output_type": "display_data"
    },
    {
     "data": {
      "text/plain": [
       "<Figure size 640x480 with 1 Axes>"
      ],
      "image/png": "[encoded data removed]"
     },
     "metadata": {},
     "output_type": "display_data"
    },
    {
     "data": {
      "text/plain": [
       "<Figure size 640x480 with 1 Axes>"
      ],
      "image/png": "[encoded data removed]"
     },
     "metadata": {},
     "output_type": "display_data"
    },
    {
     "data": {
      "text/plain": [
       "<Figure size 640x480 with 1 Axes>"
      ],
      "image/png": "[encoded data removed]"
     },
     "metadata": {},
     "output_type": "display_data"
    },
    {
     "data": {
      "text/plain": [
       "<Figure size 640x480 with 1 Axes>"
      ],
      "image/png": "[encoded data removed]"
     },
     "metadata": {},
     "output_type": "display_data"
    },
    {
     "data": {
      "text/plain": [
       "<Figure size 640x480 with 1 Axes>"
      ],
      "image/png": "[encoded data removed]"
     },
     "metadata": {},
     "output_type": "display_data"
    }
   ],
   "execution_count": 245
  },
  {
   "metadata": {
    "ExecuteTime": {
     "end_time": "2024-10-06T20:04:39.560055Z",
     "start_time": "2024-10-06T19:58:09.473539Z"
    }
   },
   "cell_type": "code",
   "source": [
    "\n",
    "good_data = pd.read_csv('good_data.csv')\n",
    "\n",
    "# Get all of the images and create a histogram of the total pixel values of all images\n",
    "with fits.open(utils.get_fits_path(good_data.iloc[0]['file_name'], True)) as hdul:\n",
    "    (height, width) = hdul[1].data.shape\n",
    "pixels = np.zeros((1,))\n",
    "\n",
    "for(idx, streak) in tqdm(good_data.iterrows()):\n",
    "    streakName = streak[\"file_name\"]\n",
    "    extension = streak[\"extension\"]\n",
    "    with fits.open(utils.get_fits_path(streakName, True)) as hdul:\n",
    "        streak_x_start = streak[\"x_start[px]\"]\n",
    "        streak_y_start = streak[\"y_start[px]\"]\n",
    "        streak_x_end = streak[\"x_end[px]\"]\n",
    "        streak_y_end = streak[\"y_end[px]\"]\n",
    "        cut_flat = sc.cut_around_line(hdul[extension].data, (streak_x_start, streak_y_start), (streak_x_end, streak_y_end), 32).flatten()\n",
    "        pixels = np.concatenate((pixels, cut_flat))\n",
    "\n",
    "                \n",
    "        "
   ],
   "id": "4ae1086d366e720e",
   "outputs": [
    {
     "name": "stderr",
     "output_type": "stream",
     "text": [
      "1185it [06:28,  3.05it/s]\n"
     ]
    },
    {
     "data": {
      "text/plain": [
       "Text(0.5, 1.0, 'Pixel Value Histogram')"
      ]
     },
     "execution_count": 248,
     "metadata": {},
     "output_type": "execute_result"
    },
    {
     "data": {
      "text/plain": [
       "<Figure size 640x480 with 1 Axes>"
      ],
      "image/png": "[encoded data removed]"
     },
     "metadata": {},
     "output_type": "display_data"
    }
   ],
   "execution_count": 248
  },
  {
   "metadata": {
    "ExecuteTime": {
     "end_time": "2024-10-07T06:35:53.502182Z",
     "start_time": "2024-10-07T06:35:51.551585Z"
    }
   },
   "cell_type": "code",
   "source": [
    "plt.hist(pixels, bins=512)\n",
    "plt.title(\"Pixel Value Histogram\")\n"
   ],
   "id": "a43bd4440b2ff166",
   "outputs": [
    {
     "data": {
      "text/plain": [
       "Text(0.5, 1.0, 'Pixel Value Histogram')"
      ]
     },
     "execution_count": 272,
     "metadata": {},
     "output_type": "execute_result"
    },
    {
     "data": {
      "text/plain": [
       "<Figure size 640x480 with 1 Axes>"
      ],
      "image/png": "[encoded data removed]"
     },
     "metadata": {},
     "output_type": "display_data"
    }
   ],
   "execution_count": 272
  },
  {
   "metadata": {
    "ExecuteTime": {
     "end_time": "2024-10-07T06:35:13.019005Z",
     "start_time": "2024-10-07T06:35:08.197703Z"
    }
   },
   "cell_type": "code",
   "source": [
    "\n",
    "# Get indices of non-zero elements\n",
    "nonzero_indices = np.nonzero(pixels)\n",
    "\n",
    "# Remove zero-valued elements\n",
    "pixels_nonzero = pixels[nonzero_indices]\n",
    "log_pixels_nonzero = np.log10(pixels_nonzero)\n",
    "\n",
    "# Create a histogram and boxplot of the log of the non-zero pixel values\n",
    "fig, ax = plt.subplots(1, 2)\n",
    "ax[0].hist(log_pixels_nonzero, bins=500)\n",
    "ax[1].boxplot(log_pixels_nonzero)\n",
    "fig.suptitle('log(pixel values) non-zero')\n",
    "plt.show()"
   ],
   "id": "77777a5608089959",
   "outputs": [
    {
     "name": "stderr",
     "output_type": "stream",
     "text": [
      "/tmp/ipykernel_295342/2848422805.py:6: RuntimeWarning: invalid value encountered in log10\n",
      "  log_pixels_nonzero = np.log10(pixels_nonzero)\n"
     ]
    },
    {
     "data": {
      "text/plain": [
       "<Figure size 640x480 with 2 Axes>"
      ],
      "image/png": "[encoded data removed]"
     },
     "metadata": {},
     "output_type": "display_data"
    }
   ],
   "execution_count": 270
  },
  {
   "metadata": {
    "ExecuteTime": {
     "end_time": "2024-10-07T06:12:06.703191Z",
     "start_time": "2024-10-07T06:11:52.068317Z"
    }
   },
   "cell_type": "code",
   "source": [
    "pixels_standardized = (log_pixels_nonzero - log_pixels_nonzero.mean()) / log_pixels_nonzero.std()\n",
    "fig, ax = plt.subplots(1, 2)\n",
    "ax[0].hist(pixels_standardized, bins=100)\n",
    "ax[1].boxplot(pixels_standardized)\n",
    "fig.suptitle('log(pixel values) standardized')\n",
    "plt.show()"
   ],
   "id": "42c54b569d561eda",
   "outputs": [
    {
     "name": "stderr",
     "output_type": "stream",
     "text": [
      "/home/dofri/miniconda3/envs/semester_project/lib/python3.10/site-packages/matplotlib/axes/_axes.py:6973: RuntimeWarning: All-NaN slice encountered\n",
      "  xmin = min(xmin, np.nanmin(xi))\n",
      "/home/dofri/miniconda3/envs/semester_project/lib/python3.10/site-packages/matplotlib/axes/_axes.py:6974: RuntimeWarning: All-NaN slice encountered\n",
      "  xmax = max(xmax, np.nanmax(xi))\n"
     ]
    },
    {
     "ename": "ValueError",
     "evalue": "autodetected range of [nan, nan] is not finite",
     "output_type": "error",
     "traceback": [
      "\u001B[0;31m---------------------------------------------------------------------------\u001B[0m",
      "\u001B[0;31mValueError\u001B[0m                                Traceback (most recent call last)",
      "Cell \u001B[0;32mIn[259], line 3\u001B[0m\n\u001B[1;32m      1\u001B[0m pixels_standardized \u001B[38;5;241m=\u001B[39m (log_pixels_nonzero \u001B[38;5;241m-\u001B[39m log_pixels_nonzero\u001B[38;5;241m.\u001B[39mmean()) \u001B[38;5;241m/\u001B[39m log_pixels_nonzero\u001B[38;5;241m.\u001B[39mstd()\n\u001B[1;32m      2\u001B[0m fig, ax \u001B[38;5;241m=\u001B[39m plt\u001B[38;5;241m.\u001B[39msubplots(\u001B[38;5;241m1\u001B[39m, \u001B[38;5;241m2\u001B[39m)\n\u001B[0;32m----> 3\u001B[0m \u001B[43max\u001B[49m\u001B[43m[\u001B[49m\u001B[38;5;241;43m0\u001B[39;49m\u001B[43m]\u001B[49m\u001B[38;5;241;43m.\u001B[39;49m\u001B[43mhist\u001B[49m\u001B[43m(\u001B[49m\u001B[43mpixels_standardized\u001B[49m\u001B[43m,\u001B[49m\u001B[43m \u001B[49m\u001B[43mbins\u001B[49m\u001B[38;5;241;43m=\u001B[39;49m\u001B[38;5;241;43m100\u001B[39;49m\u001B[43m)\u001B[49m\n\u001B[1;32m      4\u001B[0m ax[\u001B[38;5;241m1\u001B[39m]\u001B[38;5;241m.\u001B[39mboxplot(pixels_standardized)\n\u001B[1;32m      5\u001B[0m fig\u001B[38;5;241m.\u001B[39msuptitle(\u001B[38;5;124m'\u001B[39m\u001B[38;5;124mlog(pixel values) standardized\u001B[39m\u001B[38;5;124m'\u001B[39m)\n",
      "File \u001B[0;32m~/miniconda3/envs/semester_project/lib/python3.10/site-packages/matplotlib/__init__.py:1473\u001B[0m, in \u001B[0;36m_preprocess_data.<locals>.inner\u001B[0;34m(ax, data, *args, **kwargs)\u001B[0m\n\u001B[1;32m   1470\u001B[0m \u001B[38;5;129m@functools\u001B[39m\u001B[38;5;241m.\u001B[39mwraps(func)\n\u001B[1;32m   1471\u001B[0m \u001B[38;5;28;01mdef\u001B[39;00m \u001B[38;5;21minner\u001B[39m(ax, \u001B[38;5;241m*\u001B[39margs, data\u001B[38;5;241m=\u001B[39m\u001B[38;5;28;01mNone\u001B[39;00m, \u001B[38;5;241m*\u001B[39m\u001B[38;5;241m*\u001B[39mkwargs):\n\u001B[1;32m   1472\u001B[0m     \u001B[38;5;28;01mif\u001B[39;00m data \u001B[38;5;129;01mis\u001B[39;00m \u001B[38;5;28;01mNone\u001B[39;00m:\n\u001B[0;32m-> 1473\u001B[0m         \u001B[38;5;28;01mreturn\u001B[39;00m \u001B[43mfunc\u001B[49m\u001B[43m(\u001B[49m\n\u001B[1;32m   1474\u001B[0m \u001B[43m            \u001B[49m\u001B[43max\u001B[49m\u001B[43m,\u001B[49m\n\u001B[1;32m   1475\u001B[0m \u001B[43m            \u001B[49m\u001B[38;5;241;43m*\u001B[39;49m\u001B[38;5;28;43mmap\u001B[39;49m\u001B[43m(\u001B[49m\u001B[43msanitize_sequence\u001B[49m\u001B[43m,\u001B[49m\u001B[43m \u001B[49m\u001B[43margs\u001B[49m\u001B[43m)\u001B[49m\u001B[43m,\u001B[49m\n\u001B[1;32m   1476\u001B[0m \u001B[43m            \u001B[49m\u001B[38;5;241;43m*\u001B[39;49m\u001B[38;5;241;43m*\u001B[39;49m\u001B[43m{\u001B[49m\u001B[43mk\u001B[49m\u001B[43m:\u001B[49m\u001B[43m \u001B[49m\u001B[43msanitize_sequence\u001B[49m\u001B[43m(\u001B[49m\u001B[43mv\u001B[49m\u001B[43m)\u001B[49m\u001B[43m \u001B[49m\u001B[38;5;28;43;01mfor\u001B[39;49;00m\u001B[43m \u001B[49m\u001B[43mk\u001B[49m\u001B[43m,\u001B[49m\u001B[43m \u001B[49m\u001B[43mv\u001B[49m\u001B[43m \u001B[49m\u001B[38;5;129;43;01min\u001B[39;49;00m\u001B[43m \u001B[49m\u001B[43mkwargs\u001B[49m\u001B[38;5;241;43m.\u001B[39;49m\u001B[43mitems\u001B[49m\u001B[43m(\u001B[49m\u001B[43m)\u001B[49m\u001B[43m}\u001B[49m\u001B[43m)\u001B[49m\n\u001B[1;32m   1478\u001B[0m     bound \u001B[38;5;241m=\u001B[39m new_sig\u001B[38;5;241m.\u001B[39mbind(ax, \u001B[38;5;241m*\u001B[39margs, \u001B[38;5;241m*\u001B[39m\u001B[38;5;241m*\u001B[39mkwargs)\n\u001B[1;32m   1479\u001B[0m     auto_label \u001B[38;5;241m=\u001B[39m (bound\u001B[38;5;241m.\u001B[39marguments\u001B[38;5;241m.\u001B[39mget(label_namer)\n\u001B[1;32m   1480\u001B[0m                   \u001B[38;5;129;01mor\u001B[39;00m bound\u001B[38;5;241m.\u001B[39mkwargs\u001B[38;5;241m.\u001B[39mget(label_namer))\n",
      "File \u001B[0;32m~/miniconda3/envs/semester_project/lib/python3.10/site-packages/matplotlib/axes/_axes.py:7001\u001B[0m, in \u001B[0;36mAxes.hist\u001B[0;34m(self, x, bins, range, density, weights, cumulative, bottom, histtype, align, orientation, rwidth, log, color, label, stacked, **kwargs)\u001B[0m\n\u001B[1;32m   6997\u001B[0m \u001B[38;5;66;03m# Loop through datasets\u001B[39;00m\n\u001B[1;32m   6998\u001B[0m \u001B[38;5;28;01mfor\u001B[39;00m i \u001B[38;5;129;01min\u001B[39;00m \u001B[38;5;28mrange\u001B[39m(nx):\n\u001B[1;32m   6999\u001B[0m     \u001B[38;5;66;03m# this will automatically overwrite bins,\u001B[39;00m\n\u001B[1;32m   7000\u001B[0m     \u001B[38;5;66;03m# so that each histogram uses the same bins\u001B[39;00m\n\u001B[0;32m-> 7001\u001B[0m     m, bins \u001B[38;5;241m=\u001B[39m \u001B[43mnp\u001B[49m\u001B[38;5;241;43m.\u001B[39;49m\u001B[43mhistogram\u001B[49m\u001B[43m(\u001B[49m\u001B[43mx\u001B[49m\u001B[43m[\u001B[49m\u001B[43mi\u001B[49m\u001B[43m]\u001B[49m\u001B[43m,\u001B[49m\u001B[43m \u001B[49m\u001B[43mbins\u001B[49m\u001B[43m,\u001B[49m\u001B[43m \u001B[49m\u001B[43mweights\u001B[49m\u001B[38;5;241;43m=\u001B[39;49m\u001B[43mw\u001B[49m\u001B[43m[\u001B[49m\u001B[43mi\u001B[49m\u001B[43m]\u001B[49m\u001B[43m,\u001B[49m\u001B[43m \u001B[49m\u001B[38;5;241;43m*\u001B[39;49m\u001B[38;5;241;43m*\u001B[39;49m\u001B[43mhist_kwargs\u001B[49m\u001B[43m)\u001B[49m\n\u001B[1;32m   7002\u001B[0m     tops\u001B[38;5;241m.\u001B[39mappend(m)\n\u001B[1;32m   7003\u001B[0m tops \u001B[38;5;241m=\u001B[39m np\u001B[38;5;241m.\u001B[39marray(tops, \u001B[38;5;28mfloat\u001B[39m)  \u001B[38;5;66;03m# causes problems later if it's an int\u001B[39;00m\n",
      "File \u001B[0;32m~/.local/lib/python3.10/site-packages/numpy/lib/_histograms_impl.py:797\u001B[0m, in \u001B[0;36mhistogram\u001B[0;34m(a, bins, range, density, weights)\u001B[0m\n\u001B[1;32m    688\u001B[0m \u001B[38;5;250m\u001B[39m\u001B[38;5;124mr\u001B[39m\u001B[38;5;124;03m\"\"\"\u001B[39;00m\n\u001B[1;32m    689\u001B[0m \u001B[38;5;124;03mCompute the histogram of a dataset.\u001B[39;00m\n\u001B[1;32m    690\u001B[0m \n\u001B[0;32m   (...)\u001B[0m\n\u001B[1;32m    793\u001B[0m \n\u001B[1;32m    794\u001B[0m \u001B[38;5;124;03m\"\"\"\u001B[39;00m\n\u001B[1;32m    795\u001B[0m a, weights \u001B[38;5;241m=\u001B[39m _ravel_and_check_weights(a, weights)\n\u001B[0;32m--> 797\u001B[0m bin_edges, uniform_bins \u001B[38;5;241m=\u001B[39m \u001B[43m_get_bin_edges\u001B[49m\u001B[43m(\u001B[49m\u001B[43ma\u001B[49m\u001B[43m,\u001B[49m\u001B[43m \u001B[49m\u001B[43mbins\u001B[49m\u001B[43m,\u001B[49m\u001B[43m \u001B[49m\u001B[38;5;28;43mrange\u001B[39;49m\u001B[43m,\u001B[49m\u001B[43m \u001B[49m\u001B[43mweights\u001B[49m\u001B[43m)\u001B[49m\n\u001B[1;32m    799\u001B[0m \u001B[38;5;66;03m# Histogram is an integer or a float array depending on the weights.\u001B[39;00m\n\u001B[1;32m    800\u001B[0m \u001B[38;5;28;01mif\u001B[39;00m weights \u001B[38;5;129;01mis\u001B[39;00m \u001B[38;5;28;01mNone\u001B[39;00m:\n",
      "File \u001B[0;32m~/.local/lib/python3.10/site-packages/numpy/lib/_histograms_impl.py:430\u001B[0m, in \u001B[0;36m_get_bin_edges\u001B[0;34m(a, bins, range, weights)\u001B[0m\n\u001B[1;32m    427\u001B[0m     \u001B[38;5;28;01mif\u001B[39;00m n_equal_bins \u001B[38;5;241m<\u001B[39m \u001B[38;5;241m1\u001B[39m:\n\u001B[1;32m    428\u001B[0m         \u001B[38;5;28;01mraise\u001B[39;00m \u001B[38;5;167;01mValueError\u001B[39;00m(\u001B[38;5;124m'\u001B[39m\u001B[38;5;124m`bins` must be positive, when an integer\u001B[39m\u001B[38;5;124m'\u001B[39m)\n\u001B[0;32m--> 430\u001B[0m     first_edge, last_edge \u001B[38;5;241m=\u001B[39m \u001B[43m_get_outer_edges\u001B[49m\u001B[43m(\u001B[49m\u001B[43ma\u001B[49m\u001B[43m,\u001B[49m\u001B[43m \u001B[49m\u001B[38;5;28;43mrange\u001B[39;49m\u001B[43m)\u001B[49m\n\u001B[1;32m    432\u001B[0m \u001B[38;5;28;01melif\u001B[39;00m np\u001B[38;5;241m.\u001B[39mndim(bins) \u001B[38;5;241m==\u001B[39m \u001B[38;5;241m1\u001B[39m:\n\u001B[1;32m    433\u001B[0m     bin_edges \u001B[38;5;241m=\u001B[39m np\u001B[38;5;241m.\u001B[39masarray(bins)\n",
      "File \u001B[0;32m~/.local/lib/python3.10/site-packages/numpy/lib/_histograms_impl.py:323\u001B[0m, in \u001B[0;36m_get_outer_edges\u001B[0;34m(a, range)\u001B[0m\n\u001B[1;32m    321\u001B[0m     first_edge, last_edge \u001B[38;5;241m=\u001B[39m a\u001B[38;5;241m.\u001B[39mmin(), a\u001B[38;5;241m.\u001B[39mmax()\n\u001B[1;32m    322\u001B[0m     \u001B[38;5;28;01mif\u001B[39;00m \u001B[38;5;129;01mnot\u001B[39;00m (np\u001B[38;5;241m.\u001B[39misfinite(first_edge) \u001B[38;5;129;01mand\u001B[39;00m np\u001B[38;5;241m.\u001B[39misfinite(last_edge)):\n\u001B[0;32m--> 323\u001B[0m         \u001B[38;5;28;01mraise\u001B[39;00m \u001B[38;5;167;01mValueError\u001B[39;00m(\n\u001B[1;32m    324\u001B[0m             \u001B[38;5;124m\"\u001B[39m\u001B[38;5;124mautodetected range of [\u001B[39m\u001B[38;5;132;01m{}\u001B[39;00m\u001B[38;5;124m, \u001B[39m\u001B[38;5;132;01m{}\u001B[39;00m\u001B[38;5;124m] is not finite\u001B[39m\u001B[38;5;124m\"\u001B[39m\u001B[38;5;241m.\u001B[39mformat(first_edge, last_edge))\n\u001B[1;32m    326\u001B[0m \u001B[38;5;66;03m# expand empty range to avoid divide by zero\u001B[39;00m\n\u001B[1;32m    327\u001B[0m \u001B[38;5;28;01mif\u001B[39;00m first_edge \u001B[38;5;241m==\u001B[39m last_edge:\n",
      "\u001B[0;31mValueError\u001B[0m: autodetected range of [nan, nan] is not finite"
     ]
    },
    {
     "data": {
      "text/plain": [
       "<Figure size 640x480 with 2 Axes>"
      ],
      "image/png": "[encoded data removed]"
     },
     "metadata": {},
     "output_type": "display_data"
    }
   ],
   "execution_count": 259
  },
  {
   "metadata": {
    "ExecuteTime": {
     "end_time": "2024-10-07T06:39:56.662157Z",
     "start_time": "2024-10-07T06:39:55.483998Z"
    }
   },
   "cell_type": "code",
   "source": [
    "\n",
    "max_pixel = pixels.max()\n",
    "min_pixel = pixels.min()\n",
    "mean_pixel = pixels.mean()\n",
    "median_pixel = np.median(pixels)\n",
    "std_pixel = pixels.std()\n",
    "max_count = np.count_nonzero(pixels == max_pixel)\n",
    "min_count = np.count_nonzero(pixels == min_pixel)\n",
    "negative_count = np.count_nonzero(pixels < 0)\n",
    "print(f\"Max pixel value: {max_pixel}, count: {max_count}\")\n",
    "print(f\"Min pixel value: {min_pixel}, count: {min_count}\")\n",
    "print(f\"Negative pixel value count: {negative_count}. That's {negative_count / pixels.size * 100}% of the pixels.\")\n",
    "print(f\"Mean pixel value: {mean_pixel}\")\n",
    "print(f\"Median pixel value: {median_pixel}\")\n",
    "print(f\"Standard deviation of pixel values: {std_pixel}\")"
   ],
   "id": "78be15de8f1a5f18",
   "outputs": [
    {
     "name": "stdout",
     "output_type": "stream",
     "text": [
      "Max pixel value: 65535.0, count: 10947\n",
      "Min pixel value: -9787.46875, count: 1\n",
      "Negative pixel value count: 50672. That's 0.05913454000611161% of the pixels.\n",
      "Mean pixel value: 1005.5413113987076\n",
      "Median pixel value: 609.0\n",
      "Standard deviation of pixel values: 1391.856173548186\n"
     ]
    }
   ],
   "execution_count": 274
  },
  {
   "metadata": {},
   "cell_type": "code",
   "source": [
    "good_data = pd.read_csv('good_data.csv')\n",
    "\n",
    "for idx, row in tqdm(good_data.iterrows(), total=good_data.shape[0]):\n",
    "    caught_error = False\n",
    "\n",
    "    with fits.open(utils.get_fits_path(row['file_name'], True), memmap=False, lazy_load_hdus=True) as hdul:\n",
    "        for i in range(1, len(hdul)):\n",
    "            try:\n",
    "                if hdul[i].header['BZERO'] != 32768.0:\n",
    "                    tqdm.write(\"HI\")\n",
    "            except KeyError:\n",
    "                print(f\"KeyError: {row['file_name']} - {i}\")\n",
    "                print(hdul[i].header)\n",
    "                caught_error = True\n",
    "                break\n",
    "    if caught_error:\n",
    "        break"
   ],
   "id": "68e9359677208715",
   "outputs": [],
   "execution_count": null
  },
  {
   "metadata": {
    "ExecuteTime": {
     "end_time": "2024-10-18T09:21:22.679356Z",
     "start_time": "2024-10-18T09:21:22.525740Z"
    }
   },
   "cell_type": "code",
   "source": [
    "# This cell verifies that all the files in the good_data.csv file are present in the directory structure\n",
    "good_data = pd.read_csv('good_data.csv')\n",
    "missing_files = []\n",
    "for idx, row in tqdm(good_data.iterrows(), total=good_data.shape[0]):\n",
    "    if not os.path.exists(utils.get_fits_path(row['file_name'], False)):\n",
    "        missing_files.append(row['file_name'])\n",
    "if len(missing_files) == 0:\n",
    "    print(\"All files are present.\")\n",
    "else:\n",
    "    print(f\"Missing files: {missing_files}\")"
   ],
   "id": "ac3afeeabe8ea233",
   "outputs": [
    {
     "name": "stderr",
     "output_type": "stream",
     "text": [
      "100%|██████████| 1185/1185 [00:00<00:00, 8185.40it/s]"
     ]
    },
    {
     "name": "stdout",
     "output_type": "stream",
     "text": [
      "All files are present.\n"
     ]
    },
    {
     "name": "stderr",
     "output_type": "stream",
     "text": [
      "\n"
     ]
    }
   ],
   "execution_count": 6
  },
  {
   "metadata": {
    "ExecuteTime": {
     "end_time": "2024-10-13T13:07:50.348633Z",
     "start_time": "2024-10-13T13:05:38.492774Z"
    }
   },
   "cell_type": "code",
   "source": [
    "good_data = pd.read_csv('good_data.csv')\n",
    "file_names = good_data['file_name'].unique()\n",
    "\n",
    "for idx, file_name in tqdm(enumerate(file_names[:50]), total=50):\n",
    "    with fits.open(utils.get_fits_path(file_name, True), mode='update', output_verify='fix', memmap=True) as hdul:\n",
    "        for i in range(1, len(hdul)):\n",
    "            if hdul[i].header['BZERO'] != 32768.0:\n",
    "                hdul[i].header['BZERO'] = 32768.0\n",
    "                hdul.flush()"
   ],
   "id": "c5d3143add7edccc",
   "outputs": [
    {
     "name": "stderr",
     "output_type": "stream",
     "text": [
      "100%|██████████| 50/50 [02:11<00:00,  2.64s/it]\n"
     ]
    }
   ],
   "execution_count": 60
  },
  {
   "metadata": {
    "ExecuteTime": {
     "end_time": "2024-10-13T13:10:00.737644Z",
     "start_time": "2024-10-13T13:07:50.351744Z"
    }
   },
   "cell_type": "code",
   "source": [
    "good_data = pd.read_csv('good_data.csv')\n",
    "file_names = good_data['file_name'].unique()\n",
    "\n",
    "for idx, file_name in tqdm(enumerate(file_names[50:100]), total=50):\n",
    "    with fits.open(utils.get_fits_path(file_name, True), mode='update', output_verify='fix', memmap=True) as hdul:\n",
    "        for i in range(1, len(hdul)):\n",
    "            if hdul[i].header['BZERO'] != 32768.0:\n",
    "                hdul[i].header['BZERO'] = 32768.0\n",
    "                hdul.flush()"
   ],
   "id": "e3abb5dd79dd9e01",
   "outputs": [
    {
     "name": "stderr",
     "output_type": "stream",
     "text": [
      "100%|██████████| 50/50 [02:10<00:00,  2.61s/it]\n"
     ]
    }
   ],
   "execution_count": 61
  },
  {
   "metadata": {
    "ExecuteTime": {
     "end_time": "2024-10-13T13:17:47.976207Z",
     "start_time": "2024-10-13T13:15:54.524551Z"
    }
   },
   "cell_type": "code",
   "source": [
    "good_data = pd.read_csv('good_data.csv')\n",
    "file_names = good_data['file_name'].unique()\n",
    "\n",
    "for idx, file_name in tqdm(enumerate(file_names[100:150]), total=50):\n",
    "    try:\n",
    "        with fits.open(utils.get_fits_path(file_name, True), mode='update', output_verify='fix', memmap=True) as hdul:\n",
    "            for i in range(1, len(hdul)):\n",
    "                if hdul[i].header['BZERO'] != 32768.0:\n",
    "                    hdul[i].header['BZERO'] = 32768.0\n",
    "                    hdul.flush()\n",
    "    except Exception as e:\n",
    "        print(f\"Error in file {file_name}: {e}\")"
   ],
   "id": "c3622b5dcbabfc91",
   "outputs": [
    {
     "name": "stderr",
     "output_type": "stream",
     "text": [
      " 66%|██████▌   | 33/50 [01:10<00:23,  1.37s/it]WARNING: File may have been truncated: actual file length (540704768) is smaller than the expected size (558587520) [astropy.io.fits.file]\n",
      "WARNING: VerifyWarning: Verification reported errors: [astropy.io.fits.verify]\n",
      "WARNING: VerifyWarning: HDU 0: [astropy.io.fits.verify]\n",
      "WARNING: VerifyWarning:     Card 60: [astropy.io.fits.verify]\n",
      "WARNING: VerifyWarning:         Card 'ESO DET TLM2 END' is not FITS standard (invalid value string: '4.500e-05 / Telemetry value at read completion').  Fixed 'ESO DET TLM2 END' card to meet the FITS standard. [astropy.io.fits.verify]\n",
      "WARNING: VerifyWarning:     Card 63: [astropy.io.fits.verify]\n",
      "WARNING: VerifyWarning:         Card 'ESO DET TLM2 START' is not FITS standard (invalid value string: '4.500e-05 / Telemetry value at read start').  Fixed 'ESO DET TLM2 START' card to meet the FITS standard. [astropy.io.fits.verify]\n",
      "WARNING: VerifyWarning: Note: astropy.io.fits uses zero-based indexing.\n",
      " [astropy.io.fits.verify]\n",
      " 68%|██████▊   | 34/50 [01:13<00:24,  1.56s/it]"
     ]
    },
    {
     "name": "stdout",
     "output_type": "stream",
     "text": [
      "Error in file OMEGA.2022-01-23T03:36:39.644.fits: buffer is too small for requested array\n"
     ]
    },
    {
     "name": "stderr",
     "output_type": "stream",
     "text": [
      " 72%|███████▏  | 36/50 [01:15<00:20,  1.50s/it]WARNING: VerifyWarning:         Card 'ESO DET TLM2 END' is not FITS standard (invalid value string: '4.400e-05 / Telemetry value at read completion').  Fixed 'ESO DET TLM2 END' card to meet the FITS standard. [astropy.io.fits.verify]\n",
      "WARNING: VerifyWarning:         Card 'ESO DET TLM2 START' is not FITS standard (invalid value string: '4.400e-05 / Telemetry value at read start').  Fixed 'ESO DET TLM2 START' card to meet the FITS standard. [astropy.io.fits.verify]\n",
      " 84%|████████▍ | 42/50 [01:32<00:19,  2.47s/it]WARNING: VerifyWarning:         Card 'ESO DET TLM2 END' is not FITS standard (invalid value string: '4.100e-05 / Telemetry value at read completion').  Fixed 'ESO DET TLM2 END' card to meet the FITS standard. [astropy.io.fits.verify]\n",
      "WARNING: VerifyWarning:         Card 'ESO DET TLM2 START' is not FITS standard (invalid value string: '4.100e-05 / Telemetry value at read start').  Fixed 'ESO DET TLM2 START' card to meet the FITS standard. [astropy.io.fits.verify]\n",
      " 86%|████████▌ | 43/50 [01:34<00:17,  2.57s/it]WARNING: VerifyWarning:         Card 'ESO DET TLM2 END' is not FITS standard (invalid value string: '3.900e-05 / Telemetry value at read completion').  Fixed 'ESO DET TLM2 END' card to meet the FITS standard. [astropy.io.fits.verify]\n",
      "WARNING: VerifyWarning:         Card 'ESO DET TLM2 START' is not FITS standard (invalid value string: '3.900e-05 / Telemetry value at read start').  Fixed 'ESO DET TLM2 START' card to meet the FITS standard. [astropy.io.fits.verify]\n",
      " 88%|████████▊ | 44/50 [01:37<00:15,  2.57s/it]WARNING: VerifyWarning:         Card 'ESO DET TLM2 END' is not FITS standard (invalid value string: '3.700e-05 / Telemetry value at read completion').  Fixed 'ESO DET TLM2 END' card to meet the FITS standard. [astropy.io.fits.verify]\n",
      "WARNING: VerifyWarning:         Card 'ESO DET TLM2 START' is not FITS standard (invalid value string: '3.700e-05 / Telemetry value at read start').  Fixed 'ESO DET TLM2 START' card to meet the FITS standard. [astropy.io.fits.verify]\n",
      " 94%|█████████▍| 47/50 [01:45<00:07,  2.61s/it]WARNING: VerifyWarning:         Card 'ESO DET TLM2 END' is not FITS standard (invalid value string: '3.800e-05 / Telemetry value at read completion').  Fixed 'ESO DET TLM2 END' card to meet the FITS standard. [astropy.io.fits.verify]\n",
      "WARNING: VerifyWarning:         Card 'ESO DET TLM2 START' is not FITS standard (invalid value string: '3.800e-05 / Telemetry value at read start').  Fixed 'ESO DET TLM2 START' card to meet the FITS standard. [astropy.io.fits.verify]\n",
      "100%|██████████| 50/50 [01:53<00:00,  2.27s/it]\n"
     ]
    }
   ],
   "execution_count": 63
  },
  {
   "metadata": {
    "ExecuteTime": {
     "end_time": "2024-10-13T13:56:25.303058Z",
     "start_time": "2024-10-13T13:56:22.604406Z"
    }
   },
   "cell_type": "code",
   "source": [
    "path = 'data/sandbox/OMEGA.2022-01-23T03:36:39.644.fits'\n",
    "with fits.open(path, mode='update', output_verify='fix') as hdul:\n",
    "    for i in range(1, len(hdul)):\n",
    "        if hdul[i].header['BZERO'] != 32768.0:\n",
    "            hdul[i].header['BZERO'] = 32768.0\n",
    "            hdul.flush()"
   ],
   "id": "387379847be0993d",
   "outputs": [],
   "execution_count": 87
  },
  {
   "metadata": {
    "ExecuteTime": {
     "end_time": "2024-10-13T15:08:32.045834Z",
     "start_time": "2024-10-13T15:06:55.951314Z"
    }
   },
   "cell_type": "code",
   "source": [
    "file_names = pd.read_csv('good_data.csv')['file_name'].unique()\n",
    "\n",
    "\n",
    "for file_name in tqdm(file_names, total=file_names.shape[0]):\n",
    "    drive1_filepath = utils.get_fits_path(file_name, True, drive=\"MedTina\")\n",
    "    drive2_filepath = utils.get_fits_path(file_name, True, drive=\"OBSERVATIONS\")\n",
    "    # Check if the filesize is the same\n",
    "    drive1_size = os.path.getsize(drive1_filepath)\n",
    "    drive2_size = os.path.getsize(drive2_filepath)\n",
    "    if drive1_size != drive2_size:\n",
    "        print(f\"File sizes do not match: {file_name}. MedTina: {drive1_size}, OBSERVATIONS: {drive2_size}\")\n",
    "    # Check if the files are the same\n",
    "    with open(drive1_filepath, 'rb') as file1, open(drive2_filepath, 'rb') as file2:\n",
    "        if file1.read() != file2.read():\n",
    "            print(f\"Files do not match: {file_name}\")"
   ],
   "id": "21d15a3eb8d0e20d",
   "outputs": [
    {
     "name": "stderr",
     "output_type": "stream",
     "text": [
      "  0%|          | 1/245 [00:07<30:55,  7.61s/it]"
     ]
    },
    {
     "name": "stdout",
     "output_type": "stream",
     "text": [
      "Files do not match: OMEGA.2022-01-02T00:35:59.042.astred.cal.fits\n"
     ]
    },
    {
     "name": "stderr",
     "output_type": "stream",
     "text": [
      "  1%|          | 2/245 [00:15<30:50,  7.62s/it]"
     ]
    },
    {
     "name": "stdout",
     "output_type": "stream",
     "text": [
      "Files do not match: OMEGA.2022-01-02T00:59:16.697.astred.cal.fits\n"
     ]
    },
    {
     "name": "stderr",
     "output_type": "stream",
     "text": [
      "  1%|          | 3/245 [00:22<30:51,  7.65s/it]"
     ]
    },
    {
     "name": "stdout",
     "output_type": "stream",
     "text": [
      "Files do not match: OMEGA.2022-01-02T03:19:53.631.astred.cal.fits\n"
     ]
    },
    {
     "name": "stderr",
     "output_type": "stream",
     "text": [
      "  2%|▏         | 4/245 [00:30<30:40,  7.64s/it]"
     ]
    },
    {
     "name": "stdout",
     "output_type": "stream",
     "text": [
      "Files do not match: OMEGA.2022-01-02T06:18:43.121.astred.cal.fits\n"
     ]
    },
    {
     "name": "stderr",
     "output_type": "stream",
     "text": [
      "  2%|▏         | 5/245 [00:37<30:08,  7.54s/it]"
     ]
    },
    {
     "name": "stdout",
     "output_type": "stream",
     "text": [
      "Files do not match: OMEGA.2022-01-02T06:30:52.304.astred.cal.fits\n"
     ]
    },
    {
     "name": "stderr",
     "output_type": "stream",
     "text": [
      "  2%|▏         | 6/245 [00:46<31:17,  7.85s/it]"
     ]
    },
    {
     "name": "stdout",
     "output_type": "stream",
     "text": [
      "Files do not match: OMEGA.2022-01-03T00:33:56.321.fits\n"
     ]
    },
    {
     "name": "stderr",
     "output_type": "stream",
     "text": [
      "  3%|▎         | 7/245 [00:54<31:51,  8.03s/it]"
     ]
    },
    {
     "name": "stdout",
     "output_type": "stream",
     "text": [
      "Files do not match: OMEGA.2022-01-03T01:11:55.387.fits\n"
     ]
    },
    {
     "name": "stderr",
     "output_type": "stream",
     "text": [
      "  3%|▎         | 8/245 [01:03<31:59,  8.10s/it]"
     ]
    },
    {
     "name": "stdout",
     "output_type": "stream",
     "text": [
      "Files do not match: OMEGA.2022-01-03T01:18:01.318.fits\n"
     ]
    },
    {
     "name": "stderr",
     "output_type": "stream",
     "text": [
      "  4%|▎         | 9/245 [01:11<31:56,  8.12s/it]"
     ]
    },
    {
     "name": "stdout",
     "output_type": "stream",
     "text": [
      "Files do not match: OMEGA.2022-01-03T02:20:08.139.fits\n"
     ]
    },
    {
     "name": "stderr",
     "output_type": "stream",
     "text": [
      "  4%|▍         | 10/245 [01:19<32:15,  8.24s/it]"
     ]
    },
    {
     "name": "stdout",
     "output_type": "stream",
     "text": [
      "Files do not match: OMEGA.2022-01-03T04:26:59.650.fits\n"
     ]
    },
    {
     "name": "stderr",
     "output_type": "stream",
     "text": [
      "  4%|▍         | 11/245 [01:27<32:05,  8.23s/it]"
     ]
    },
    {
     "name": "stdout",
     "output_type": "stream",
     "text": [
      "Files do not match: OMEGA.2022-01-03T07:26:28.711.fits\n"
     ]
    },
    {
     "name": "stderr",
     "output_type": "stream",
     "text": [
      "  4%|▍         | 11/245 [01:36<34:03,  8.73s/it]\n"
     ]
    },
    {
     "ename": "KeyboardInterrupt",
     "evalue": "",
     "output_type": "error",
     "traceback": [
      "\u001B[0;31m---------------------------------------------------------------------------\u001B[0m",
      "\u001B[0;31mKeyboardInterrupt\u001B[0m                         Traceback (most recent call last)",
      "Cell \u001B[0;32mIn[104], line 14\u001B[0m\n\u001B[1;32m     12\u001B[0m \u001B[38;5;66;03m# Check if the files are the same\u001B[39;00m\n\u001B[1;32m     13\u001B[0m \u001B[38;5;28;01mwith\u001B[39;00m \u001B[38;5;28mopen\u001B[39m(drive1_filepath, \u001B[38;5;124m'\u001B[39m\u001B[38;5;124mrb\u001B[39m\u001B[38;5;124m'\u001B[39m) \u001B[38;5;28;01mas\u001B[39;00m file1, \u001B[38;5;28mopen\u001B[39m(drive2_filepath, \u001B[38;5;124m'\u001B[39m\u001B[38;5;124mrb\u001B[39m\u001B[38;5;124m'\u001B[39m) \u001B[38;5;28;01mas\u001B[39;00m file2:\n\u001B[0;32m---> 14\u001B[0m     \u001B[38;5;28;01mif\u001B[39;00m file1\u001B[38;5;241m.\u001B[39mread() \u001B[38;5;241m!=\u001B[39m \u001B[43mfile2\u001B[49m\u001B[38;5;241;43m.\u001B[39;49m\u001B[43mread\u001B[49m\u001B[43m(\u001B[49m\u001B[43m)\u001B[49m:\n\u001B[1;32m     15\u001B[0m         \u001B[38;5;28mprint\u001B[39m(\u001B[38;5;124mf\u001B[39m\u001B[38;5;124m\"\u001B[39m\u001B[38;5;124mFiles do not match: \u001B[39m\u001B[38;5;132;01m{\u001B[39;00mfile_name\u001B[38;5;132;01m}\u001B[39;00m\u001B[38;5;124m\"\u001B[39m)\n",
      "\u001B[0;31mKeyboardInterrupt\u001B[0m: "
     ]
    }
   ],
   "execution_count": 104
  },
  {
   "metadata": {
    "ExecuteTime": {
     "end_time": "2024-10-18T10:17:41.656561Z",
     "start_time": "2024-10-18T10:17:41.651512Z"
    }
   },
   "cell_type": "code",
   "source": [
    "# Print the file differences\n",
    "file_name = \"OMEGA.2022-01-03T01:11:55.387.fits\"\n",
    "def compare_fits_files_by_path(file_path1, file_path2):\n",
    "    # Open the two fits files, iterate through the extensions and compare the data and headers\n",
    "    \n",
    "    with fits.open(file_path1, do_not_scale_image_data=False) as hdul1, fits.open(file_path2, do_not_scale_image_data=False) as hdul2:\n",
    "        for i in range(1,2):# len(hdul1)):\n",
    "            if not np.array_equal(hdul1[i].data, hdul2[i].data):\n",
    "                print(f\"Data in extension {i} does not match.\")\n",
    "            if hdul1[i].header != hdul2[i].header:\n",
    "                print(f\"Headers in extension {i} do not match.\")\n",
    "                keys1 = list(hdul1[i].header.keys())\n",
    "                keys2 = list(hdul2[i].header.keys())\n",
    "                if( keys1 != keys2):\n",
    "                    print(f\"Keys in extension {i} do not match.\")\n",
    "                keyMismatch = False\n",
    "                # for key in keys1:\n",
    "                #     if key not in keys2:\n",
    "                #         print(f\"Key: {key} not in file 2. Header {i}.\")\n",
    "                #         keyMismatch = True\n",
    "                # for key in keys2:\n",
    "                #     if key not in keys1:\n",
    "                #         print(f\"Key: {key} not in file 1. Header {i}.\")\n",
    "                #         keyMismatch = True\n",
    "                # if keyMismatch:\n",
    "                #     continue\n",
    "                # for key in hdul1[i].header.keys():\n",
    "                #     if hdul1[i].header[key] != hdul2[i].header[key] and key not in ['CHECKSUM', 'DATASUM']:\n",
    "                #         print(f\"Key: {key}, value1: {hdul1[i].header[key]}, value2: {hdul2[i].header[key]}\")\n",
    "\n",
    "\n",
    "def compare_fits_files(file_name):\n",
    "    drive1_filepath = utils.get_fits_path(file_name, True, drive=\"MedTina\")\n",
    "    drive2_filepath = utils.get_fits_path(file_name, True, drive=\"OBSERVATIONS\")\n",
    "    compare_fits_files_by_path(drive1_filepath, drive2_filepath)\n"
   ],
   "id": "9a2427639e32a62b",
   "outputs": [],
   "execution_count": 107
  },
  {
   "metadata": {
    "ExecuteTime": {
     "end_time": "2024-10-18T10:06:43.009656Z",
     "start_time": "2024-10-18T10:06:43.005488Z"
    }
   },
   "cell_type": "code",
   "source": [
    "def compare_fits_files_by_path_debugA(file_path1, file_path2):\n",
    "    # Open the two fits files, iterate through the extensions and compare the data and headers\n",
    "\n",
    "    with fits.open(file_path2, do_not_scale_image_data=False, lazy_load_hdus=False) as hdulist:\n",
    "        print(\"File: \" + file_path2)\n",
    "        hdu = hdulist[1]\n",
    "        # hdu.header.keys()\n",
    "        keys_a = list(hdu.header.keys())\n",
    "        keys_b = list(hdu.header.keys())\n",
    "        print(keys_a)\n",
    "        if keys_a != keys_b:\n",
    "            print(\"Weird\")\n",
    "            # Find the difference in keys\n",
    "            print(len(list(keys_a)))\n",
    "            print(len(list(keys_b)))\n",
    "            for key in keys_a:\n",
    "                if key not in keys_b:\n",
    "                    print(f\"Key: {key} not in file 2.\")\n",
    "            for key in keys_b:\n",
    "                if key not in keys_a:\n",
    "                    print(f\"Key: {key} not in file 1.\")\n",
    "            "
   ],
   "id": "550a022f3597cd8c",
   "outputs": [],
   "execution_count": 77
  },
  {
   "metadata": {
    "ExecuteTime": {
     "end_time": "2024-10-18T10:18:48.619356Z",
     "start_time": "2024-10-18T10:18:48.614667Z"
    }
   },
   "cell_type": "code",
   "source": [
    "# Print the file differences\n",
    "\n",
    "def compare_fits_files_by_path_debugB(file_path1, file_path2):\n",
    "    # Open the two fits files, iterate through the extensions and compare the data and headers\n",
    "\n",
    "    with fits.open(file_path1, do_not_scale_image_data=False) as hdul1, fits.open(file_path2, do_not_scale_image_data=False) as hdul2:\n",
    "        hdu1 = hdul1[1]\n",
    "        hdu2 = hdul2[1]\n",
    "        if not np.array_equal(hdul1[i].data, hdul2[i].data):\n",
    "            print(f\"Data in extension {1} does not match.\")\n",
    "\n",
    "        if hdu1.header != hdu2.header:\n",
    "            print(f\"Headers in extension {1} do not match.\")\n",
    "            keys1 = list(hdu1.header.keys())\n",
    "            keys2 = list(hdu2.header.keys())\n",
    "            if keys1 != keys2:\n",
    "                print(f\"Keys in extension {1} do not match.\")\n",
    "            for key in keys1:\n",
    "                if key not in keys2:\n",
    "                    print(f\"Key: {key} not in file 2.\")\n",
    "            for key in keys2:\n",
    "                if key not in keys1:\n",
    "                    print(f\"Key: {key} not in file 1.\")\n",
    "\n"
   ],
   "id": "7cc1c0c2097c1195",
   "outputs": [],
   "execution_count": 109
  },
  {
   "metadata": {
    "ExecuteTime": {
     "end_time": "2024-10-18T10:18:49.204354Z",
     "start_time": "2024-10-18T10:18:49.168265Z"
    }
   },
   "cell_type": "code",
   "source": "compare_fits_files_by_path_debugB(astred_path, astred_backup_path)\n",
   "id": "fac75f7527b378c3",
   "outputs": [
    {
     "ename": "NameError",
     "evalue": "name 'i' is not defined",
     "output_type": "error",
     "traceback": [
      "\u001B[0;31m---------------------------------------------------------------------------\u001B[0m",
      "\u001B[0;31mNameError\u001B[0m                                 Traceback (most recent call last)",
      "Cell \u001B[0;32mIn[110], line 1\u001B[0m\n\u001B[0;32m----> 1\u001B[0m \u001B[43mcompare_fits_files_by_path_debugB\u001B[49m\u001B[43m(\u001B[49m\u001B[43mastred_path\u001B[49m\u001B[43m,\u001B[49m\u001B[43m \u001B[49m\u001B[43mastred_backup_path\u001B[49m\u001B[43m)\u001B[49m\n",
      "Cell \u001B[0;32mIn[109], line 9\u001B[0m, in \u001B[0;36mcompare_fits_files_by_path_debugB\u001B[0;34m(file_path1, file_path2)\u001B[0m\n\u001B[1;32m      7\u001B[0m hdu1 \u001B[38;5;241m=\u001B[39m hdul1[\u001B[38;5;241m1\u001B[39m]\n\u001B[1;32m      8\u001B[0m hdu2 \u001B[38;5;241m=\u001B[39m hdul2[\u001B[38;5;241m1\u001B[39m]\n\u001B[0;32m----> 9\u001B[0m \u001B[38;5;28;01mif\u001B[39;00m \u001B[38;5;129;01mnot\u001B[39;00m np\u001B[38;5;241m.\u001B[39marray_equal(hdul1[\u001B[43mi\u001B[49m]\u001B[38;5;241m.\u001B[39mdata, hdul2[i]\u001B[38;5;241m.\u001B[39mdata):\n\u001B[1;32m     10\u001B[0m     \u001B[38;5;28mprint\u001B[39m(\u001B[38;5;124mf\u001B[39m\u001B[38;5;124m\"\u001B[39m\u001B[38;5;124mData in extension \u001B[39m\u001B[38;5;132;01m{\u001B[39;00m\u001B[38;5;241m1\u001B[39m\u001B[38;5;132;01m}\u001B[39;00m\u001B[38;5;124m does not match.\u001B[39m\u001B[38;5;124m\"\u001B[39m)\n\u001B[1;32m     12\u001B[0m \u001B[38;5;28;01mif\u001B[39;00m hdu1\u001B[38;5;241m.\u001B[39mheader \u001B[38;5;241m!=\u001B[39m hdu2\u001B[38;5;241m.\u001B[39mheader:\n",
      "\u001B[0;31mNameError\u001B[0m: name 'i' is not defined"
     ]
    }
   ],
   "execution_count": 110
  },
  {
   "metadata": {
    "ExecuteTime": {
     "end_time": "2024-10-18T10:17:50.331524Z",
     "start_time": "2024-10-18T10:17:50.286933Z"
    }
   },
   "cell_type": "code",
   "source": "compare_fits_files_by_path(astred_path, astred_backup_path)",
   "id": "a6323a5572ec446",
   "outputs": [
    {
     "name": "stdout",
     "output_type": "stream",
     "text": [
      "Data in extension 1 does not match.\n",
      "Headers in extension 1 do not match.\n",
      "Keys in extension 1 do not match.\n"
     ]
    }
   ],
   "execution_count": 108
  },
  {
   "metadata": {
    "ExecuteTime": {
     "end_time": "2024-10-18T12:49:48.236982Z",
     "start_time": "2024-10-18T12:49:48.029471Z"
    }
   },
   "cell_type": "code",
   "source": [
    "do_not_scale_image_data = False \n",
    "def try_print_key(hdu, key):\n",
    "    try:\n",
    "        print(key, \":\", hdu.header[key])\n",
    "    except KeyError:\n",
    "        print(f\"KeyError: {key}\")\n",
    "\n",
    "def print_relevant_keys(hdu):\n",
    "    keys = ['BZERO', 'BSCALE', 'BITPIX']\n",
    "    for key in keys:\n",
    "        try_print_key(hdu, key)\n",
    "\n",
    "with fits.open(astred_path, do_not_scale_image_data=do_not_scale_image_data) as hdul:\n",
    "    print(\"Astred\")\n",
    "    print_relevant_keys(hdul[1])\n",
    "    print(\"Data 0,0: \", hdul[1].data[0,0])\n",
    "    print_relevant_keys(hdul[1])\n",
    "with fits.open(astred_backup_path, do_not_scale_image_data=do_not_scale_image_data) as hdul:\n",
    "    print(\"Astred Backup\")\n",
    "    print_relevant_keys(hdul[1])\n",
    "    print(\"Data 0,0: \", hdul[1].data[0,0])\n",
    "    print_relevant_keys(hdul[1])\n",
    "with fits.open(non_astred_path, do_not_scale_image_data=do_not_scale_image_data) as hdul:\n",
    "    print(\"Non-Astred\")\n",
    "    print_relevant_keys(hdul[1])\n",
    "    print(\"Data 0,0: \", hdul[1].data[0,0])\n",
    "    print_relevant_keys(hdul[1])\n",
    "with fits.open(copy_path_scale, do_not_scale_image_data=do_not_scale_image_data) as hdul:\n",
    "    print(\"Copy Scale\")\n",
    "    print_relevant_keys(hdul[1])\n",
    "    print(\"Data 0,0: \", hdul[1].data[0,0])\n",
    "    print_relevant_keys(hdul[1])\n",
    "with fits.open(copy_path_no_scale, do_not_scale_image_data=do_not_scale_image_data) as hdul:\n",
    "    print(\"Copy No Scale\")\n",
    "    print_relevant_keys(hdul[1])\n",
    "    print(\"Data 0,0: \", hdul[1].data[0,0])\n",
    "    print_relevant_keys(hdul[1])"
   ],
   "id": "551697e60c61cb6e",
   "outputs": [
    {
     "name": "stdout",
     "output_type": "stream",
     "text": [
      "Astred\n",
      "BZERO : 32768.0\n",
      "BSCALE : 1.0\n",
      "BITPIX : 16\n",
      "Data 0,0:  6045\n",
      "BZERO : 32768.0\n",
      "BSCALE : 1.0\n",
      "BITPIX : 16\n",
      "Astred Backup\n",
      "BZERO : 22768\n",
      "BSCALE : 1.0\n",
      "BITPIX : 16\n",
      "Data 0,0:  -3955.0\n",
      "KeyError: BZERO\n",
      "KeyError: BSCALE\n",
      "BITPIX : -32\n",
      "Non-Astred\n",
      "BZERO : 32768.0\n",
      "BSCALE : 1.0\n",
      "BITPIX : 16\n",
      "Data 0,0:  275\n",
      "BZERO : 32768.0\n",
      "BSCALE : 1.0\n",
      "BITPIX : 16\n",
      "Copy Scale\n",
      "BZERO : 32768\n",
      "BSCALE : 1\n",
      "BITPIX : 16\n",
      "Data 0,0:  6045\n",
      "BZERO : 32768\n",
      "BSCALE : 1\n",
      "BITPIX : 16\n",
      "Copy No Scale\n",
      "BZERO : 32768.0\n",
      "BSCALE : 1.0\n",
      "BITPIX : 16\n",
      "Data 0,0:  6045\n",
      "BZERO : 32768.0\n",
      "BSCALE : 1.0\n",
      "BITPIX : 16\n"
     ]
    }
   ],
   "execution_count": 151
  },
  {
   "metadata": {},
   "cell_type": "code",
   "source": [
    "file_names = pd.read_csv('good_data.csv')['file_name'].unique()\n",
    "for file_name in tqdm(file_names, total=file_names.shape[0]):\n",
    "    compare_fits_files(file_name)"
   ],
   "id": "5b5eecb4ab07cd7b",
   "outputs": [],
   "execution_count": null
  },
  {
   "metadata": {
    "ExecuteTime": {
     "end_time": "2024-10-18T09:23:11.956041Z",
     "start_time": "2024-10-18T09:23:11.952133Z"
    }
   },
   "cell_type": "code",
   "source": [
    "def fix_bzero(file_path):\n",
    "    with fits.open(file_path, mode='update', output_verify='ignore', memmap=True, do_not_scale_image_data=True) as hdul:\n",
    "        for i in range(1, len(hdul)):\n",
    "            if hdul[i].header['BZERO'] != 32768.0:\n",
    "                hdul[i].header['BZERO'] = 32768.0\n",
    "        hdul.flush()"
   ],
   "id": "f15c259849e235f7",
   "outputs": [],
   "execution_count": 9
  },
  {
   "metadata": {
    "ExecuteTime": {
     "end_time": "2024-10-18T12:24:06.144792Z",
     "start_time": "2024-10-18T12:24:06.141221Z"
    }
   },
   "cell_type": "code",
   "source": [
    "def fix_bezero_and_save_as_copy(file_path, new_file_path, do_not_scale_image_data):\n",
    "    with fits.open(file_path, mode='readonly', output_verify='ignore', memmap=False, do_not_scale_image_data=do_not_scale_image_data) as hdul:\n",
    "        for i in range(1, len(hdul)):\n",
    "            if hdul[i].header['BZERO'] != 32768.0:\n",
    "                hdul[i].header['BZERO'] = 32768.0\n",
    "        hdul.writeto(new_file_path, overwrite=True)"
   ],
   "id": "c23ee7ea80869688",
   "outputs": [],
   "execution_count": 129
  },
  {
   "metadata": {
    "ExecuteTime": {
     "end_time": "2024-10-18T12:04:43.354945Z",
     "start_time": "2024-10-18T12:04:38.048486Z"
    }
   },
   "cell_type": "code",
   "source": [
    "astred_path = 'data/sandbox/OMEGA.2022-01-02T00:35:59.042.astred.cal.fits'\n",
    "astred_backup_path = 'data/sandbox/OMEGA.2022-01-02T00:35:59.042.astred.cal_backup.fits'\n",
    "non_astred_path = 'data/sandbox/OMEGA.2022-01-19T01:58:42.111.fits'\n",
    "non_astred_backup_path = 'data/sandbox/OMEGA.2022-01-19T01:58:42.111_backup.fits'\n",
    "\n",
    "\n",
    "fix_bzero(astred_path)\n",
    "# fix_bzero(non_astred_path)\n",
    "\n"
   ],
   "id": "30c1cb3b7d3bf02e",
   "outputs": [],
   "execution_count": 113
  },
  {
   "metadata": {
    "ExecuteTime": {
     "end_time": "2024-10-18T12:24:10.614294Z",
     "start_time": "2024-10-18T12:24:08.285124Z"
    }
   },
   "cell_type": "code",
   "source": [
    "copy_path_scale = \"data/sandbox/OMEGA.2022-01-02T00:35:59.042.astred.cal_fixed_scale.fits\"\n",
    "copy_path_no_scale = \"data/sandbox/OMEGA.2022-01-02T00:35:59.042.astred.cal_fixed_no_scale.fits\"\n",
    "fix_bezero_and_save_as_copy(astred_path, copy_path_scale, False)\n",
    "fix_bezero_and_save_as_copy(astred_path, copy_path_no_scale, True)"
   ],
   "id": "c549b1094b784fab",
   "outputs": [],
   "execution_count": 130
  },
  {
   "metadata": {
    "ExecuteTime": {
     "end_time": "2024-10-18T12:38:21.769975Z",
     "start_time": "2024-10-18T12:36:25.762382Z"
    }
   },
   "cell_type": "code",
   "source": "",
   "id": "21c881262da6baf",
   "outputs": [
    {
     "name": "stderr",
     "output_type": "stream",
     "text": [
      "100%|██████████| 63/63 [01:55<00:00,  1.84s/it]\n"
     ]
    }
   ],
   "execution_count": 142
  },
  {
   "metadata": {
    "ExecuteTime": {
     "end_time": "2024-10-18T13:16:07.529867Z",
     "start_time": "2024-10-18T13:10:52.230005Z"
    }
   },
   "cell_type": "code",
   "source": [
    "# Fix all the astred files by setting BZERO to 32768\n",
    "good_data = pd.read_csv('good_data.csv')\n",
    "file_names = good_data['file_name'].unique()\n",
    "astred_files = [file_name for file_name in file_names if \"astred.cal\" in file_name]\n",
    "for file_name in tqdm(astred_files, total=len(astred_files), desc=\"Fixing astred files\", unit=\"file\"):\n",
    "    tqdm.write(f\"Fixing file: {file_name}\")\n",
    "    with fits.open(utils.get_fits_path(file_name, False), mode='update', output_verify='ignore', memmap=False, do_not_scale_image_data=True) as hdul:\n",
    "        for i in range(1, len(hdul)):\n",
    "            hdul[i].header['BZERO'] = 32768.0\n",
    "        hdul.flush()"
   ],
   "id": "d7d6ebf567484089",
   "outputs": [
    {
     "name": "stderr",
     "output_type": "stream",
     "text": [
      "Fixing astred files:   0%|          | 0/63 [00:00<?, ?file/s]WARNING: VerifyWarning: Verification reported errors: [astropy.io.fits.verify]\n",
      "WARNING: VerifyWarning: HDU 0: [astropy.io.fits.verify]\n",
      "WARNING: VerifyWarning:     Card 60: [astropy.io.fits.verify]\n",
      "WARNING: VerifyWarning:         Card 'ESO DET TLM2 END' is not FITS standard (invalid value string: '3.500e-05 / Telemetry value at read completion').  Fixed 'ESO DET TLM2 END' card to meet the FITS standard. [astropy.io.fits.verify]\n",
      "WARNING: VerifyWarning:     Card 63: [astropy.io.fits.verify]\n",
      "WARNING: VerifyWarning:         Card 'ESO DET TLM2 START' is not FITS standard (invalid value string: '3.500e-05 / Telemetry value at read start').  Fixed 'ESO DET TLM2 START' card to meet the FITS standard. [astropy.io.fits.verify]\n",
      "WARNING: VerifyWarning: Note: astropy.io.fits uses zero-based indexing.\n",
      " [astropy.io.fits.verify]\n"
     ]
    },
    {
     "name": "stdout",
     "output_type": "stream",
     "text": [
      "Fixing file: OMEGA.2022-01-02T00:35:59.042.astred.cal.fits\n"
     ]
    },
    {
     "name": "stderr",
     "output_type": "stream",
     "text": [
      "Fixing astred files:   2%|▏         | 1/63 [00:05<05:42,  5.53s/file]"
     ]
    },
    {
     "name": "stdout",
     "output_type": "stream",
     "text": [
      "Fixing file: OMEGA.2022-01-02T00:59:16.697.astred.cal.fits\n"
     ]
    },
    {
     "name": "stderr",
     "output_type": "stream",
     "text": [
      "Fixing astred files:   3%|▎         | 2/63 [00:10<05:14,  5.16s/file]"
     ]
    },
    {
     "name": "stdout",
     "output_type": "stream",
     "text": [
      "Fixing file: OMEGA.2022-01-02T03:19:53.631.astred.cal.fits\n"
     ]
    },
    {
     "name": "stderr",
     "output_type": "stream",
     "text": [
      "Fixing astred files:   5%|▍         | 3/63 [00:15<05:01,  5.02s/file]"
     ]
    },
    {
     "name": "stdout",
     "output_type": "stream",
     "text": [
      "Fixing file: OMEGA.2022-01-02T06:18:43.121.astred.cal.fits\n"
     ]
    },
    {
     "name": "stderr",
     "output_type": "stream",
     "text": [
      "Fixing astred files:   6%|▋         | 4/63 [00:20<04:51,  4.95s/file]"
     ]
    },
    {
     "name": "stdout",
     "output_type": "stream",
     "text": [
      "Fixing file: OMEGA.2022-01-02T06:30:52.304.astred.cal.fits\n"
     ]
    },
    {
     "name": "stderr",
     "output_type": "stream",
     "text": [
      "Fixing astred files:   8%|▊         | 5/63 [00:25<04:58,  5.15s/file]WARNING: VerifyWarning:         Card 'ESO DET TLM2 END' is not FITS standard (invalid value string: '3.300e-05 / Telemetry value at read completion').  Fixed 'ESO DET TLM2 END' card to meet the FITS standard. [astropy.io.fits.verify]\n",
      "WARNING: VerifyWarning:         Card 'ESO DET TLM2 START' is not FITS standard (invalid value string: '3.300e-05 / Telemetry value at read start').  Fixed 'ESO DET TLM2 START' card to meet the FITS standard. [astropy.io.fits.verify]\n"
     ]
    },
    {
     "name": "stdout",
     "output_type": "stream",
     "text": [
      "Fixing file: OMEGA.2022-01-04T01:11:08.716.astred.cal.fits\n"
     ]
    },
    {
     "name": "stderr",
     "output_type": "stream",
     "text": [
      "Fixing astred files:  10%|▉         | 6/63 [00:30<04:51,  5.11s/file]"
     ]
    },
    {
     "name": "stdout",
     "output_type": "stream",
     "text": [
      "Fixing file: OMEGA.2022-01-04T01:17:13.178.astred.cal.fits\n"
     ]
    },
    {
     "name": "stderr",
     "output_type": "stream",
     "text": [
      "Fixing astred files:  11%|█         | 7/63 [00:35<04:45,  5.10s/file]"
     ]
    },
    {
     "name": "stdout",
     "output_type": "stream",
     "text": [
      "Fixing file: OMEGA.2022-01-04T01:49:30.183.astred.cal.fits\n"
     ]
    },
    {
     "name": "stderr",
     "output_type": "stream",
     "text": [
      "Fixing astred files:  13%|█▎        | 8/63 [00:41<04:52,  5.31s/file]"
     ]
    },
    {
     "name": "stdout",
     "output_type": "stream",
     "text": [
      "Fixing file: OMEGA.2022-01-04T03:08:57.016.astred.cal.fits\n"
     ]
    },
    {
     "name": "stderr",
     "output_type": "stream",
     "text": [
      "Fixing astred files:  14%|█▍        | 9/63 [00:46<04:41,  5.22s/file]"
     ]
    },
    {
     "name": "stdout",
     "output_type": "stream",
     "text": [
      "Fixing file: OMEGA.2022-01-04T03:15:01.467.astred.cal.fits\n"
     ]
    },
    {
     "name": "stderr",
     "output_type": "stream",
     "text": [
      "Fixing astred files:  16%|█▌        | 10/63 [00:51<04:32,  5.15s/file]"
     ]
    },
    {
     "name": "stdout",
     "output_type": "stream",
     "text": [
      "Fixing file: OMEGA.2022-01-04T03:36:09.901.astred.cal.fits\n"
     ]
    },
    {
     "name": "stderr",
     "output_type": "stream",
     "text": [
      "Fixing astred files:  17%|█▋        | 11/63 [00:57<04:36,  5.32s/file]"
     ]
    },
    {
     "name": "stdout",
     "output_type": "stream",
     "text": [
      "Fixing file: OMEGA.2022-01-04T04:12:21.796.astred.cal.fits\n"
     ]
    },
    {
     "name": "stderr",
     "output_type": "stream",
     "text": [
      "Fixing astred files:  19%|█▉        | 12/63 [01:02<04:23,  5.17s/file]WARNING: VerifyWarning:         Card 'ESO DET TLM2 END' is not FITS standard (invalid value string: '3.100e-05 / Telemetry value at read completion').  Fixed 'ESO DET TLM2 END' card to meet the FITS standard. [astropy.io.fits.verify]\n",
      "WARNING: VerifyWarning:         Card 'ESO DET TLM2 START' is not FITS standard (invalid value string: '3.100e-05 / Telemetry value at read start').  Fixed 'ESO DET TLM2 START' card to meet the FITS standard. [astropy.io.fits.verify]\n"
     ]
    },
    {
     "name": "stdout",
     "output_type": "stream",
     "text": [
      "Fixing file: OMEGA.2022-01-04T07:54:15.943.astred.cal.fits\n"
     ]
    },
    {
     "name": "stderr",
     "output_type": "stream",
     "text": [
      "Fixing astred files:  21%|██        | 13/63 [01:06<04:13,  5.06s/file]"
     ]
    },
    {
     "name": "stdout",
     "output_type": "stream",
     "text": [
      "Fixing file: OMEGA.2022-01-04T08:00:20.403.astred.cal.fits\n"
     ]
    },
    {
     "name": "stderr",
     "output_type": "stream",
     "text": [
      "Fixing astred files:  22%|██▏       | 14/63 [01:12<04:11,  5.14s/file]"
     ]
    },
    {
     "name": "stdout",
     "output_type": "stream",
     "text": [
      "Fixing file: OMEGA.2022-01-04T08:12:29.356.astred.cal.fits\n"
     ]
    },
    {
     "name": "stderr",
     "output_type": "stream",
     "text": [
      "Fixing astred files:  24%|██▍       | 15/63 [01:17<04:03,  5.07s/file]WARNING: VerifyWarning:         Card 'ESO DET TLM2 END' is not FITS standard (invalid value string: '3.000e-05 / Telemetry value at read completion').  Fixed 'ESO DET TLM2 END' card to meet the FITS standard. [astropy.io.fits.verify]\n",
      "WARNING: VerifyWarning:         Card 'ESO DET TLM2 START' is not FITS standard (invalid value string: '3.000e-05 / Telemetry value at read start').  Fixed 'ESO DET TLM2 START' card to meet the FITS standard. [astropy.io.fits.verify]\n"
     ]
    },
    {
     "name": "stdout",
     "output_type": "stream",
     "text": [
      "Fixing file: OMEGA.2022-01-06T01:17:50.898.astred.cal.fits\n"
     ]
    },
    {
     "name": "stderr",
     "output_type": "stream",
     "text": [
      "Fixing astred files:  25%|██▌       | 16/63 [01:21<03:55,  5.01s/file]"
     ]
    },
    {
     "name": "stdout",
     "output_type": "stream",
     "text": [
      "Fixing file: OMEGA.2022-01-06T02:13:19.028.astred.cal.fits\n"
     ]
    },
    {
     "name": "stderr",
     "output_type": "stream",
     "text": [
      "Fixing astred files:  27%|██▋       | 17/63 [01:27<03:55,  5.11s/file]"
     ]
    },
    {
     "name": "stdout",
     "output_type": "stream",
     "text": [
      "Fixing file: OMEGA.2022-01-06T02:19:23.658.astred.cal.fits\n"
     ]
    },
    {
     "name": "stderr",
     "output_type": "stream",
     "text": [
      "Fixing astred files:  29%|██▊       | 18/63 [01:32<03:47,  5.06s/file]"
     ]
    },
    {
     "name": "stdout",
     "output_type": "stream",
     "text": [
      "Fixing file: OMEGA.2022-01-06T02:57:46.595.astred.cal.fits\n"
     ]
    },
    {
     "name": "stderr",
     "output_type": "stream",
     "text": [
      "Fixing astred files:  30%|███       | 19/63 [01:37<03:40,  5.02s/file]"
     ]
    },
    {
     "name": "stdout",
     "output_type": "stream",
     "text": [
      "Fixing file: OMEGA.2022-01-06T03:03:51.066.astred.cal.fits\n"
     ]
    },
    {
     "name": "stderr",
     "output_type": "stream",
     "text": [
      "Fixing astred files:  32%|███▏      | 20/63 [01:42<03:45,  5.23s/file]"
     ]
    },
    {
     "name": "stdout",
     "output_type": "stream",
     "text": [
      "Fixing file: OMEGA.2022-01-06T03:27:46.260.astred.cal.fits\n"
     ]
    },
    {
     "name": "stderr",
     "output_type": "stream",
     "text": [
      "Fixing astred files:  33%|███▎      | 21/63 [01:47<03:35,  5.12s/file]WARNING: VerifyWarning:         Card 'ESO DET TLM2 END' is not FITS standard (invalid value string: '2.800e-05 / Telemetry value at read completion').  Fixed 'ESO DET TLM2 END' card to meet the FITS standard. [astropy.io.fits.verify]\n",
      "WARNING: VerifyWarning:         Card 'ESO DET TLM2 START' is not FITS standard (invalid value string: '2.800e-05 / Telemetry value at read start').  Fixed 'ESO DET TLM2 START' card to meet the FITS standard. [astropy.io.fits.verify]\n"
     ]
    },
    {
     "name": "stdout",
     "output_type": "stream",
     "text": [
      "Fixing file: OMEGA.2022-01-06T06:06:38.127.astred.cal.fits\n"
     ]
    },
    {
     "name": "stderr",
     "output_type": "stream",
     "text": [
      "Fixing astred files:  35%|███▍      | 22/63 [01:52<03:30,  5.14s/file]"
     ]
    },
    {
     "name": "stdout",
     "output_type": "stream",
     "text": [
      "Fixing file: OMEGA.2022-01-06T06:18:48.449.astred.cal.fits\n"
     ]
    },
    {
     "name": "stderr",
     "output_type": "stream",
     "text": [
      "Fixing astred files:  37%|███▋      | 23/63 [01:58<03:25,  5.13s/file]WARNING: VerifyWarning:         Card 'ESO DET TLM2 END' is not FITS standard (invalid value string: '2.700e-05 / Telemetry value at read completion').  Fixed 'ESO DET TLM2 END' card to meet the FITS standard. [astropy.io.fits.verify]\n",
      "WARNING: VerifyWarning:         Card 'ESO DET TLM2 START' is not FITS standard (invalid value string: '2.700e-05 / Telemetry value at read start').  Fixed 'ESO DET TLM2 START' card to meet the FITS standard. [astropy.io.fits.verify]\n"
     ]
    },
    {
     "name": "stdout",
     "output_type": "stream",
     "text": [
      "Fixing file: OMEGA.2022-01-08T01:17:35.453.astred.cal.fits\n"
     ]
    },
    {
     "name": "stderr",
     "output_type": "stream",
     "text": [
      "Fixing astred files:  38%|███▊      | 24/63 [02:02<03:16,  5.03s/file]"
     ]
    },
    {
     "name": "stdout",
     "output_type": "stream",
     "text": [
      "Fixing file: OMEGA.2022-01-08T02:47:50.119.astred.cal.fits\n"
     ]
    },
    {
     "name": "stderr",
     "output_type": "stream",
     "text": [
      "Fixing astred files:  40%|███▉      | 25/63 [02:08<03:13,  5.08s/file]"
     ]
    },
    {
     "name": "stdout",
     "output_type": "stream",
     "text": [
      "Fixing file: OMEGA.2022-01-08T02:53:55.149.astred.cal.fits\n"
     ]
    },
    {
     "name": "stderr",
     "output_type": "stream",
     "text": [
      "Fixing astred files:  41%|████▏     | 26/63 [02:13<03:07,  5.06s/file]"
     ]
    },
    {
     "name": "stdout",
     "output_type": "stream",
     "text": [
      "Fixing file: OMEGA.2022-01-08T03:57:58.470.astred.cal.fits\n"
     ]
    },
    {
     "name": "stderr",
     "output_type": "stream",
     "text": [
      "Fixing astred files:  43%|████▎     | 27/63 [02:17<02:57,  4.94s/file]"
     ]
    },
    {
     "name": "stdout",
     "output_type": "stream",
     "text": [
      "Fixing file: OMEGA.2022-01-08T04:24:26.654.astred.cal.fits\n"
     ]
    },
    {
     "name": "stderr",
     "output_type": "stream",
     "text": [
      "Fixing astred files:  44%|████▍     | 28/63 [02:22<02:53,  4.96s/file]"
     ]
    },
    {
     "name": "stdout",
     "output_type": "stream",
     "text": [
      "Fixing file: OMEGA.2022-01-08T04:30:31.115.astred.cal.fits\n"
     ]
    },
    {
     "name": "stderr",
     "output_type": "stream",
     "text": [
      "Fixing astred files:  46%|████▌     | 29/63 [02:27<02:48,  4.97s/file]"
     ]
    },
    {
     "name": "stdout",
     "output_type": "stream",
     "text": [
      "Fixing file: OMEGA.2022-01-08T07:33:36.496.astred.cal.fits\n"
     ]
    },
    {
     "name": "stderr",
     "output_type": "stream",
     "text": [
      "Fixing astred files:  48%|████▊     | 30/63 [02:32<02:41,  4.90s/file]"
     ]
    },
    {
     "name": "stdout",
     "output_type": "stream",
     "text": [
      "Fixing file: OMEGA.2022-01-08T07:39:40.827.astred.cal.fits\n"
     ]
    },
    {
     "name": "stderr",
     "output_type": "stream",
     "text": [
      "Fixing astred files:  49%|████▉     | 31/63 [02:37<02:38,  4.94s/file]"
     ]
    },
    {
     "name": "stdout",
     "output_type": "stream",
     "text": [
      "Fixing file: OMEGA.2022-01-08T08:08:42.272.astred.cal.fits\n"
     ]
    },
    {
     "name": "stderr",
     "output_type": "stream",
     "text": [
      "Fixing astred files:  51%|█████     | 32/63 [02:42<02:33,  4.97s/file]"
     ]
    },
    {
     "name": "stdout",
     "output_type": "stream",
     "text": [
      "Fixing file: OMEGA.2022-01-12T01:02:45.816.astred.cal.fits\n"
     ]
    },
    {
     "name": "stderr",
     "output_type": "stream",
     "text": [
      "Fixing astred files:  52%|█████▏    | 33/63 [02:47<02:26,  4.89s/file]"
     ]
    },
    {
     "name": "stdout",
     "output_type": "stream",
     "text": [
      "Fixing file: OMEGA.2022-01-12T01:18:35.369.astred.cal.fits\n"
     ]
    },
    {
     "name": "stderr",
     "output_type": "stream",
     "text": [
      "Fixing astred files:  54%|█████▍    | 34/63 [02:52<02:21,  4.86s/file]"
     ]
    },
    {
     "name": "stdout",
     "output_type": "stream",
     "text": [
      "Fixing file: OMEGA.2022-01-12T01:46:13.423.astred.cal.fits\n"
     ]
    },
    {
     "name": "stderr",
     "output_type": "stream",
     "text": [
      "Fixing astred files:  56%|█████▌    | 35/63 [02:57<02:18,  4.94s/file]"
     ]
    },
    {
     "name": "stdout",
     "output_type": "stream",
     "text": [
      "Fixing file: OMEGA.2022-01-12T02:17:31.769.astred.cal.fits\n"
     ]
    },
    {
     "name": "stderr",
     "output_type": "stream",
     "text": [
      "Fixing astred files:  57%|█████▋    | 36/63 [03:01<02:11,  4.88s/file]"
     ]
    },
    {
     "name": "stdout",
     "output_type": "stream",
     "text": [
      "Fixing file: OMEGA.2022-01-12T02:35:45.432.astred.cal.fits\n"
     ]
    },
    {
     "name": "stderr",
     "output_type": "stream",
     "text": [
      "Fixing astred files:  59%|█████▊    | 37/63 [03:06<02:05,  4.83s/file]WARNING: VerifyWarning:         Card 'ESO DET TLM2 END' is not FITS standard (invalid value string: '2.900e-05 / Telemetry value at read completion').  Fixed 'ESO DET TLM2 END' card to meet the FITS standard. [astropy.io.fits.verify]\n",
      "WARNING: VerifyWarning:         Card 'ESO DET TLM2 START' is not FITS standard (invalid value string: '2.900e-05 / Telemetry value at read start').  Fixed 'ESO DET TLM2 START' card to meet the FITS standard. [astropy.io.fits.verify]\n"
     ]
    },
    {
     "name": "stdout",
     "output_type": "stream",
     "text": [
      "Fixing file: OMEGA.2022-01-13T00:46:07.341.astred.cal.fits\n"
     ]
    },
    {
     "name": "stderr",
     "output_type": "stream",
     "text": [
      "Fixing astred files:  60%|██████    | 38/63 [03:11<02:04,  4.96s/file]"
     ]
    },
    {
     "name": "stdout",
     "output_type": "stream",
     "text": [
      "Fixing file: OMEGA.2022-01-13T02:16:30.627.astred.cal.fits\n"
     ]
    },
    {
     "name": "stderr",
     "output_type": "stream",
     "text": [
      "Fixing astred files:  62%|██████▏   | 39/63 [03:16<01:57,  4.89s/file]"
     ]
    },
    {
     "name": "stdout",
     "output_type": "stream",
     "text": [
      "Fixing file: OMEGA.2022-01-13T02:28:39.808.astred.cal.fits\n"
     ]
    },
    {
     "name": "stderr",
     "output_type": "stream",
     "text": [
      "Fixing astred files:  63%|██████▎   | 40/63 [03:21<01:51,  4.87s/file]"
     ]
    },
    {
     "name": "stdout",
     "output_type": "stream",
     "text": [
      "Fixing file: OMEGA.2022-01-13T02:34:44.599.astred.cal.fits\n"
     ]
    },
    {
     "name": "stderr",
     "output_type": "stream",
     "text": [
      "Fixing astred files:  65%|██████▌   | 41/63 [03:26<01:50,  5.01s/file]"
     ]
    },
    {
     "name": "stdout",
     "output_type": "stream",
     "text": [
      "Fixing file: OMEGA.2022-01-13T05:43:05.752.astred.cal.fits\n"
     ]
    },
    {
     "name": "stderr",
     "output_type": "stream",
     "text": [
      "Fixing astred files:  67%|██████▋   | 42/63 [03:31<01:43,  4.93s/file]"
     ]
    },
    {
     "name": "stdout",
     "output_type": "stream",
     "text": [
      "Fixing file: OMEGA.2022-01-13T06:35:33.321.astred.cal.fits\n"
     ]
    },
    {
     "name": "stderr",
     "output_type": "stream",
     "text": [
      "Fixing astred files:  68%|██████▊   | 43/63 [03:36<01:37,  4.89s/file]"
     ]
    },
    {
     "name": "stdout",
     "output_type": "stream",
     "text": [
      "Fixing file: OMEGA.2022-01-13T06:42:17.793.astred.cal.fits\n"
     ]
    },
    {
     "name": "stderr",
     "output_type": "stream",
     "text": [
      "Fixing astred files:  70%|██████▉   | 44/63 [03:41<01:34,  4.99s/file]WARNING: VerifyWarning:         Card 'ESO DET TLM2 END' is not FITS standard (invalid value string: '4.500e-05 / Telemetry value at read completion').  Fixed 'ESO DET TLM2 END' card to meet the FITS standard. [astropy.io.fits.verify]\n",
      "WARNING: VerifyWarning:         Card 'ESO DET TLM2 START' is not FITS standard (invalid value string: '4.500e-05 / Telemetry value at read start').  Fixed 'ESO DET TLM2 START' card to meet the FITS standard. [astropy.io.fits.verify]\n"
     ]
    },
    {
     "name": "stdout",
     "output_type": "stream",
     "text": [
      "Fixing file: OMEGA.2022-01-20T01:08:39.847.astred.cal.fits\n"
     ]
    },
    {
     "name": "stderr",
     "output_type": "stream",
     "text": [
      "Fixing astred files:  71%|███████▏  | 45/63 [03:46<01:28,  4.92s/file]WARNING: VerifyWarning:         Card 'ESO DET TLM2 END' is not FITS standard (invalid value string: '4.600e-05 / Telemetry value at read completion').  Fixed 'ESO DET TLM2 END' card to meet the FITS standard. [astropy.io.fits.verify]\n",
      "WARNING: VerifyWarning:         Card 'ESO DET TLM2 START' is not FITS standard (invalid value string: '4.600e-05 / Telemetry value at read start').  Fixed 'ESO DET TLM2 START' card to meet the FITS standard. [astropy.io.fits.verify]\n"
     ]
    },
    {
     "name": "stdout",
     "output_type": "stream",
     "text": [
      "Fixing file: OMEGA.2022-01-20T01:30:58.461.astred.cal.fits\n"
     ]
    },
    {
     "name": "stderr",
     "output_type": "stream",
     "text": [
      "Fixing astred files:  73%|███████▎  | 46/63 [03:51<01:22,  4.86s/file]WARNING: VerifyWarning:         Card 'ESO DET TLM2 END' is not FITS standard (invalid value string: '4.700e-05 / Telemetry value at read completion').  Fixed 'ESO DET TLM2 END' card to meet the FITS standard. [astropy.io.fits.verify]\n",
      "WARNING: VerifyWarning:         Card 'ESO DET TLM2 START' is not FITS standard (invalid value string: '4.800e-05 / Telemetry value at read start').  Fixed 'ESO DET TLM2 START' card to meet the FITS standard. [astropy.io.fits.verify]\n"
     ]
    },
    {
     "name": "stdout",
     "output_type": "stream",
     "text": [
      "Fixing file: OMEGA.2022-01-20T01:55:34.105.astred.cal.fits\n"
     ]
    },
    {
     "name": "stderr",
     "output_type": "stream",
     "text": [
      "Fixing astred files:  75%|███████▍  | 47/63 [03:56<01:19,  4.95s/file]WARNING: VerifyWarning:         Card 'ESO DET TLM2 START' is not FITS standard (invalid value string: '4.700e-05 / Telemetry value at read start').  Fixed 'ESO DET TLM2 START' card to meet the FITS standard. [astropy.io.fits.verify]\n"
     ]
    },
    {
     "name": "stdout",
     "output_type": "stream",
     "text": [
      "Fixing file: OMEGA.2022-01-20T02:01:38.556.astred.cal.fits\n"
     ]
    },
    {
     "name": "stderr",
     "output_type": "stream",
     "text": [
      "Fixing astred files:  76%|███████▌  | 48/63 [04:00<01:13,  4.91s/file]WARNING: VerifyWarning:         Card 'ESO DET TLM2 END' is not FITS standard (invalid value string: '4.800e-05 / Telemetry value at read completion').  Fixed 'ESO DET TLM2 END' card to meet the FITS standard. [astropy.io.fits.verify]\n"
     ]
    },
    {
     "name": "stdout",
     "output_type": "stream",
     "text": [
      "Fixing file: OMEGA.2022-01-20T02:07:43.147.astred.cal.fits\n"
     ]
    },
    {
     "name": "stderr",
     "output_type": "stream",
     "text": [
      "Fixing astred files:  78%|███████▊  | 49/63 [04:05<01:08,  4.87s/file]"
     ]
    },
    {
     "name": "stdout",
     "output_type": "stream",
     "text": [
      "Fixing file: OMEGA.2022-01-20T02:13:49.178.astred.cal.fits\n"
     ]
    },
    {
     "name": "stderr",
     "output_type": "stream",
     "text": [
      "Fixing astred files:  79%|███████▉  | 50/63 [04:11<01:04,  4.99s/file]WARNING: VerifyWarning:         Card 'ESO DET TLM2 END' is not FITS standard (invalid value string: '4.900e-05 / Telemetry value at read completion').  Fixed 'ESO DET TLM2 END' card to meet the FITS standard. [astropy.io.fits.verify]\n",
      "WARNING: VerifyWarning:         Card 'ESO DET TLM2 START' is not FITS standard (invalid value string: '5.000e-05 / Telemetry value at read start').  Fixed 'ESO DET TLM2 START' card to meet the FITS standard. [astropy.io.fits.verify]\n"
     ]
    },
    {
     "name": "stdout",
     "output_type": "stream",
     "text": [
      "Fixing file: OMEGA.2022-01-20T03:18:25.909.astred.cal.fits\n"
     ]
    },
    {
     "name": "stderr",
     "output_type": "stream",
     "text": [
      "Fixing astred files:  81%|████████  | 51/63 [04:15<00:58,  4.89s/file]"
     ]
    },
    {
     "name": "stdout",
     "output_type": "stream",
     "text": [
      "Fixing file: OMEGA.2022-01-20T07:53:33.825.astred.cal.fits\n"
     ]
    },
    {
     "name": "stderr",
     "output_type": "stream",
     "text": [
      "Fixing astred files:  83%|████████▎ | 52/63 [04:20<00:53,  4.83s/file]WARNING: VerifyWarning:         Card 'ESO DET TLM2 END' is not FITS standard (invalid value string: '5.000e-05 / Telemetry value at read completion').  Fixed 'ESO DET TLM2 END' card to meet the FITS standard. [astropy.io.fits.verify]\n"
     ]
    },
    {
     "name": "stdout",
     "output_type": "stream",
     "text": [
      "Fixing file: OMEGA.2022-01-21T00:35:43.241.astred.cal.fits\n"
     ]
    },
    {
     "name": "stderr",
     "output_type": "stream",
     "text": [
      "Fixing astred files:  84%|████████▍ | 53/63 [04:25<00:50,  5.06s/file]WARNING: VerifyWarning:         Card 'ESO DET TLM2 START' is not FITS standard (invalid value string: '4.900e-05 / Telemetry value at read start').  Fixed 'ESO DET TLM2 START' card to meet the FITS standard. [astropy.io.fits.verify]\n"
     ]
    },
    {
     "name": "stdout",
     "output_type": "stream",
     "text": [
      "Fixing file: OMEGA.2022-01-21T01:12:01.117.astred.cal.fits\n"
     ]
    },
    {
     "name": "stderr",
     "output_type": "stream",
     "text": [
      "Fixing astred files:  86%|████████▌ | 54/63 [04:30<00:45,  5.03s/file]"
     ]
    },
    {
     "name": "stdout",
     "output_type": "stream",
     "text": [
      "Fixing file: OMEGA.2022-01-21T01:18:05.558.astred.cal.fits\n"
     ]
    },
    {
     "name": "stderr",
     "output_type": "stream",
     "text": [
      "Fixing astred files:  87%|████████▋ | 55/63 [04:35<00:39,  4.93s/file]"
     ]
    },
    {
     "name": "stdout",
     "output_type": "stream",
     "text": [
      "Fixing file: OMEGA.2022-01-21T01:24:10.109.astred.cal.fits\n"
     ]
    },
    {
     "name": "stderr",
     "output_type": "stream",
     "text": [
      "Fixing astred files:  89%|████████▉ | 56/63 [04:40<00:35,  5.06s/file]"
     ]
    },
    {
     "name": "stdout",
     "output_type": "stream",
     "text": [
      "Fixing file: OMEGA.2022-01-21T01:59:28.415.astred.cal.fits\n"
     ]
    },
    {
     "name": "stderr",
     "output_type": "stream",
     "text": [
      "Fixing astred files:  90%|█████████ | 57/63 [04:45<00:29,  4.94s/file]"
     ]
    },
    {
     "name": "stdout",
     "output_type": "stream",
     "text": [
      "Fixing file: OMEGA.2022-01-21T02:11:37.457.astred.cal.fits\n"
     ]
    },
    {
     "name": "stderr",
     "output_type": "stream",
     "text": [
      "Fixing astred files:  92%|█████████▏| 58/63 [04:50<00:24,  4.86s/file]"
     ]
    },
    {
     "name": "stdout",
     "output_type": "stream",
     "text": [
      "Fixing file: OMEGA.2022-01-21T02:35:05.950.astred.cal.fits\n"
     ]
    },
    {
     "name": "stderr",
     "output_type": "stream",
     "text": [
      "Fixing astred files:  94%|█████████▎| 59/63 [04:55<00:19,  4.96s/file]WARNING: VerifyWarning:         Card 'ESO DET TLM2 END' is not FITS standard (invalid value string: '5.100e-05 / Telemetry value at read completion').  Fixed 'ESO DET TLM2 END' card to meet the FITS standard. [astropy.io.fits.verify]\n",
      "WARNING: VerifyWarning:         Card 'ESO DET TLM2 START' is not FITS standard (invalid value string: '5.100e-05 / Telemetry value at read start').  Fixed 'ESO DET TLM2 START' card to meet the FITS standard. [astropy.io.fits.verify]\n"
     ]
    },
    {
     "name": "stdout",
     "output_type": "stream",
     "text": [
      "Fixing file: OMEGA.2022-01-21T02:47:14.923.astred.cal.fits\n"
     ]
    },
    {
     "name": "stderr",
     "output_type": "stream",
     "text": [
      "Fixing astred files:  95%|█████████▌| 60/63 [05:00<00:14,  4.91s/file]"
     ]
    },
    {
     "name": "stdout",
     "output_type": "stream",
     "text": [
      "Fixing file: OMEGA.2022-01-21T03:29:24.130.astred.cal.fits\n"
     ]
    },
    {
     "name": "stderr",
     "output_type": "stream",
     "text": [
      "Fixing astred files:  97%|█████████▋| 61/63 [05:05<00:09,  4.85s/file]"
     ]
    },
    {
     "name": "stdout",
     "output_type": "stream",
     "text": [
      "Fixing file: OMEGA.2022-01-21T03:35:28.591.astred.cal.fits\n"
     ]
    },
    {
     "name": "stderr",
     "output_type": "stream",
     "text": [
      "Fixing astred files:  98%|█████████▊| 62/63 [05:10<00:05,  5.03s/file]"
     ]
    },
    {
     "name": "stdout",
     "output_type": "stream",
     "text": [
      "Fixing file: OMEGA.2022-01-21T04:39:06.782.astred.cal.fits\n"
     ]
    },
    {
     "name": "stderr",
     "output_type": "stream",
     "text": [
      "Fixing astred files: 100%|██████████| 63/63 [05:15<00:00,  5.00s/file]\n"
     ]
    }
   ],
   "execution_count": 7
  },
  {
   "metadata": {
    "ExecuteTime": {
     "end_time": "2024-10-18T10:06:21.282785Z",
     "start_time": "2024-10-18T10:06:15.952032Z"
    }
   },
   "cell_type": "code",
   "source": [
    "# compare the files to their backups\n",
    "print(\"Comparing astred files\")\n",
    "compare_fits_files_by_path(astred_path, astred_backup_path)\n",
    "# print(\"Comparing non-astred files\")\n",
    "# compare_fits_files_by_path(non_astred_path, non_astred_backup_path)"
   ],
   "id": "664f5fd5c81e2e18",
   "outputs": [
    {
     "name": "stdout",
     "output_type": "stream",
     "text": [
      "Comparing astred files\n",
      "Headers in extension 0 do not match.\n"
     ]
    },
    {
     "name": "stderr",
     "output_type": "stream",
     "text": [
      "WARNING: VerifyWarning: Verification reported errors: [astropy.io.fits.verify]\n",
      "WARNING: VerifyWarning: Card 'ESO DET TLM2 END' is not FITS standard (invalid value string: '3.500e-05 / Telemetry value at read completion').  Fixed 'ESO DET TLM2 END' card to meet the FITS standard. [astropy.io.fits.verify]\n",
      "WARNING: VerifyWarning: Note: astropy.io.fits uses zero-based indexing.\n",
      " [astropy.io.fits.verify]\n",
      "WARNING: VerifyWarning: Card 'ESO DET TLM2 START' is not FITS standard (invalid value string: '3.500e-05 / Telemetry value at read start').  Fixed 'ESO DET TLM2 START' card to meet the FITS standard. [astropy.io.fits.verify]\n"
     ]
    },
    {
     "name": "stdout",
     "output_type": "stream",
     "text": [
      "Data in extension 1 does not match.\n",
      "Headers in extension 1 do not match.\n",
      "Key: BZERO not in file 2. Header 1.\n",
      "Key: BSCALE not in file 2. Header 1.\n",
      "Key:  not in file 1. Header 1.\n",
      "Key:  not in file 1. Header 1.\n",
      "Data in extension 2 does not match.\n",
      "Headers in extension 2 do not match.\n",
      "Key: BZERO not in file 2. Header 2.\n",
      "Key: BSCALE not in file 2. Header 2.\n",
      "Key:  not in file 1. Header 2.\n",
      "Key:  not in file 1. Header 2.\n",
      "Data in extension 3 does not match.\n",
      "Headers in extension 3 do not match.\n",
      "Key: BZERO not in file 2. Header 3.\n",
      "Key: BSCALE not in file 2. Header 3.\n",
      "Key:  not in file 1. Header 3.\n",
      "Key:  not in file 1. Header 3.\n",
      "Data in extension 4 does not match.\n",
      "Headers in extension 4 do not match.\n",
      "Key: BZERO not in file 2. Header 4.\n",
      "Key: BSCALE not in file 2. Header 4.\n",
      "Key:  not in file 1. Header 4.\n",
      "Key:  not in file 1. Header 4.\n",
      "Data in extension 5 does not match.\n",
      "Headers in extension 5 do not match.\n",
      "Key: BZERO not in file 2. Header 5.\n",
      "Key: BSCALE not in file 2. Header 5.\n",
      "Key:  not in file 1. Header 5.\n",
      "Key:  not in file 1. Header 5.\n",
      "Data in extension 6 does not match.\n",
      "Headers in extension 6 do not match.\n",
      "Key: BZERO not in file 2. Header 6.\n",
      "Key: BSCALE not in file 2. Header 6.\n",
      "Key:  not in file 1. Header 6.\n",
      "Key:  not in file 1. Header 6.\n",
      "Data in extension 7 does not match.\n",
      "Headers in extension 7 do not match.\n",
      "Key: BZERO not in file 2. Header 7.\n",
      "Key: BSCALE not in file 2. Header 7.\n",
      "Key:  not in file 1. Header 7.\n",
      "Key:  not in file 1. Header 7.\n",
      "Data in extension 8 does not match.\n",
      "Headers in extension 8 do not match.\n",
      "Key: BZERO not in file 2. Header 8.\n",
      "Key: BSCALE not in file 2. Header 8.\n",
      "Key:  not in file 1. Header 8.\n",
      "Key:  not in file 1. Header 8.\n",
      "Data in extension 9 does not match.\n",
      "Headers in extension 9 do not match.\n",
      "Key: BZERO not in file 2. Header 9.\n",
      "Key: BSCALE not in file 2. Header 9.\n",
      "Key:  not in file 1. Header 9.\n",
      "Key:  not in file 1. Header 9.\n",
      "Data in extension 10 does not match.\n",
      "Headers in extension 10 do not match.\n",
      "Key: BZERO not in file 2. Header 10.\n",
      "Key: BSCALE not in file 2. Header 10.\n",
      "Key:  not in file 1. Header 10.\n",
      "Key:  not in file 1. Header 10.\n",
      "Data in extension 11 does not match.\n",
      "Headers in extension 11 do not match.\n",
      "Key: BZERO not in file 2. Header 11.\n",
      "Key: BSCALE not in file 2. Header 11.\n",
      "Key:  not in file 1. Header 11.\n",
      "Key:  not in file 1. Header 11.\n",
      "Data in extension 12 does not match.\n",
      "Headers in extension 12 do not match.\n",
      "Key: BZERO not in file 2. Header 12.\n",
      "Key: BSCALE not in file 2. Header 12.\n",
      "Key:  not in file 1. Header 12.\n",
      "Key:  not in file 1. Header 12.\n",
      "Data in extension 13 does not match.\n",
      "Headers in extension 13 do not match.\n",
      "Key: BZERO not in file 2. Header 13.\n",
      "Key: BSCALE not in file 2. Header 13.\n",
      "Key:  not in file 1. Header 13.\n",
      "Key:  not in file 1. Header 13.\n",
      "Data in extension 14 does not match.\n",
      "Headers in extension 14 do not match.\n",
      "Key: BZERO not in file 2. Header 14.\n",
      "Key: BSCALE not in file 2. Header 14.\n",
      "Key:  not in file 1. Header 14.\n",
      "Key:  not in file 1. Header 14.\n",
      "Data in extension 15 does not match.\n",
      "Headers in extension 15 do not match.\n",
      "Key: BZERO not in file 2. Header 15.\n",
      "Key: BSCALE not in file 2. Header 15.\n",
      "Key:  not in file 1. Header 15.\n",
      "Key:  not in file 1. Header 15.\n",
      "Data in extension 16 does not match.\n",
      "Headers in extension 16 do not match.\n",
      "Key: BZERO not in file 2. Header 16.\n",
      "Key: BSCALE not in file 2. Header 16.\n",
      "Key:  not in file 1. Header 16.\n",
      "Key:  not in file 1. Header 16.\n",
      "Data in extension 17 does not match.\n",
      "Headers in extension 17 do not match.\n",
      "Key: BZERO not in file 2. Header 17.\n",
      "Key: BSCALE not in file 2. Header 17.\n",
      "Key:  not in file 1. Header 17.\n",
      "Key:  not in file 1. Header 17.\n",
      "Data in extension 18 does not match.\n",
      "Headers in extension 18 do not match.\n",
      "Key: BZERO not in file 2. Header 18.\n",
      "Key: BSCALE not in file 2. Header 18.\n",
      "Key:  not in file 1. Header 18.\n",
      "Key:  not in file 1. Header 18.\n",
      "Data in extension 19 does not match.\n",
      "Headers in extension 19 do not match.\n",
      "Key: BZERO not in file 2. Header 19.\n",
      "Key: BSCALE not in file 2. Header 19.\n",
      "Key:  not in file 1. Header 19.\n",
      "Key:  not in file 1. Header 19.\n",
      "Data in extension 20 does not match.\n",
      "Headers in extension 20 do not match.\n",
      "Key: BZERO not in file 2. Header 20.\n",
      "Key: BSCALE not in file 2. Header 20.\n",
      "Key:  not in file 1. Header 20.\n",
      "Key:  not in file 1. Header 20.\n",
      "Data in extension 21 does not match.\n",
      "Headers in extension 21 do not match.\n",
      "Key: BZERO not in file 2. Header 21.\n",
      "Key: BSCALE not in file 2. Header 21.\n",
      "Key:  not in file 1. Header 21.\n",
      "Key:  not in file 1. Header 21.\n",
      "Data in extension 22 does not match.\n",
      "Headers in extension 22 do not match.\n",
      "Key: BZERO not in file 2. Header 22.\n",
      "Key: BSCALE not in file 2. Header 22.\n",
      "Key:  not in file 1. Header 22.\n",
      "Key:  not in file 1. Header 22.\n",
      "Data in extension 23 does not match.\n",
      "Headers in extension 23 do not match.\n",
      "Key: BZERO not in file 2. Header 23.\n",
      "Key: BSCALE not in file 2. Header 23.\n",
      "Key:  not in file 1. Header 23.\n",
      "Key:  not in file 1. Header 23.\n",
      "Data in extension 24 does not match.\n",
      "Headers in extension 24 do not match.\n",
      "Key: BZERO not in file 2. Header 24.\n",
      "Key: BSCALE not in file 2. Header 24.\n",
      "Key:  not in file 1. Header 24.\n",
      "Key:  not in file 1. Header 24.\n",
      "Data in extension 25 does not match.\n",
      "Headers in extension 25 do not match.\n",
      "Key: BZERO not in file 2. Header 25.\n",
      "Key: BSCALE not in file 2. Header 25.\n",
      "Key:  not in file 1. Header 25.\n",
      "Key:  not in file 1. Header 25.\n",
      "Data in extension 26 does not match.\n",
      "Headers in extension 26 do not match.\n",
      "Key: BZERO not in file 2. Header 26.\n",
      "Key: BSCALE not in file 2. Header 26.\n",
      "Key:  not in file 1. Header 26.\n",
      "Key:  not in file 1. Header 26.\n",
      "Data in extension 27 does not match.\n",
      "Headers in extension 27 do not match.\n",
      "Key: BZERO not in file 2. Header 27.\n",
      "Key: BSCALE not in file 2. Header 27.\n",
      "Key:  not in file 1. Header 27.\n",
      "Key:  not in file 1. Header 27.\n",
      "Data in extension 28 does not match.\n",
      "Headers in extension 28 do not match.\n",
      "Key: BZERO not in file 2. Header 28.\n",
      "Key: BSCALE not in file 2. Header 28.\n",
      "Key:  not in file 1. Header 28.\n",
      "Key:  not in file 1. Header 28.\n",
      "Data in extension 29 does not match.\n",
      "Headers in extension 29 do not match.\n",
      "Key: BZERO not in file 2. Header 29.\n",
      "Key: BSCALE not in file 2. Header 29.\n",
      "Key:  not in file 1. Header 29.\n",
      "Key:  not in file 1. Header 29.\n",
      "Data in extension 30 does not match.\n",
      "Headers in extension 30 do not match.\n",
      "Key: BZERO not in file 2. Header 30.\n",
      "Key: BSCALE not in file 2. Header 30.\n",
      "Key:  not in file 1. Header 30.\n",
      "Key:  not in file 1. Header 30.\n",
      "Data in extension 31 does not match.\n",
      "Headers in extension 31 do not match.\n",
      "Key: BZERO not in file 2. Header 31.\n",
      "Key: BSCALE not in file 2. Header 31.\n",
      "Key:  not in file 1. Header 31.\n",
      "Key:  not in file 1. Header 31.\n",
      "Data in extension 32 does not match.\n",
      "Headers in extension 32 do not match.\n",
      "Key: BZERO not in file 2. Header 32.\n",
      "Key: BSCALE not in file 2. Header 32.\n",
      "Key:  not in file 1. Header 32.\n",
      "Key:  not in file 1. Header 32.\n"
     ]
    }
   ],
   "execution_count": 76
  },
  {
   "metadata": {
    "ExecuteTime": {
     "end_time": "2024-10-13T19:14:43.519661Z",
     "start_time": "2024-10-13T19:10:03.910785Z"
    }
   },
   "cell_type": "code",
   "source": [
    "# Verify that the files on the two drives are the same\n",
    "import filecmp\n",
    "file_names = pd.read_csv('good_data.csv')['file_name'].unique()\n",
    "for file_name in tqdm(file_names, total=file_names.shape[0]):\n",
    "    \n",
    "    if not filecmp.cmp(utils.get_fits_path(file_name, True, drive=\"MedTina\"), utils.get_fits_path(file_name, False), shallow=False):\n",
    "        compare_fits_files(file_name)\n",
    "    "
   ],
   "id": "1a82ba3ab9c7dbd5",
   "outputs": [
    {
     "name": "stderr",
     "output_type": "stream",
     "text": [
      " 67%|██████▋   | 164/245 [04:39<02:18,  1.70s/it]\n"
     ]
    },
    {
     "ename": "KeyboardInterrupt",
     "evalue": "",
     "output_type": "error",
     "traceback": [
      "\u001B[0;31m---------------------------------------------------------------------------\u001B[0m",
      "\u001B[0;31mKeyboardInterrupt\u001B[0m                         Traceback (most recent call last)",
      "Cell \u001B[0;32mIn[125], line 6\u001B[0m\n\u001B[1;32m      3\u001B[0m file_names \u001B[38;5;241m=\u001B[39m pd\u001B[38;5;241m.\u001B[39mread_csv(\u001B[38;5;124m'\u001B[39m\u001B[38;5;124mgood_data.csv\u001B[39m\u001B[38;5;124m'\u001B[39m)[\u001B[38;5;124m'\u001B[39m\u001B[38;5;124mfile_name\u001B[39m\u001B[38;5;124m'\u001B[39m]\u001B[38;5;241m.\u001B[39munique()\n\u001B[1;32m      4\u001B[0m \u001B[38;5;28;01mfor\u001B[39;00m file_name \u001B[38;5;129;01min\u001B[39;00m tqdm(file_names, total\u001B[38;5;241m=\u001B[39mfile_names\u001B[38;5;241m.\u001B[39mshape[\u001B[38;5;241m0\u001B[39m]):\n\u001B[0;32m----> 6\u001B[0m     \u001B[38;5;28;01mif\u001B[39;00m \u001B[38;5;129;01mnot\u001B[39;00m \u001B[43mfilecmp\u001B[49m\u001B[38;5;241;43m.\u001B[39;49m\u001B[43mcmp\u001B[49m\u001B[43m(\u001B[49m\u001B[43mutils\u001B[49m\u001B[38;5;241;43m.\u001B[39;49m\u001B[43mget_fits_path\u001B[49m\u001B[43m(\u001B[49m\u001B[43mfile_name\u001B[49m\u001B[43m,\u001B[49m\u001B[43m \u001B[49m\u001B[38;5;28;43;01mTrue\u001B[39;49;00m\u001B[43m,\u001B[49m\u001B[43m \u001B[49m\u001B[43mdrive\u001B[49m\u001B[38;5;241;43m=\u001B[39;49m\u001B[38;5;124;43m\"\u001B[39;49m\u001B[38;5;124;43mMedTina\u001B[39;49m\u001B[38;5;124;43m\"\u001B[39;49m\u001B[43m)\u001B[49m\u001B[43m,\u001B[49m\u001B[43m \u001B[49m\u001B[43mutils\u001B[49m\u001B[38;5;241;43m.\u001B[39;49m\u001B[43mget_fits_path\u001B[49m\u001B[43m(\u001B[49m\u001B[43mfile_name\u001B[49m\u001B[43m,\u001B[49m\u001B[43m \u001B[49m\u001B[38;5;28;43;01mFalse\u001B[39;49;00m\u001B[43m)\u001B[49m\u001B[43m,\u001B[49m\u001B[43m \u001B[49m\u001B[43mshallow\u001B[49m\u001B[38;5;241;43m=\u001B[39;49m\u001B[38;5;28;43;01mFalse\u001B[39;49;00m\u001B[43m)\u001B[49m:\n\u001B[1;32m      7\u001B[0m         compare_fits_files(file_name)\n",
      "File \u001B[0;32m~/miniconda3/envs/semester_project/lib/python3.10/filecmp.py:64\u001B[0m, in \u001B[0;36mcmp\u001B[0;34m(f1, f2, shallow)\u001B[0m\n\u001B[1;32m     62\u001B[0m outcome \u001B[38;5;241m=\u001B[39m _cache\u001B[38;5;241m.\u001B[39mget((f1, f2, s1, s2))\n\u001B[1;32m     63\u001B[0m \u001B[38;5;28;01mif\u001B[39;00m outcome \u001B[38;5;129;01mis\u001B[39;00m \u001B[38;5;28;01mNone\u001B[39;00m:\n\u001B[0;32m---> 64\u001B[0m     outcome \u001B[38;5;241m=\u001B[39m \u001B[43m_do_cmp\u001B[49m\u001B[43m(\u001B[49m\u001B[43mf1\u001B[49m\u001B[43m,\u001B[49m\u001B[43m \u001B[49m\u001B[43mf2\u001B[49m\u001B[43m)\u001B[49m\n\u001B[1;32m     65\u001B[0m     \u001B[38;5;28;01mif\u001B[39;00m \u001B[38;5;28mlen\u001B[39m(_cache) \u001B[38;5;241m>\u001B[39m \u001B[38;5;241m100\u001B[39m:      \u001B[38;5;66;03m# limit the maximum size of the cache\u001B[39;00m\n\u001B[1;32m     66\u001B[0m         clear_cache()\n",
      "File \u001B[0;32m~/miniconda3/envs/semester_project/lib/python3.10/filecmp.py:79\u001B[0m, in \u001B[0;36m_do_cmp\u001B[0;34m(f1, f2)\u001B[0m\n\u001B[1;32m     77\u001B[0m \u001B[38;5;28;01mwith\u001B[39;00m \u001B[38;5;28mopen\u001B[39m(f1, \u001B[38;5;124m'\u001B[39m\u001B[38;5;124mrb\u001B[39m\u001B[38;5;124m'\u001B[39m) \u001B[38;5;28;01mas\u001B[39;00m fp1, \u001B[38;5;28mopen\u001B[39m(f2, \u001B[38;5;124m'\u001B[39m\u001B[38;5;124mrb\u001B[39m\u001B[38;5;124m'\u001B[39m) \u001B[38;5;28;01mas\u001B[39;00m fp2:\n\u001B[1;32m     78\u001B[0m     \u001B[38;5;28;01mwhile\u001B[39;00m \u001B[38;5;28;01mTrue\u001B[39;00m:\n\u001B[0;32m---> 79\u001B[0m         b1 \u001B[38;5;241m=\u001B[39m \u001B[43mfp1\u001B[49m\u001B[38;5;241;43m.\u001B[39;49m\u001B[43mread\u001B[49m\u001B[43m(\u001B[49m\u001B[43mbufsize\u001B[49m\u001B[43m)\u001B[49m\n\u001B[1;32m     80\u001B[0m         b2 \u001B[38;5;241m=\u001B[39m fp2\u001B[38;5;241m.\u001B[39mread(bufsize)\n\u001B[1;32m     81\u001B[0m         \u001B[38;5;28;01mif\u001B[39;00m b1 \u001B[38;5;241m!=\u001B[39m b2:\n",
      "\u001B[0;31mKeyboardInterrupt\u001B[0m: "
     ]
    }
   ],
   "execution_count": 125
  },
  {
   "metadata": {},
   "cell_type": "code",
   "outputs": [],
   "execution_count": null,
   "source": "",
   "id": "1acffac3f8a9752a"
  }
 ],
 "metadata": {
  "kernelspec": {
   "display_name": "Python 3",
   "language": "python",
   "name": "python3"
  },
  "language_info": {
   "codemirror_mode": {
    "name": "ipython",
    "version": 2
   },
   "file_extension": ".py",
   "mimetype": "text/x-python",
   "name": "python",
   "nbconvert_exporter": "python",
   "pygments_lexer": "ipython2",
   "version": "2.7.6"
  }
 },
 "nbformat": 4,
 "nbformat_minor": 5
}
