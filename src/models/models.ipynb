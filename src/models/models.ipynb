{
 "cells": [
  {
   "cell_type": "code",
   "id": "cf46c8ca6de1b101",
   "metadata": {
    "ExecuteTime": {
     "end_time": "2024-12-04T15:33:09.687088Z",
     "start_time": "2024-12-04T15:33:09.667151Z"
    }
   },
   "source": [
    "%load_ext autoreload\n",
    "%autoreload 2\n"
   ],
   "outputs": [
    {
     "name": "stdout",
     "output_type": "stream",
     "text": [
      "The autoreload extension is already loaded. To reload it, use:\n",
      "  %reload_ext autoreload\n"
     ]
    }
   ],
   "execution_count": 13
  },
  {
   "cell_type": "code",
   "id": "initial_id",
   "metadata": {
    "ExecuteTime": {
     "end_time": "2024-12-04T15:27:49.502844Z",
     "start_time": "2024-12-04T15:27:45.414473Z"
    }
   },
   "source": [
    "from simple_transformer import Transformer\n",
    "from dataset import StreaksDataset\n",
    "import torch\n",
    "from src import utils"
   ],
   "outputs": [],
   "execution_count": 3
  },
  {
   "cell_type": "code",
   "id": "de50bb9bed14937",
   "metadata": {
    "ExecuteTime": {
     "end_time": "2024-11-24T15:11:05.719669Z",
     "start_time": "2024-11-24T15:11:05.660777Z"
    }
   },
   "source": [
    "\n",
    "model = Transformer()\n",
    "model.eval()\n",
    "batch_size = 8\n",
    "inputs = torch.randn(batch_size, 512, 32)\n",
    "numeric_features = torch.rand(batch_size,5)\n",
    "mask = torch.ones(batch_size, 512, dtype=torch.bool)\n",
    "mask[:, 256:] = 0\n",
    "outputs = model(inputs, numeric_features, mask)\n",
    "print(outputs.shape)\n",
    "print(outputs)"
   ],
   "outputs": [
    {
     "ename": "NameError",
     "evalue": "name 'torch' is not defined",
     "output_type": "error",
     "traceback": [
      "\u001B[0;31m---------------------------------------------------------------------------\u001B[0m",
      "\u001B[0;31mNameError\u001B[0m                                 Traceback (most recent call last)",
      "Cell \u001B[0;32mIn[13], line 4\u001B[0m\n\u001B[1;32m      2\u001B[0m model\u001B[38;5;241m.\u001B[39meval()\n\u001B[1;32m      3\u001B[0m batch_size \u001B[38;5;241m=\u001B[39m \u001B[38;5;241m8\u001B[39m\n\u001B[0;32m----> 4\u001B[0m inputs \u001B[38;5;241m=\u001B[39m \u001B[43mtorch\u001B[49m\u001B[38;5;241m.\u001B[39mrandn(batch_size, \u001B[38;5;241m512\u001B[39m, \u001B[38;5;241m32\u001B[39m)\n\u001B[1;32m      5\u001B[0m numeric_features \u001B[38;5;241m=\u001B[39m torch\u001B[38;5;241m.\u001B[39mrand(batch_size,\u001B[38;5;241m5\u001B[39m)\n\u001B[1;32m      6\u001B[0m mask \u001B[38;5;241m=\u001B[39m torch\u001B[38;5;241m.\u001B[39mones(batch_size, \u001B[38;5;241m512\u001B[39m, dtype\u001B[38;5;241m=\u001B[39mtorch\u001B[38;5;241m.\u001B[39mbool)\n",
      "\u001B[0;31mNameError\u001B[0m: name 'torch' is not defined"
     ]
    }
   ],
   "execution_count": 13
  },
  {
   "cell_type": "code",
   "id": "a04b9ae70310b6e2",
   "metadata": {
    "ExecuteTime": {
     "end_time": "2024-11-04T08:14:25.547461Z",
     "start_time": "2024-11-04T08:14:25.523675Z"
    }
   },
   "source": [
    "\n",
    "# Print the number of parameters\n",
    "num_params = sum(p.numel() for p in model.parameters())"
   ],
   "outputs": [],
   "execution_count": 117
  },
  {
   "cell_type": "code",
   "id": "924f67f5a9cf0440",
   "metadata": {
    "ExecuteTime": {
     "end_time": "2024-11-04T08:14:26.972743Z",
     "start_time": "2024-11-04T08:14:26.950320Z"
    }
   },
   "source": [
    "print(num_params)"
   ],
   "outputs": [
    {
     "name": "stdout",
     "output_type": "stream",
     "text": [
      "125633\n"
     ]
    }
   ],
   "execution_count": 118
  },
  {
   "cell_type": "code",
   "id": "337fdba16fe64258",
   "metadata": {
    "ExecuteTime": {
     "end_time": "2024-11-03T12:32:37.734828Z",
     "start_time": "2024-11-03T12:32:37.698739Z"
    }
   },
   "source": [
    "\n",
    "# load all images\n",
    "# images_train = \n",
    "# \n",
    "# train_dataset = StreaksDataset(\n"
   ],
   "outputs": [
    {
     "ename": "AttributeError",
     "evalue": "module 'datasets' has no attribute 'split_data'",
     "output_type": "error",
     "traceback": [
      "\u001B[0;31m---------------------------------------------------------------------------\u001B[0m",
      "\u001B[0;31mAttributeError\u001B[0m                            Traceback (most recent call last)",
      "Cell \u001B[0;32mIn[17], line 1\u001B[0m\n\u001B[0;32m----> 1\u001B[0m file_names_train, file_names_val, file_names_test \u001B[38;5;241m=\u001B[39m \u001B[43mdatasets\u001B[49m\u001B[38;5;241;43m.\u001B[39;49m\u001B[43msplit_data\u001B[49m()\n",
      "\u001B[0;31mAttributeError\u001B[0m: module 'datasets' has no attribute 'split_data'"
     ]
    }
   ],
   "execution_count": 17
  },
  {
   "cell_type": "code",
   "id": "ea7831066c23cb92",
   "metadata": {
    "jupyter": {
     "is_executing": true
    }
   },
   "source": [
    "import pandas as pd\n",
    "import os\n",
    "from sklearn.model_selection import train_test_split\n",
    "import numpy as np\n",
    "from matplotlib import pyplot as plt\n",
    "train=0.8\n",
    "val=0.1\n",
    "test=0.1\n",
    "seed=1104\n",
    "\n",
    "# Load the data\n",
    "good_data = pd.read_csv(os.path.join(utils.get_project_root(), 'good_data.csv'))\n",
    "numerical_data_df = pd.read_csv(os.path.join(utils.get_project_root(), 'datasets/auxiliary_data.csv'))\n",
    "targets_df = pd.read_csv(os.path.join(utils.get_project_root(), 'datasets/targets.csv'))\n",
    "# Split data by filenames\n",
    "file_names = good_data['file_name'].unique()\n",
    "file_names_temp, file_names_test = train_test_split(file_names, train_size=train+val, random_state=seed)\n",
    "file_names_train, file_names_val = train_test_split(file_names_temp, train_size=train/(train+val), random_state=seed + 1)\n",
    " \n",
    "train_data = good_data[good_data['file_name'].isin(file_names_train)]\n",
    "val_data = good_data[good_data['file_name'].isin(file_names_val)]\n",
    "test_data = good_data[good_data['file_name'].isin(file_names_test)]\n",
    "\n",
    "def get_data(data):\n",
    "    images = [\n",
    "        torch.tensor(np.load(utils.get_strip_file_path(row)), dtype=torch.float) for (_, row) in data.iterrows()\n",
    "    ]\n",
    "    numeric = torch.tensor(\n",
    "        pd.merge(data, numerical_data_df, on='file_name')[numerical_data_df.columns].drop(columns=['file_name']).to_numpy()\n",
    "    )\n",
    "    targets = torch.tensor(\n",
    "        pd.merge(data.drop(columns=['ang_vel[deg/s]']), targets_df, on=['file_name', 'extension', 'ID'])['ang_vel[deg/s]'].to_numpy()\n",
    "    )\n",
    "    return images, numeric, targets\n",
    "\n",
    "print(get_data(train_data)[0][0].shape)\n",
    "\n",
    "train_dataset = StreaksDataset(*get_data(train_data))\n",
    "\n",
    "val_dataset = StreaksDataset(*get_data(val_data), \n",
    "                             images_mean=train_dataset.images_mean,\n",
    "                             images_std=train_dataset.images_std,\n",
    "                             numeric_features_mean=train_dataset.numeric_features_mean,\n",
    "                             numeric_features_std=train_dataset.numeric_features_std,\n",
    "                             targets_mean=train_dataset.targets_mean,\n",
    "                             targets_std=train_dataset.targets_std)\n",
    "test_dataset = StreaksDataset( *get_data(test_data),\n",
    "                               images_mean=train_dataset.images_mean,\n",
    "                               images_std=train_dataset.images_std,\n",
    "                               numeric_features_mean=train_dataset.numeric_features_mean,\n",
    "                               numeric_features_std=train_dataset.numeric_features_std,\n",
    "                               targets_mean=train_dataset.targets_mean,\n",
    "                               targets_std=train_dataset.targets_std)\n",
    "train_dataset.__getitem__(1)[0].shape\n",
    "\n",
    "\n"
   ],
   "outputs": [],
   "execution_count": null
  },
  {
   "metadata": {
    "ExecuteTime": {
     "end_time": "2024-11-10T19:12:11.176789Z",
     "start_time": "2024-11-10T19:11:21.991534Z"
    }
   },
   "cell_type": "code",
   "source": [
    "from train import train\n",
    "\n",
    "train()\n"
   ],
   "id": "664c9aa4bb52b242",
   "outputs": [
    {
     "name": "stderr",
     "output_type": "stream",
     "text": [
      "Epoch 1/10 - Training:   0%|          | 0/59 [00:00<?, ?it/s]"
     ]
    },
    {
     "name": "stdout",
     "output_type": "stream",
     "text": [
      "Numeric features shape:  torch.Size([16, 7])\n"
     ]
    },
    {
     "name": "stderr",
     "output_type": "stream",
     "text": [
      "                                                             \r"
     ]
    },
    {
     "ename": "KeyboardInterrupt",
     "evalue": "",
     "output_type": "error",
     "traceback": [
      "\u001B[0;31m---------------------------------------------------------------------------\u001B[0m",
      "\u001B[0;31mKeyboardInterrupt\u001B[0m                         Traceback (most recent call last)",
      "Cell \u001B[0;32mIn[3], line 3\u001B[0m\n\u001B[1;32m      1\u001B[0m \u001B[38;5;28;01mfrom\u001B[39;00m \u001B[38;5;21;01mtrain\u001B[39;00m \u001B[38;5;28;01mimport\u001B[39;00m train\n\u001B[0;32m----> 3\u001B[0m \u001B[43mtrain\u001B[49m\u001B[43m(\u001B[49m\u001B[43m)\u001B[49m\n",
      "File \u001B[0;32m~/epfl/semester_project/models/train.py:51\u001B[0m, in \u001B[0;36mtrain\u001B[0;34m()\u001B[0m\n\u001B[1;32m     48\u001B[0m     loss\u001B[38;5;241m.\u001B[39mbackward()\n\u001B[1;32m     49\u001B[0m     optimizer\u001B[38;5;241m.\u001B[39mstep()\n\u001B[0;32m---> 51\u001B[0m     total_loss \u001B[38;5;241m+\u001B[39m\u001B[38;5;241m=\u001B[39m \u001B[43mloss\u001B[49m\u001B[38;5;241;43m.\u001B[39;49m\u001B[43mitem\u001B[49m\u001B[43m(\u001B[49m\u001B[43m)\u001B[49m\n\u001B[1;32m     52\u001B[0m     train_loader_tqdm\u001B[38;5;241m.\u001B[39mset_postfix(loss\u001B[38;5;241m=\u001B[39mloss\u001B[38;5;241m.\u001B[39mitem())  \u001B[38;5;66;03m# Update tqdm with the current loss\u001B[39;00m\n\u001B[1;32m     54\u001B[0m avg_loss \u001B[38;5;241m=\u001B[39m total_loss \u001B[38;5;241m/\u001B[39m \u001B[38;5;28mlen\u001B[39m(train_loader)\n",
      "\u001B[0;31mKeyboardInterrupt\u001B[0m: "
     ]
    }
   ],
   "execution_count": 3
  },
  {
   "metadata": {
    "ExecuteTime": {
     "end_time": "2024-11-23T14:35:24.811653Z",
     "start_time": "2024-11-23T14:35:24.744027Z"
    }
   },
   "cell_type": "code",
   "source": [
    "from transformer_artifical_data import artificial_transformer\n",
    "\n",
    "import torch\n",
    "\n",
    "model = artificial_transformer.Transformer()\n",
    "\n",
    "\n",
    "data = torch.rand(8,200,32)\n",
    "targets = torch.randn(8,1)\n",
    "mask = torch.zeros(8, 200, dtype=torch.bool)\n",
    "\n",
    "model.forward(data, mask)\n",
    "\n"
   ],
   "id": "816c85352e3d4e46",
   "outputs": [
    {
     "data": {
      "text/plain": [
       "tensor([[0.0806],\n",
       "        [0.0806],\n",
       "        [0.0806],\n",
       "        [0.0806],\n",
       "        [0.0806],\n",
       "        [0.0806],\n",
       "        [0.0806],\n",
       "        [0.0806]], grad_fn=<AddmmBackward0>)"
      ]
     },
     "execution_count": 10,
     "metadata": {},
     "output_type": "execute_result"
    }
   ],
   "execution_count": 10
  },
  {
   "metadata": {
    "ExecuteTime": {
     "end_time": "2024-11-23T14:35:50.177948Z",
     "start_time": "2024-11-23T14:35:47.554747Z"
    }
   },
   "cell_type": "code",
   "source": [
    "from transformer_artifical_data import artificial_dataset\n",
    "from src.analysis.artificial_model_analysis import evaluate_model\n",
    "from src.analysis.artificial_model_analysis import analyze_results\n",
    "from src.models.transformer_artifical_data import artificial_train\n",
    "\n",
    "# Dummy test dataset\n",
    "datasets, dfs = artificial_dataset.split_data_into_datasets(train=.333, val=.333, test=.333, no_samples=30)\n",
    "# model = artificial_transformer.Transformer()\n",
    "\n",
    "model, optimizer, trainin_losses, validation_losses, test_loss = artificial_train.train(1, datasets['train'], datasets['val'], datasets['test'])\n",
    "\n",
    "eval_df = evaluate_model(model, datasets['test'], dfs['test'])\n",
    "analyze_results(eval_df)\n",
    "\n",
    "\n"
   ],
   "id": "5a259bbea3da68f2",
   "outputs": [
    {
     "name": "stdout",
     "output_type": "stream",
     "text": [
      "Start of train()\n",
      "Data loaders initialized\n",
      "Created new model\n",
      "Created new optimizer\n",
      "Starting training\n"
     ]
    },
    {
     "name": "stderr",
     "output_type": "stream",
     "text": [
      "                                                                              \r"
     ]
    },
    {
     "name": "stdout",
     "output_type": "stream",
     "text": [
      "Epoch [1/1], Training Loss: 1.0066\n"
     ]
    },
    {
     "name": "stderr",
     "output_type": "stream",
     "text": [
      "Epoch 1/1 - Validation:   0%|          | 0/1 [00:00<?, ?it/s]/home/dofri/epfl/semester_project/venv/lib/python3.10/site-packages/torch/nn/modules/transformer.py:502: UserWarning: The PyTorch API of nested tensors is in prototype stage and will change in the near future. (Triggered internally at ../aten/src/ATen/NestedTensorImpl.cpp:178.)\n",
      "  output = torch._nested_tensor_from_mask(\n",
      "                                                                        \r"
     ]
    },
    {
     "name": "stdout",
     "output_type": "stream",
     "text": [
      "Validation Loss: 1.1202, Validation Mean Error: -0.6873 \n",
      "Validation loss improved to 1.1202. Saving model.\n",
      "Loaded best model based on validation loss.\n"
     ]
    },
    {
     "name": "stderr",
     "output_type": "stream",
     "text": [
      "                                                         \r"
     ]
    },
    {
     "name": "stdout",
     "output_type": "stream",
     "text": [
      "Test Loss: 1.8209\n",
      "Training complete!\n",
      "Correlation between True Frequency and MSE: 0.6354, p-value: 4.8362e-02\n",
      "Correlation between Width and MSE: -0.5784, p-value: 7.9843e-02\n",
      "Mean squared error: 2.3195, Mean error: -0.9302, Mean absolute error: 1.3463\n"
     ]
    },
    {
     "data": {
      "text/plain": [
       "<Figure size 800x600 with 1 Axes>"
      ],
      "image/png": "[encoded data removed]"
     },
     "metadata": {},
     "output_type": "display_data"
    }
   ],
   "execution_count": 12
  },
  {
   "metadata": {
    "ExecuteTime": {
     "end_time": "2024-11-23T17:29:56.516880Z",
     "start_time": "2024-11-23T17:29:55.952130Z"
    }
   },
   "cell_type": "code",
   "source": [
    "from src.models.transformer_artifical_data.artificial_transformer_cls import TransformerWCLS\n",
    "from src.models.transformer_artifical_data.artificial_transformer_bad_pooling import TransformerBadPool\n",
    "# Dummy test dataset\n",
    "datasets, dfs = artificial_dataset.split_data_into_datasets(train=.333, val=.333, test=.333, no_samples=30)\n",
    "model = TransformerBadPool()\n",
    "\n",
    "model, optimizer, trainin_losses, validation_losses, test_loss = artificial_train.train(1, datasets['train'], datasets['val'], datasets['test'], model=model)\n",
    "\n",
    "eval_df = evaluate_model(model, datasets['test'], dfs['test'])\n",
    "analyze_results(eval_df)\n",
    "\n",
    "\n",
    "\n"
   ],
   "id": "fbad354d11a7b1f2",
   "outputs": [
    {
     "name": "stdout",
     "output_type": "stream",
     "text": [
      "Start of train()\n",
      "Data loaders initialized\n",
      "Using existing model\n",
      "Created new optimizer\n",
      "Starting training\n"
     ]
    },
    {
     "name": "stderr",
     "output_type": "stream",
     "text": [
      "                                                                              \r"
     ]
    },
    {
     "name": "stdout",
     "output_type": "stream",
     "text": [
      "Epoch [1/1], Training Loss: 1.0615\n"
     ]
    },
    {
     "name": "stderr",
     "output_type": "stream",
     "text": [
      "                                                                         \r"
     ]
    },
    {
     "name": "stdout",
     "output_type": "stream",
     "text": [
      "Validation Loss: 0.9148, Validation Mean Error: -0.5174 \n",
      "Validation loss improved to 0.9148. Saving model.\n",
      "Loaded best model based on validation loss.\n"
     ]
    },
    {
     "name": "stderr",
     "output_type": "stream",
     "text": [
      "                                                         \r"
     ]
    },
    {
     "name": "stdout",
     "output_type": "stream",
     "text": [
      "Test Loss: 1.6271\n",
      "Training complete!\n",
      "Correlation between True Frequency and MSE: 0.7003, p-value: 2.4112e-02\n",
      "Correlation between Width and MSE: -0.5676, p-value: 8.7000e-02\n",
      "Mean squared error: 2.5922, Mean error: -1.0772, Mean absolute error: 1.4294\n"
     ]
    },
    {
     "data": {
      "text/plain": [
       "<Figure size 800x600 with 1 Axes>"
      ],
      "image/png": "[encoded data removed]"
     },
     "metadata": {},
     "output_type": "display_data"
    }
   ],
   "execution_count": 15
  },
  {
   "metadata": {
    "ExecuteTime": {
     "end_time": "2024-11-15T19:44:57.280374Z",
     "start_time": "2024-11-15T19:44:55.334502Z"
    }
   },
   "cell_type": "code",
   "source": [
    "# import zipfile\n",
    "# import os\n",
    "# from src import utils\n",
    "# zip_path = os.path.join(utils.get_project_root(), 'src','datasets','artificial_strips.zip')\n",
    "# extract_to = os.path.join(utils.get_project_root(), 'src', 'datasets')\n",
    "# with zipfile.ZipFile(zip_path, 'r') as zip_ref:\n",
    "#     zip_ref.extractall(extract_to)\n",
    "#     print(f\"Unzipped {zip_path} to {extract_to}\")"
   ],
   "id": "a02cea61b030db6c",
   "outputs": [
    {
     "name": "stdout",
     "output_type": "stream",
     "text": [
      "Unzipped /home/dofri/epfl/semester_project/src/datasets/artificial_strips.zip to /home/dofri/epfl/semester_project/src/datasets\n"
     ]
    }
   ],
   "execution_count": 7
  },
  {
   "metadata": {
    "ExecuteTime": {
     "end_time": "2024-11-16T15:12:18.977475Z",
     "start_time": "2024-11-16T15:12:18.925079Z"
    }
   },
   "cell_type": "code",
   "source": [
    "from src.models.cnn.simple_cnn import SimpleCNN \n",
    "from src.models.transformer_artifical_data import artificial_transformer \n",
    "cnn_model = SimpleCNN()\n",
    "transformer_model =  artificial_transformer.Transformer()\n",
    "\n",
    "\n",
    "\n",
    "# print model number of parameters\n",
    "num_params_cnn = sum(p.numel() for p in cnn_model.parameters())\n",
    "num_params_transformer = sum(p.numel() for p in transformer_model.parameters())\n",
    "print(num_params_cnn)\n",
    "print(num_params_transformer)"
   ],
   "id": "b61e83da18bd133b",
   "outputs": [
    {
     "name": "stdout",
     "output_type": "stream",
     "text": [
      "2542977\n",
      "607361\n"
     ]
    }
   ],
   "execution_count": 55
  },
  {
   "metadata": {
    "ExecuteTime": {
     "end_time": "2024-11-16T20:50:07.943629Z",
     "start_time": "2024-11-16T20:50:07.155105Z"
    }
   },
   "cell_type": "code",
   "source": [
    "from src.models.cnn import cnn_train \n",
    "from transformer_artifical_data import artificial_dataset\n",
    "from src.analysis.artificial_model_analysis import evaluate_model\n",
    "from src.analysis.artificial_model_analysis import analyze_results\n",
    "\n",
    "# Dummy test dataset\n",
    "datasets, dfs = artificial_dataset.split_data_into_datasets(train=.333, val=.333, test=.333, no_samples=30, data_path=utils.path_from_proot('src/datasets/artificial_strips/w600px'))\n",
    "# model = artificial_transformer.Transformer()\n",
    "\n",
    "model, optimizer, trainin_losses, validation_losses, test_loss = cnn_train.train(1, datasets['train'], datasets['val'], datasets['test'])\n",
    "\n",
    "\n",
    "eval_df = evaluate_model(model, datasets['test'], dfs['test'], masked_model=False)\n",
    "analyze_results(eval_df)\n",
    "\n",
    " "
   ],
   "id": "eda0c200f96b493e",
   "outputs": [
    {
     "name": "stdout",
     "output_type": "stream",
     "text": [
      "Start of train()\n",
      "Data loaders initialized\n",
      "Created new model\n",
      "Created new optimizer\n",
      "Starting training\n"
     ]
    },
    {
     "name": "stderr",
     "output_type": "stream",
     "text": [
      "                                                                               \r"
     ]
    },
    {
     "name": "stdout",
     "output_type": "stream",
     "text": [
      "Epoch [1/1], Training Loss: 0.8990\n"
     ]
    },
    {
     "name": "stderr",
     "output_type": "stream",
     "text": [
      "                                                                        \r"
     ]
    },
    {
     "name": "stdout",
     "output_type": "stream",
     "text": [
      "Validation Loss: 1.8312, Validation Mean Error: -0.3942 \n",
      "Validation loss improved to 1.8312. Saving model.\n",
      "Loaded best model based on validation loss.\n"
     ]
    },
    {
     "name": "stderr",
     "output_type": "stream",
     "text": [
      "/home/dofri/epfl/semester_project/src/analysis/artificial_model_analysis.py:147: ConstantInputWarning: An input array is constant; the correlation coefficient is not defined.\n",
      "  width_mse_corr, width_mse_pval = pearsonr(widths, mses)\n"
     ]
    },
    {
     "name": "stdout",
     "output_type": "stream",
     "text": [
      "Test Loss: 2.1701\n",
      "Training complete!\n",
      "Correlation between True Frequency and MSE: 0.6610, p-value: 3.7419e-02\n",
      "Correlation between Width and MSE: nan, p-value: nan\n",
      "Mean squared error: 1.9570, Mean error: -0.2539, Mean absolute error: 1.0868\n"
     ]
    },
    {
     "data": {
      "text/plain": [
       "<Figure size 800x600 with 1 Axes>"
      ],
      "image/png": "[encoded data removed]"
     },
     "metadata": {},
     "output_type": "display_data"
    },
    {
     "data": {
      "text/plain": [
       "<Figure size 800x600 with 1 Axes>"
      ],
      "image/png": "[encoded data removed]"
     },
     "metadata": {},
     "output_type": "display_data"
    },
    {
     "data": {
      "text/plain": [
       "<Figure size 800x600 with 1 Axes>"
      ],
      "image/png": "[encoded data removed]"
     },
     "metadata": {},
     "output_type": "display_data"
    }
   ],
   "execution_count": 112
  },
  {
   "metadata": {
    "ExecuteTime": {
     "end_time": "2024-11-24T15:31:51.188835Z",
     "start_time": "2024-11-24T15:31:51.142505Z"
    }
   },
   "cell_type": "code",
   "source": [
    "from src.models.transformer_artifical_data.artificial_dataset_fixed_width import ArtificialStreaksDatasetWithFixedWidth\n",
    "from src.models.transformer_artifical_data import artificial_dataset_fixed_width\n",
    "\n",
    "# Try data loader with random starts\n",
    "width = 500\n",
    "datasets, dfs = artificial_dataset_fixed_width.split_data_into_datasets(min_width=width, no_samples=40)\n",
    "print (len(datasets['train']))\n",
    "print(len(datasets['val']))\n",
    "print(len(datasets['test']))\n"
   ],
   "id": "674b419ed12a31fc",
   "outputs": [
    {
     "name": "stdout",
     "output_type": "stream",
     "text": [
      "32\n",
      "4\n",
      "4\n"
     ]
    }
   ],
   "execution_count": 36
  },
  {
   "metadata": {
    "ExecuteTime": {
     "end_time": "2024-11-24T15:11:26.760117Z",
     "start_time": "2024-11-24T15:11:26.726537Z"
    }
   },
   "cell_type": "code",
   "source": [
    "from torch.utils.data import DataLoader\n",
    "train_loader = DataLoader(datasets['train'], batch_size=8, shuffle=True)\n",
    "val_loader = DataLoader(datasets['val'], batch_size=2, shuffle=True)\n",
    "test_loader = DataLoader(datasets['test'], batch_size=1, shuffle=True)\n",
    "\n",
    "# Check widths of images from the dataloaders\n",
    "for i, (images, targets) in enumerate(train_loader):\n",
    "    print(images.shape)\n",
    "    print(targets.shape)\n",
    "\n",
    "print()\n",
    "for i, (images, targets) in enumerate(val_loader):\n",
    "    print(images.shape)\n",
    "    print(targets.shape)\n",
    "\n",
    "print()    \n",
    "for i, (images, targets) in enumerate(test_loader):\n",
    "    print(images.shape)\n",
    "    print(targets.shape)"
   ],
   "id": "444b36036a42707a",
   "outputs": [
    {
     "ename": "NameError",
     "evalue": "name 'datasets' is not defined",
     "output_type": "error",
     "traceback": [
      "\u001B[0;31m---------------------------------------------------------------------------\u001B[0m",
      "\u001B[0;31mNameError\u001B[0m                                 Traceback (most recent call last)",
      "Cell \u001B[0;32mIn[16], line 2\u001B[0m\n\u001B[1;32m      1\u001B[0m \u001B[38;5;28;01mfrom\u001B[39;00m \u001B[38;5;21;01mtorch\u001B[39;00m\u001B[38;5;21;01m.\u001B[39;00m\u001B[38;5;21;01mutils\u001B[39;00m\u001B[38;5;21;01m.\u001B[39;00m\u001B[38;5;21;01mdata\u001B[39;00m \u001B[38;5;28;01mimport\u001B[39;00m DataLoader\n\u001B[0;32m----> 2\u001B[0m train_loader \u001B[38;5;241m=\u001B[39m DataLoader(\u001B[43mdatasets\u001B[49m[\u001B[38;5;124m'\u001B[39m\u001B[38;5;124mtrain\u001B[39m\u001B[38;5;124m'\u001B[39m], batch_size\u001B[38;5;241m=\u001B[39m\u001B[38;5;241m8\u001B[39m, shuffle\u001B[38;5;241m=\u001B[39m\u001B[38;5;28;01mTrue\u001B[39;00m)\n\u001B[1;32m      3\u001B[0m val_loader \u001B[38;5;241m=\u001B[39m DataLoader(datasets[\u001B[38;5;124m'\u001B[39m\u001B[38;5;124mval\u001B[39m\u001B[38;5;124m'\u001B[39m], batch_size\u001B[38;5;241m=\u001B[39m\u001B[38;5;241m2\u001B[39m, shuffle\u001B[38;5;241m=\u001B[39m\u001B[38;5;28;01mTrue\u001B[39;00m)\n\u001B[1;32m      4\u001B[0m test_loader \u001B[38;5;241m=\u001B[39m DataLoader(datasets[\u001B[38;5;124m'\u001B[39m\u001B[38;5;124mtest\u001B[39m\u001B[38;5;124m'\u001B[39m], batch_size\u001B[38;5;241m=\u001B[39m\u001B[38;5;241m1\u001B[39m, shuffle\u001B[38;5;241m=\u001B[39m\u001B[38;5;28;01mTrue\u001B[39;00m)\n",
      "\u001B[0;31mNameError\u001B[0m: name 'datasets' is not defined"
     ]
    }
   ],
   "execution_count": 16
  },
  {
   "metadata": {
    "ExecuteTime": {
     "end_time": "2024-11-24T16:19:12.573110Z",
     "start_time": "2024-11-24T16:19:12.511064Z"
    }
   },
   "cell_type": "code",
   "source": [
    "\n",
    "from src.models import dataset\n",
    "from torch.utils.data import DataLoader\n",
    "\n",
    "\n",
    "datasets, dataframes = dataset.split_data_into_datasets(min_width=500, no_samples=40, split_on_files=False)\n",
    "print (len(datasets['train']))\n",
    "print(len(datasets['val']))\n",
    "print(len(datasets['test']))\n",
    "tr_train_loader = DataLoader(datasets['train'], batch_size=8, shuffle=True, collate_fn=dataset.collate_fn_w_maks)\n",
    "tr_val_loader = DataLoader(datasets['val'], batch_size=2, shuffle=True, collate_fn=dataset.collate_fn_wo_maks)\n",
    "tr_test_loader = DataLoader(datasets['test'], batch_size=1, shuffle=True, collate_fn=dataset.collate_fn_wo_maks)\n",
    "\n",
    "\n",
    "# Check widths of images from the dataloaders\n",
    "for i, (images, mask, numeric, targets) in enumerate(train_loader):\n",
    "    print('images.shape ', images.shape)\n",
    "    print('numeric.shape', numeric.shape)\n",
    "    print('targets.shape', targets.shape)\n",
    "\n",
    "print()\n",
    "for i, (images, mask, numeric, targets) in enumerate(val_loader):\n",
    "    print('images.shape ', images.shape)\n",
    "    print('numeric.shape', numeric.shape)\n",
    "    print('targets.shape', targets.shape)\n",
    "\n",
    "print()\n",
    "for i, (images, mask, numeric, targets) in enumerate(test_loader):\n",
    "    print(i)\n",
    "    print('images.shape ', images.shape)\n",
    "    print('numeric.shape', numeric.shape)\n",
    "    print('targets.shape', targets.shape)\n",
    "    "
   ],
   "id": "e3400761d9a05ec5",
   "outputs": [
    {
     "name": "stdout",
     "output_type": "stream",
     "text": [
      "32\n",
      "4\n",
      "4\n",
      "images.shape  torch.Size([8, 500, 32])\n",
      "numeric.shape torch.Size([8, 7])\n",
      "targets.shape torch.Size([8])\n",
      "images.shape  torch.Size([8, 500, 32])\n",
      "numeric.shape torch.Size([8, 7])\n",
      "targets.shape torch.Size([8])\n",
      "images.shape  torch.Size([8, 500, 32])\n",
      "numeric.shape torch.Size([8, 7])\n",
      "targets.shape torch.Size([8])\n",
      "images.shape  torch.Size([8, 500, 32])\n",
      "numeric.shape torch.Size([8, 7])\n",
      "targets.shape torch.Size([8])\n",
      "\n",
      "images.shape  torch.Size([2, 500, 32])\n",
      "numeric.shape torch.Size([2, 7])\n",
      "targets.shape torch.Size([2])\n",
      "images.shape  torch.Size([2, 500, 32])\n",
      "numeric.shape torch.Size([2, 7])\n",
      "targets.shape torch.Size([2])\n",
      "\n",
      "0\n",
      "images.shape  torch.Size([1, 500, 32])\n",
      "numeric.shape torch.Size([1, 7])\n",
      "targets.shape torch.Size([1])\n",
      "1\n",
      "images.shape  torch.Size([1, 500, 32])\n",
      "numeric.shape torch.Size([1, 7])\n",
      "targets.shape torch.Size([1])\n",
      "2\n",
      "images.shape  torch.Size([1, 500, 32])\n",
      "numeric.shape torch.Size([1, 7])\n",
      "targets.shape torch.Size([1])\n",
      "3\n",
      "images.shape  torch.Size([1, 500, 32])\n",
      "numeric.shape torch.Size([1, 7])\n",
      "targets.shape torch.Size([1])\n"
     ]
    }
   ],
   "execution_count": 47
  },
  {
   "metadata": {
    "ExecuteTime": {
     "end_time": "2024-11-24T17:45:18.306426Z",
     "start_time": "2024-11-24T17:45:16.624545Z"
    }
   },
   "cell_type": "code",
   "source": [
    "from src.models import simple_transformer\n",
    "from src.models import train\n",
    "\n",
    "tr_model, tr_optimizer, tr_train_losses, tr_val_losses, tr_test_loss = train.train(1, datasets['train'], datasets['val'], datasets['test'])"
   ],
   "id": "49a51a62586dc05a",
   "outputs": [
    {
     "name": "stdout",
     "output_type": "stream",
     "text": [
      "Start of train()\n",
      "Data loaders initialized\n",
      "Created new model\n",
      "Created new optimizer\n",
      "Starting training\n"
     ]
    },
    {
     "name": "stderr",
     "output_type": "stream",
     "text": [
      "                                                                                    \r"
     ]
    },
    {
     "name": "stdout",
     "output_type": "stream",
     "text": [
      "Epoch [1/1], Training Loss: 0.7772\n"
     ]
    },
    {
     "name": "stderr",
     "output_type": "stream",
     "text": [
      "                                                                           \r"
     ]
    },
    {
     "name": "stdout",
     "output_type": "stream",
     "text": [
      "Validation Loss: 1.1522, Validation Mean Error: 0.305 \n",
      "Validation loss improved to 1.1522. Saving model.\n",
      "Loaded best model based on validation loss.\n"
     ]
    },
    {
     "name": "stderr",
     "output_type": "stream",
     "text": [
      "                                                            "
     ]
    },
    {
     "name": "stdout",
     "output_type": "stream",
     "text": [
      "Test Loss: 1.2562\n",
      "Training complete!\n"
     ]
    },
    {
     "name": "stderr",
     "output_type": "stream",
     "text": [
      "\r"
     ]
    }
   ],
   "execution_count": 57
  },
  {
   "metadata": {
    "ExecuteTime": {
     "end_time": "2024-11-24T17:44:41.656217Z",
     "start_time": "2024-11-24T17:44:41.125614Z"
    }
   },
   "cell_type": "code",
   "source": [
    "from src.models.cnn import cnn_train_w_numerics\n",
    "\n",
    "datasets, dataframes = dataset.split_data_into_datasets(min_width=500, no_samples=40, split_on_files=False)\n",
    "cnn_model, cnn_optimizer, cnn_train_losses, cnn_val_losses, cnn_test_loss = cnn_train_w_numerics.train(1, datasets['train'], datasets['val'], datasets['test'])"
   ],
   "id": "1c3f9a7d17a8d7ae",
   "outputs": [
    {
     "name": "stdout",
     "output_type": "stream",
     "text": [
      "Start of train()\n",
      "Data loaders initialized\n",
      "Created new model\n",
      "Created new optimizer\n",
      "Starting training\n"
     ]
    },
    {
     "name": "stderr",
     "output_type": "stream",
     "text": [
      "                                                                               \r"
     ]
    },
    {
     "name": "stdout",
     "output_type": "stream",
     "text": [
      "Epoch [1/1], Training Loss: 0.9726\n"
     ]
    },
    {
     "name": "stderr",
     "output_type": "stream",
     "text": [
      "                                                                        \r"
     ]
    },
    {
     "name": "stdout",
     "output_type": "stream",
     "text": [
      "Validation Loss: 1.8577, Validation Mean Error: 0.2422 \n",
      "Validation loss improved to 1.8577. Saving model.\n",
      "Loaded best model based on validation loss.\n"
     ]
    },
    {
     "name": "stderr",
     "output_type": "stream",
     "text": [
      "                                                         "
     ]
    },
    {
     "name": "stdout",
     "output_type": "stream",
     "text": [
      "Test Loss: 1.9425\n",
      "Training complete!\n"
     ]
    },
    {
     "name": "stderr",
     "output_type": "stream",
     "text": [
      "\r"
     ]
    }
   ],
   "execution_count": 54
  },
  {
   "metadata": {
    "ExecuteTime": {
     "end_time": "2024-11-24T17:45:23.224508Z",
     "start_time": "2024-11-24T17:45:23.195333Z"
    }
   },
   "cell_type": "code",
   "source": [
    "# print model size\n",
    "num_params_cnn = sum(p.numel() for p in cnn_model.parameters())\n",
    "num_params_transformer = sum(p.numel() for p in tr_model.parameters())\n",
    "print(num_params_cnn)\n",
    "print(num_params_transformer)"
   ],
   "id": "295b3282884feafb",
   "outputs": [
    {
     "name": "stdout",
     "output_type": "stream",
     "text": [
      "500001\n",
      "724737\n"
     ]
    }
   ],
   "execution_count": 58
  },
  {
   "metadata": {
    "ExecuteTime": {
     "end_time": "2024-11-29T11:45:09.584907Z",
     "start_time": "2024-11-29T11:45:04.460138Z"
    }
   },
   "cell_type": "code",
   "source": [
    "# Test artificial dataset with synthetic_32\n",
    "from src.models.transformer_artifical_data import artificial_dataset_fixed_width\n",
    "datasets, dfs = artificial_dataset_fixed_width.split_data_into_datasets_synthetic_32()"
   ],
   "id": "d202e4b7d517be3b",
   "outputs": [],
   "execution_count": 9
  },
  {
   "metadata": {
    "ExecuteTime": {
     "end_time": "2024-11-29T11:55:03.696667Z",
     "start_time": "2024-11-29T11:50:33.872617Z"
    }
   },
   "cell_type": "code",
   "source": [
    "from src.models.transformer_artifical_data import artificial_train\n",
    "model, optimizer, trainin_losses, validation_losses, test_loss = artificial_train.train(1, datasets['train'], datasets['val'], datasets['test'])"
   ],
   "id": "64d03122b39d116c",
   "outputs": [
    {
     "name": "stdout",
     "output_type": "stream",
     "text": [
      "Start of train()\n",
      "Data loaders initialized\n",
      "Created new model\n"
     ]
    },
    {
     "name": "stderr",
     "output_type": "stream",
     "text": [
      "/home/dofri/epfl/semester_project/venv/lib/python3.10/site-packages/torch/cuda/__init__.py:129: UserWarning: CUDA initialization: CUDA unknown error - this may be due to an incorrectly set up environment, e.g. changing env variable CUDA_VISIBLE_DEVICES after program start. Setting the available devices to be zero. (Triggered internally at ../c10/cuda/CUDAFunctions.cpp:108.)\n",
      "  return torch._C._cuda_getDeviceCount() > 0\n"
     ]
    },
    {
     "name": "stdout",
     "output_type": "stream",
     "text": [
      "Created new optimizer\n",
      "Starting training\n"
     ]
    },
    {
     "name": "stderr",
     "output_type": "stream",
     "text": [
      "                                                                                   \r"
     ]
    },
    {
     "name": "stdout",
     "output_type": "stream",
     "text": [
      "Epoch [1/1], Training Loss: 1.0132\n"
     ]
    },
    {
     "name": "stderr",
     "output_type": "stream",
     "text": [
      "Epoch 1/1 - Validation:   0%|          | 0/32 [00:00<?, ?it/s]/home/dofri/epfl/semester_project/venv/lib/python3.10/site-packages/torch/nn/modules/transformer.py:502: UserWarning: The PyTorch API of nested tensors is in prototype stage and will change in the near future. (Triggered internally at ../aten/src/ATen/NestedTensorImpl.cpp:178.)\n",
      "  output = torch._nested_tensor_from_mask(\n",
      "                                                                                   \r"
     ]
    },
    {
     "name": "stdout",
     "output_type": "stream",
     "text": [
      "Validation Loss: 1.0535, Validation Mean Error: 0.06969 \n",
      "Validation loss improved to 1.0535. Saving model.\n",
      "Loaded best model based on validation loss.\n"
     ]
    },
    {
     "name": "stderr",
     "output_type": "stream",
     "text": [
      "                                                                    "
     ]
    },
    {
     "name": "stdout",
     "output_type": "stream",
     "text": [
      "Test Loss: 1.0719\n",
      "Training complete!\n"
     ]
    },
    {
     "name": "stderr",
     "output_type": "stream",
     "text": [
      "\r"
     ]
    }
   ],
   "execution_count": 10
  },
  {
   "metadata": {},
   "cell_type": "markdown",
   "source": "",
   "id": "9015e791e528532f"
  },
  {
   "metadata": {},
   "cell_type": "code",
   "outputs": [],
   "execution_count": null,
   "source": "",
   "id": "afe67ea1bb44573b"
  },
  {
   "metadata": {
    "ExecuteTime": {
     "end_time": "2024-12-04T20:02:54.461162Z",
     "start_time": "2024-12-04T20:02:40.380424Z"
    }
   },
   "cell_type": "code",
   "source": [
    "# Test new base dataset with different models and datasets.\n",
    "from src.models.base_dataset import split_data_into_datasets_strips_171124_lc \n",
    "from src.models.base_dataset import split_data_into_datasets_synthetic_32 \n",
    "from src.models.simple_transformer import Transformer as NumericTransformer\n",
    "from src.models.cnn.simple_cnn import SimpleCNN\n",
    "from src.models.cnn.simple_cnn_w_numerics import SimpleCNNWithNumerics\n",
    "from src.models.transformer_artifical_data.artificial_transformer import Transformer as SimpleTransformer\n",
    "from src.models.transformer_artifical_data.artificial_transformer_cls import TransformerWCLS as SimpleTransformerCLS\n",
    "from src.models.transformer_artifical_data.artificial_transformer_bad_pooling import TransformerBadPool as SimpleTransformerBadPool\n",
    "from src.models.train import train \n",
    "simple_cnn = SimpleCNN()\n",
    "numeric_cnn = SimpleCNNWithNumerics()\n",
    "numeric_transformer = NumericTransformer()\n",
    "simple_transformer = SimpleTransformer()\n",
    "simple_transformer_cls = SimpleTransformerCLS()\n",
    "simple_transformer_bad_pool = SimpleTransformerBadPool()\n",
    "\n",
    "models = [simple_cnn, numeric_cnn, numeric_transformer, simple_transformer, simple_transformer_cls, simple_transformer_bad_pool]\n",
    "numeric_models = [\n",
    "    numeric_transformer, \n",
    "    numeric_cnn ]\n",
    "non_numeric_models = [simple_cnn, simple_transformer, simple_transformer_cls, simple_transformer_bad_pool]\n",
    "# numerical_columns=(\n",
    "#     'IRSKY_TEMP', 'TEMP', 'WINDSP', 'PRES', 'FWHM', 'RHUM')#, 'TAU0')\n",
    "true_dataset, true_dfs = split_data_into_datasets_strips_171124_lc(no_samples=40)\n",
    "synthetic_dataset, synthetic_dfs = split_data_into_datasets_synthetic_32(no_samples=40)\n",
    "\n",
    "for model in numeric_models:\n",
    "    train(1, true_dataset['train'], true_dataset['val'], true_dataset['test'], model)\n",
    "\n",
    "for model in non_numeric_models:\n",
    "    train(1, synthetic_dataset['train'], synthetic_dataset['val'], synthetic_dataset['test'], model)\n",
    "\n"
   ],
   "id": "2d45e1da24191b37",
   "outputs": [
    {
     "name": "stdout",
     "output_type": "stream",
     "text": [
      "Train: 30 samples, Val: 1 samples, Test: 9 samples\n",
      "Train: 32 samples, Val: 4 samples, Test: 4 samples\n",
      "Start of train()\n",
      "Training model: {'name': 'TransformerWNumerics', 'description': 'Basic transformer with with numeric inputs.', 'input_requires_mask': True, 'input_requires_numerics': True, 'supports_variable_sequence_length': True}\n",
      "Data loaders initialized\n",
      "Created new optimizer\n",
      "Starting training\n"
     ]
    },
    {
     "name": "stderr",
     "output_type": "stream",
     "text": [
      "                                                                                 \r"
     ]
    },
    {
     "name": "stdout",
     "output_type": "stream",
     "text": [
      "Epoch [1/1], Training Loss: 0.7343\n"
     ]
    },
    {
     "name": "stderr",
     "output_type": "stream",
     "text": [
      "Epoch 1/1 - Validation:   0%|          | 0/1 [00:00<?, ?it/s, loss=1.47]   "
     ]
    },
    {
     "name": "stdout",
     "output_type": "stream",
     "text": [
      "Validation Loss: 13.5078, Validation Mean Error: -0.4182 \n",
      "Validation loss improved to 13.5078. Saving model.\n",
      "Loaded best model based on validation loss.\n"
     ]
    },
    {
     "name": "stderr",
     "output_type": "stream",
     "text": [
      "\n",
      "Testing:   0%|          | 0/9 [00:00<?, ?it/s]\u001B[A\n",
      "Testing:   0%|          | 0/9 [00:00<?, ?it/s, loss=1.03]\u001B[A\n",
      "Testing:   0%|          | 0/9 [00:00<?, ?it/s, loss=1.45]\u001B[A\n",
      "Testing:   0%|          | 0/9 [00:00<?, ?it/s, loss=0.119]\u001B[A\n",
      "Testing:   0%|          | 0/9 [00:00<?, ?it/s, loss=0.21] \u001B[A\n",
      "Testing:   0%|          | 0/9 [00:00<?, ?it/s, loss=0.909]\u001B[A\n",
      "Testing:   0%|          | 0/9 [00:00<?, ?it/s, loss=0.198]\u001B[A\n",
      "Testing:   0%|          | 0/9 [00:00<?, ?it/s, loss=0.173]\u001B[A\n",
      "Testing:   0%|          | 0/9 [00:00<?, ?it/s, loss=0.226]\u001B[A\n",
      "Testing:   0%|          | 0/9 [00:00<?, ?it/s, loss=0.322]\u001B[A\n",
      "Testing:   0%|          | 0/9 [00:00<?, ?it/s, loss=0.585]\u001B[A\n",
      "Testing:   0%|          | 0/9 [00:00<?, ?it/s, loss=0.211]\u001B[A\n",
      "Testing:   0%|          | 0/9 [00:00<?, ?it/s, loss=0.259]\u001B[A\n",
      "Testing:   0%|          | 0/9 [00:00<?, ?it/s, loss=0.324]\u001B[A\n",
      "Testing:   0%|          | 0/9 [00:00<?, ?it/s, loss=0.00629]\u001B[A\n",
      "Testing:   0%|          | 0/9 [00:00<?, ?it/s, loss=0.555]  \u001B[A\n",
      "Testing:   0%|          | 0/9 [00:00<?, ?it/s, loss=0.421]\u001B[A\n",
      "Testing:   0%|          | 0/9 [00:00<?, ?it/s, loss=0.857]\u001B[A\n",
      "Testing:   0%|          | 0/9 [00:00<?, ?it/s, loss=0.343]\u001B[A\n",
      "Testing:   0%|          | 0/9 [00:00<?, ?it/s, loss=0.497]\u001B[A\n",
      "Testing:   0%|          | 0/9 [00:00<?, ?it/s, loss=0.324]\u001B[A\n",
      "Testing:   0%|          | 0/9 [00:00<?, ?it/s, loss=0.533]\u001B[A\n",
      "Testing:   0%|          | 0/9 [00:00<?, ?it/s, loss=0.199]\u001B[A\n",
      "Testing:   0%|          | 0/9 [00:00<?, ?it/s, loss=0.684]\u001B[A\n",
      "Testing:   0%|          | 0/9 [00:00<?, ?it/s, loss=0.549]\u001B[A\n",
      "Testing:   0%|          | 0/9 [00:00<?, ?it/s, loss=0.0912]\u001B[A\n",
      "Testing:   0%|          | 0/9 [00:00<?, ?it/s, loss=0.579] \u001B[A\n",
      "Testing:   0%|          | 0/9 [00:00<?, ?it/s, loss=0.142]\u001B[A\n",
      "Testing:   0%|          | 0/9 [00:00<?, ?it/s, loss=0.338]\u001B[A\n",
      "Testing:   0%|          | 0/9 [00:00<?, ?it/s, loss=0.548]\u001B[A\n",
      "                                                                        \r\n",
      "                                                         \u001B[A"
     ]
    },
    {
     "name": "stdout",
     "output_type": "stream",
     "text": [
      "Test Loss: 1.5140\n",
      "Training complete!\n",
      "Start of train()\n",
      "Training model: {'name': 'CNNWNumeric', 'description': 'Basic CNN with numeric data integration', 'input_requires_mask': False, 'input_requires_numerics': True, 'supports_variable_sequence_length': False}\n",
      "Data loaders initialized\n",
      "Created new optimizer\n",
      "Starting training\n"
     ]
    },
    {
     "name": "stderr",
     "output_type": "stream",
     "text": [
      "                                                                                    \r"
     ]
    },
    {
     "name": "stdout",
     "output_type": "stream",
     "text": [
      "Epoch [1/1], Training Loss: 0.9135\n"
     ]
    },
    {
     "name": "stderr",
     "output_type": "stream",
     "text": [
      "Epoch 1/1 - Validation:   0%|          | 0/1 [00:00<?, ?it/s, loss=0.375] "
     ]
    },
    {
     "name": "stdout",
     "output_type": "stream",
     "text": [
      "Validation Loss: 23.1827, Validation Mean Error: -1.824 \n",
      "Validation loss improved to 23.1827. Saving model.\n",
      "Loaded best model based on validation loss.\n"
     ]
    },
    {
     "name": "stderr",
     "output_type": "stream",
     "text": [
      "\n",
      "Testing:   0%|          | 0/9 [00:00<?, ?it/s]\u001B[A\n",
      "Testing:   0%|          | 0/9 [00:00<?, ?it/s, loss=0.214]\u001B[A\n",
      "Testing:   0%|          | 0/9 [00:00<?, ?it/s, loss=1.98] \u001B[A\n",
      "Testing:   0%|          | 0/9 [00:00<?, ?it/s, loss=0.922]\u001B[A\n",
      "Testing:   0%|          | 0/9 [00:00<?, ?it/s, loss=0.441]\u001B[A\n",
      "Testing:   0%|          | 0/9 [00:00<?, ?it/s, loss=0.0591]\u001B[A\n",
      "Testing:   0%|          | 0/9 [00:00<?, ?it/s, loss=0.445] \u001B[A\n",
      "Testing:   0%|          | 0/9 [00:00<?, ?it/s, loss=0.679]\u001B[A\n",
      "Testing:   0%|          | 0/9 [00:00<?, ?it/s, loss=0.867]\u001B[A\n",
      "Testing:   0%|          | 0/9 [00:00<?, ?it/s, loss=1.99] \u001B[A\n",
      "Testing:   0%|          | 0/9 [00:00<?, ?it/s, loss=1.03]\u001B[A\n",
      "Testing:   0%|          | 0/9 [00:00<?, ?it/s, loss=2.01]\u001B[A\n",
      "Testing:   0%|          | 0/9 [00:00<?, ?it/s, loss=0.409]\u001B[A\n",
      "Testing:   0%|          | 0/9 [00:00<?, ?it/s, loss=0.104]\u001B[A\n",
      "Testing:   0%|          | 0/9 [00:00<?, ?it/s, loss=0.0572]\u001B[A\n",
      "Testing:   0%|          | 0/9 [00:00<?, ?it/s, loss=1.35]  \u001B[A\n",
      "Testing:   0%|          | 0/9 [00:00<?, ?it/s, loss=0.0848]\u001B[A\n",
      "Testing:   0%|          | 0/9 [00:00<?, ?it/s, loss=0.0687]\u001B[A\n",
      "Testing:   0%|          | 0/9 [00:00<?, ?it/s, loss=1.22]  \u001B[A\n",
      "Testing:   0%|          | 0/9 [00:00<?, ?it/s, loss=0.187]\u001B[A\n",
      "Testing:   0%|          | 0/9 [00:00<?, ?it/s, loss=0.408]\u001B[A\n",
      "Testing:   0%|          | 0/9 [00:00<?, ?it/s, loss=0.0728]\u001B[A\n",
      "Testing:   0%|          | 0/9 [00:00<?, ?it/s, loss=0.429] \u001B[A\n",
      "Testing:   0%|          | 0/9 [00:00<?, ?it/s, loss=0.409]\u001B[A\n",
      "Testing:   0%|          | 0/9 [00:00<?, ?it/s, loss=1.98] \u001B[A\n",
      "Testing:   0%|          | 0/9 [00:00<?, ?it/s, loss=1.27]\u001B[A\n",
      "Testing:   0%|          | 0/9 [00:00<?, ?it/s, loss=2.31]\u001B[A\n",
      "Testing:   0%|          | 0/9 [00:00<?, ?it/s, loss=0.35]\u001B[A\n",
      "Testing:   0%|          | 0/9 [00:00<?, ?it/s, loss=0.427]\u001B[A\n",
      "Testing:   0%|          | 0/9 [00:00<?, ?it/s, loss=1.26] \u001B[A\n",
      "                                                                         \r\n",
      "                                                           \u001B[A"
     ]
    },
    {
     "name": "stdout",
     "output_type": "stream",
     "text": [
      "Test Loss: 2.5680\n",
      "Training complete!\n",
      "Start of train()\n",
      "Training model: {'name': 'CNNNoNumeric', 'description': 'Basic CNN', 'input_requires_mask': False, 'input_requires_numerics': False, 'supports_variable_sequence_length': False}\n",
      "Data loaders initialized\n",
      "Created new optimizer\n",
      "Starting training\n"
     ]
    },
    {
     "name": "stderr",
     "output_type": "stream",
     "text": [
      "                                                                                    \r"
     ]
    },
    {
     "name": "stdout",
     "output_type": "stream",
     "text": [
      "Epoch [1/1], Training Loss: 1.0297\n"
     ]
    },
    {
     "name": "stderr",
     "output_type": "stream",
     "text": [
      "Epoch 1/1 - Validation:   0%|          | 0/4 [00:00<?, ?it/s, loss=0.55]   "
     ]
    },
    {
     "name": "stdout",
     "output_type": "stream",
     "text": [
      "Validation Loss: 7.7946, Validation Mean Error: -0.604 \n",
      "Validation loss improved to 7.7946. Saving model.\n",
      "Loaded best model based on validation loss.\n"
     ]
    },
    {
     "name": "stderr",
     "output_type": "stream",
     "text": [
      "\n",
      "Testing:   0%|          | 0/4 [00:00<?, ?it/s]\u001B[A\n",
      "Testing:   0%|          | 0/4 [00:00<?, ?it/s, loss=0.00465]\u001B[A\n",
      "Testing:   0%|          | 0/4 [00:00<?, ?it/s, loss=2.3]    \u001B[A\n",
      "Testing:   0%|          | 0/4 [00:00<?, ?it/s, loss=0.182]\u001B[A\n",
      "Testing:   0%|          | 0/4 [00:00<?, ?it/s, loss=0.684]\u001B[A\n",
      "Testing:   0%|          | 0/4 [00:00<?, ?it/s, loss=1.85] \u001B[A\n",
      "Testing:   0%|          | 0/4 [00:00<?, ?it/s, loss=0.55]\u001B[A\n",
      "Testing:   0%|          | 0/4 [00:00<?, ?it/s, loss=0.121]\u001B[A\n",
      "Testing:   0%|          | 0/4 [00:00<?, ?it/s, loss=2.4]  \u001B[A\n",
      "Testing:   0%|          | 0/4 [00:00<?, ?it/s, loss=1.58]\u001B[A\n",
      "Testing:   0%|          | 0/4 [00:00<?, ?it/s, loss=2.84]\u001B[A\n",
      "Testing:   0%|          | 0/4 [00:00<?, ?it/s, loss=0.886]\u001B[A\n",
      "Testing:   0%|          | 0/4 [00:00<?, ?it/s, loss=0.0793]\u001B[A\n",
      "Testing:   0%|          | 0/4 [00:00<?, ?it/s, loss=0.00496]\u001B[A\n",
      "Testing:   0%|          | 0/4 [00:00<?, ?it/s, loss=2.04]   \u001B[A\n",
      "Testing:   0%|          | 0/4 [00:00<?, ?it/s, loss=1.36]\u001B[A\n",
      "Testing:   0%|          | 0/4 [00:00<?, ?it/s, loss=1.68]\u001B[A\n",
      "Testing:   0%|          | 0/4 [00:00<?, ?it/s, loss=0.92]\u001B[A\n",
      "Testing:   0%|          | 0/4 [00:00<?, ?it/s, loss=0.699]\u001B[A\n",
      "Testing:   0%|          | 0/4 [00:00<?, ?it/s, loss=0.363]\u001B[A\n",
      "Testing:   0%|          | 0/4 [00:00<?, ?it/s, loss=0.911]\u001B[A\n",
      "Testing:   0%|          | 0/4 [00:00<?, ?it/s, loss=2.25] \u001B[A\n",
      "Testing:   0%|          | 0/4 [00:00<?, ?it/s, loss=1.11]\u001B[A\n",
      "Testing:   0%|          | 0/4 [00:00<?, ?it/s, loss=0.00139]\u001B[A\n",
      "Testing:   0%|          | 0/4 [00:00<?, ?it/s, loss=0.0198] \u001B[A\n",
      "Testing:   0%|          | 0/4 [00:00<?, ?it/s, loss=1.15]  \u001B[A\n",
      "Testing:   0%|          | 0/4 [00:00<?, ?it/s, loss=0.0401]\u001B[A\n",
      "Testing:   0%|          | 0/4 [00:00<?, ?it/s, loss=1.73]  \u001B[A\n",
      "Testing:   0%|          | 0/4 [00:00<?, ?it/s, loss=1.5] \u001B[A\n",
      "Testing:   0%|          | 0/4 [00:00<?, ?it/s, loss=0.00327]\u001B[A\n",
      "Testing:   0%|          | 0/4 [00:00<?, ?it/s, loss=0.0617] \u001B[A\n",
      "Testing:   0%|          | 0/4 [00:00<?, ?it/s, loss=7.89e-5]\u001B[A\n",
      "                                                                        \r\n",
      "                                                         \u001B[A"
     ]
    },
    {
     "name": "stdout",
     "output_type": "stream",
     "text": [
      "Test Loss: 7.7948\n",
      "Training complete!\n",
      "Start of train()\n",
      "Training model: {'name': 'TransformerNoNumeric', 'description': 'Basic transformer w. masked input.', 'input_requires_mask': True, 'input_requires_numerics': False, 'supports_variable_sequence_length': True}\n",
      "Data loaders initialized\n",
      "Created new optimizer\n",
      "Starting training\n"
     ]
    },
    {
     "name": "stderr",
     "output_type": "stream",
     "text": [
      "                                                                                   \r"
     ]
    },
    {
     "name": "stdout",
     "output_type": "stream",
     "text": [
      "Epoch [1/1], Training Loss: 1.1491\n"
     ]
    },
    {
     "name": "stderr",
     "output_type": "stream",
     "text": [
      "Epoch 1/1 - Validation:   0%|          | 0/4 [00:00<?, ?it/s, loss=0.788]  "
     ]
    },
    {
     "name": "stdout",
     "output_type": "stream",
     "text": [
      "Validation Loss: 7.7393, Validation Mean Error: -0.03578 \n",
      "Validation loss improved to 7.7393. Saving model.\n",
      "Loaded best model based on validation loss.\n"
     ]
    },
    {
     "name": "stderr",
     "output_type": "stream",
     "text": [
      "\n",
      "Testing:   0%|          | 0/4 [00:00<?, ?it/s]\u001B[A\n",
      "Testing:   0%|          | 0/4 [00:00<?, ?it/s, loss=0.0167]\u001B[A\n",
      "Testing:   0%|          | 0/4 [00:00<?, ?it/s, loss=0.00481]\u001B[A\n",
      "Testing:   0%|          | 0/4 [00:00<?, ?it/s, loss=0.175]  \u001B[A\n",
      "Testing:   0%|          | 0/4 [00:00<?, ?it/s, loss=0.57] \u001B[A\n",
      "Testing:   0%|          | 0/4 [00:00<?, ?it/s, loss=0.96]\u001B[A\n",
      "Testing:   0%|          | 0/4 [00:00<?, ?it/s, loss=0.787]\u001B[A\n",
      "Testing:   0%|          | 0/4 [00:00<?, ?it/s, loss=0.448]\u001B[A\n",
      "Testing:   0%|          | 0/4 [00:00<?, ?it/s, loss=0.248]\u001B[A\n",
      "Testing:   0%|          | 0/4 [00:00<?, ?it/s, loss=2.51] \u001B[A\n",
      "Testing:   0%|          | 0/4 [00:00<?, ?it/s, loss=0.124]\u001B[A\n",
      "Testing:   0%|          | 0/4 [00:00<?, ?it/s, loss=0.102]\u001B[A\n",
      "Testing:   0%|          | 0/4 [00:00<?, ?it/s, loss=0.0119]\u001B[A\n",
      "Testing:   0%|          | 0/4 [00:00<?, ?it/s, loss=1.76]  \u001B[A\n",
      "Testing:   0%|          | 0/4 [00:00<?, ?it/s, loss=1.14e-5]\u001B[A\n",
      "Testing:   0%|          | 0/4 [00:00<?, ?it/s, loss=2.6]    \u001B[A\n",
      "Testing:   0%|          | 0/4 [00:00<?, ?it/s, loss=1.33]\u001B[A\n",
      "Testing:   0%|          | 0/4 [00:00<?, ?it/s, loss=0.0201]\u001B[A\n",
      "Testing:   0%|          | 0/4 [00:00<?, ?it/s, loss=0.821] \u001B[A\n",
      "Testing:   0%|          | 0/4 [00:00<?, ?it/s, loss=2.04] \u001B[A\n",
      "Testing:   0%|          | 0/4 [00:00<?, ?it/s, loss=1.53]\u001B[A\n",
      "Testing:   0%|          | 0/4 [00:00<?, ?it/s, loss=2.62]\u001B[A\n",
      "Testing:   0%|          | 0/4 [00:00<?, ?it/s, loss=1.05]\u001B[A\n",
      "Testing:   0%|          | 0/4 [00:00<?, ?it/s, loss=0.00393]\u001B[A\n",
      "Testing:   0%|          | 0/4 [00:00<?, ?it/s, loss=0.0163] \u001B[A\n",
      "Testing:   0%|          | 0/4 [00:00<?, ?it/s, loss=1.67]  \u001B[A\n",
      "Testing:   0%|          | 0/4 [00:00<?, ?it/s, loss=1.55]\u001B[A\n",
      "Testing:   0%|          | 0/4 [00:00<?, ?it/s, loss=0.282]\u001B[A\n",
      "Testing:   0%|          | 0/4 [00:00<?, ?it/s, loss=1.66] \u001B[A\n",
      "Testing:   0%|          | 0/4 [00:00<?, ?it/s, loss=1.87]\u001B[A\n",
      "Testing:   0%|          | 0/4 [00:00<?, ?it/s, loss=1.31]\u001B[A\n",
      "Testing:   0%|          | 0/4 [00:00<?, ?it/s, loss=1.84]\u001B[A\n",
      "                                                                         \r\n",
      "                                                         \u001B[A"
     ]
    },
    {
     "name": "stdout",
     "output_type": "stream",
     "text": [
      "Test Loss: 7.7371\n",
      "Training complete!\n",
      "Start of train()\n",
      "Training model: {'name': 'TransformerNoNumericCLSToken', 'description': 'Basic transformer with CLS output token.', 'input_requires_mask': True, 'input_requires_numerics': False, 'supports_variable_sequence_length': True}\n",
      "Data loaders initialized\n",
      "Created new optimizer\n",
      "Starting training\n"
     ]
    },
    {
     "name": "stderr",
     "output_type": "stream",
     "text": [
      "                                                                                   \r"
     ]
    },
    {
     "name": "stdout",
     "output_type": "stream",
     "text": [
      "Epoch [1/1], Training Loss: 1.1276\n"
     ]
    },
    {
     "name": "stderr",
     "output_type": "stream",
     "text": [
      "Epoch 1/1 - Validation:   0%|          | 0/4 [00:00<?, ?it/s, loss=1.52]    "
     ]
    },
    {
     "name": "stdout",
     "output_type": "stream",
     "text": [
      "Validation Loss: 7.7498, Validation Mean Error: 0.06595 \n",
      "Validation loss improved to 7.7498. Saving model.\n",
      "Loaded best model based on validation loss.\n"
     ]
    },
    {
     "name": "stderr",
     "output_type": "stream",
     "text": [
      "\n",
      "Testing:   0%|          | 0/4 [00:00<?, ?it/s]\u001B[A\n",
      "Testing:   0%|          | 0/4 [00:00<?, ?it/s, loss=0.00292]\u001B[A\n",
      "Testing:   0%|          | 0/4 [00:00<?, ?it/s, loss=0.0167] \u001B[A\n",
      "Testing:   0%|          | 0/4 [00:00<?, ?it/s, loss=0.834] \u001B[A\n",
      "Testing:   0%|          | 0/4 [00:00<?, ?it/s, loss=0.127]\u001B[A\n",
      "Testing:   0%|          | 0/4 [00:00<?, ?it/s, loss=0.425]\u001B[A\n",
      "Testing:   0%|          | 0/4 [00:00<?, ?it/s, loss=0.556]\u001B[A\n",
      "Testing:   0%|          | 0/4 [00:00<?, ?it/s, loss=0.111]\u001B[A\n",
      "Testing:   0%|          | 0/4 [00:00<?, ?it/s, loss=0.19] \u001B[A\n",
      "Testing:   0%|          | 0/4 [00:00<?, ?it/s, loss=2]   \u001B[A\n",
      "Testing:   0%|          | 0/4 [00:00<?, ?it/s, loss=1.78]\u001B[A\n",
      "Testing:   0%|          | 0/4 [00:00<?, ?it/s, loss=0.00608]\u001B[A\n",
      "Testing:   0%|          | 0/4 [00:00<?, ?it/s, loss=1.52]   \u001B[A\n",
      "Testing:   0%|          | 0/4 [00:00<?, ?it/s, loss=1.63]\u001B[A\n",
      "Testing:   0%|          | 0/4 [00:00<?, ?it/s, loss=1.64]\u001B[A\n",
      "Testing:   0%|          | 0/4 [00:00<?, ?it/s, loss=2.53]\u001B[A\n",
      "Testing:   0%|          | 0/4 [00:00<?, ?it/s, loss=0.939]\u001B[A\n",
      "Testing:   0%|          | 0/4 [00:00<?, ?it/s, loss=1.55] \u001B[A\n",
      "Testing:   0%|          | 0/4 [00:00<?, ?it/s, loss=0.0138]\u001B[A\n",
      "Testing:   0%|          | 0/4 [00:00<?, ?it/s, loss=0.763] \u001B[A\n",
      "Testing:   0%|          | 0/4 [00:00<?, ?it/s, loss=1.81] \u001B[A\n",
      "Testing:   0%|          | 0/4 [00:00<?, ?it/s, loss=0.0229]\u001B[A\n",
      "Testing:   0%|          | 0/4 [00:00<?, ?it/s, loss=2.57]  \u001B[A\n",
      "Testing:   0%|          | 0/4 [00:00<?, ?it/s, loss=1.87]\u001B[A\n",
      "Testing:   0%|          | 0/4 [00:00<?, ?it/s, loss=0.000295]\u001B[A\n",
      "Testing:   0%|          | 0/4 [00:00<?, ?it/s, loss=0.267]   \u001B[A\n",
      "Testing:   0%|          | 0/4 [00:00<?, ?it/s, loss=1.33] \u001B[A\n",
      "Testing:   0%|          | 0/4 [00:00<?, ?it/s, loss=0.269]\u001B[A\n",
      "Testing:   0%|          | 0/4 [00:00<?, ?it/s, loss=1.31] \u001B[A\n",
      "Testing:   0%|          | 0/4 [00:00<?, ?it/s, loss=0.0198]\u001B[A\n",
      "Testing:   0%|          | 0/4 [00:00<?, ?it/s, loss=1.07]  \u001B[A\n",
      "Testing:   0%|          | 0/4 [00:00<?, ?it/s, loss=2.69]\u001B[A\n",
      "                                                                        \r\n",
      "                                                         \u001B[A"
     ]
    },
    {
     "name": "stdout",
     "output_type": "stream",
     "text": [
      "Test Loss: 7.7255\n",
      "Training complete!\n",
      "Start of train()\n",
      "Training model: {'name': 'TransformerNoNumericBadPooling', 'description': 'Basic transformer w. masked input. No masked pooling', 'input_requires_mask': True, 'input_requires_numerics': False, 'supports_variable_sequence_length': True}\n",
      "Data loaders initialized\n",
      "Created new optimizer\n",
      "Starting training\n"
     ]
    },
    {
     "name": "stderr",
     "output_type": "stream",
     "text": [
      "                                                                                    \r"
     ]
    },
    {
     "name": "stdout",
     "output_type": "stream",
     "text": [
      "Epoch [1/1], Training Loss: 1.0552\n"
     ]
    },
    {
     "name": "stderr",
     "output_type": "stream",
     "text": [
      "Epoch 1/1 - Validation:   0%|          | 0/4 [00:00<?, ?it/s, loss=1.81]    "
     ]
    },
    {
     "name": "stdout",
     "output_type": "stream",
     "text": [
      "Validation Loss: 7.7454, Validation Mean Error: 0.1008 \n",
      "Validation loss improved to 7.7454. Saving model.\n",
      "Loaded best model based on validation loss.\n"
     ]
    },
    {
     "name": "stderr",
     "output_type": "stream",
     "text": [
      "\n",
      "Testing:   0%|          | 0/4 [00:00<?, ?it/s]\u001B[A\n",
      "Testing:   0%|          | 0/4 [00:00<?, ?it/s, loss=1.79]\u001B[A\n",
      "Testing:   0%|          | 0/4 [00:00<?, ?it/s, loss=1.35]\u001B[A\n",
      "Testing:   0%|          | 0/4 [00:00<?, ?it/s, loss=0.191]\u001B[A\n",
      "Testing:   0%|          | 0/4 [00:00<?, ?it/s, loss=1.57] \u001B[A\n",
      "Testing:   0%|          | 0/4 [00:00<?, ?it/s, loss=2.68]\u001B[A\n",
      "Testing:   0%|          | 0/4 [00:00<?, ?it/s, loss=1.62]\u001B[A\n",
      "Testing:   0%|          | 0/4 [00:00<?, ?it/s, loss=0.0248]\u001B[A\n",
      "Testing:   0%|          | 0/4 [00:00<?, ?it/s, loss=0.264] \u001B[A\n",
      "Testing:   0%|          | 0/4 [00:00<?, ?it/s, loss=0.136]\u001B[A\n",
      "Testing:   0%|          | 0/4 [00:00<?, ?it/s, loss=0.267]\u001B[A\n",
      "Testing:   0%|          | 0/4 [00:00<?, ?it/s, loss=0.85] \u001B[A\n",
      "Testing:   0%|          | 0/4 [00:00<?, ?it/s, loss=1.09]\u001B[A\n",
      "Testing:   0%|          | 0/4 [00:00<?, ?it/s, loss=0.0127]\u001B[A\n",
      "Testing:   0%|          | 0/4 [00:00<?, ?it/s, loss=0.425] \u001B[A\n",
      "Testing:   0%|          | 0/4 [00:00<?, ?it/s, loss=0.000412]\u001B[A\n",
      "Testing:   0%|          | 0/4 [00:00<?, ?it/s, loss=2.55]    \u001B[A\n",
      "Testing:   0%|          | 0/4 [00:00<?, ?it/s, loss=0.756]\u001B[A\n",
      "Testing:   0%|          | 0/4 [00:00<?, ?it/s, loss=1.29] \u001B[A\n",
      "Testing:   0%|          | 0/4 [00:00<?, ?it/s, loss=0.00266]\u001B[A\n",
      "Testing:   0%|          | 0/4 [00:00<?, ?it/s, loss=0.113]  \u001B[A\n",
      "Testing:   0%|          | 0/4 [00:00<?, ?it/s, loss=1.06] \u001B[A\n",
      "Testing:   0%|          | 0/4 [00:00<?, ?it/s, loss=1.99]\u001B[A\n",
      "Testing:   0%|          | 0/4 [00:00<?, ?it/s, loss=0.0213]\u001B[A\n",
      "Testing:   0%|          | 0/4 [00:00<?, ?it/s, loss=0.547] \u001B[A\n",
      "Testing:   0%|          | 0/4 [00:00<?, ?it/s, loss=0.0158]\u001B[A\n",
      "Testing:   0%|          | 0/4 [00:00<?, ?it/s, loss=2.56]  \u001B[A\n",
      "Testing:   0%|          | 0/4 [00:00<?, ?it/s, loss=1.81]\u001B[A\n",
      "Testing:   0%|          | 0/4 [00:00<?, ?it/s, loss=1.51]\u001B[A\n",
      "Testing:   0%|          | 0/4 [00:00<?, ?it/s, loss=0.928]\u001B[A\n",
      "Testing:   0%|          | 0/4 [00:00<?, ?it/s, loss=1.62] \u001B[A\n",
      "Testing:   0%|          | 0/4 [00:00<?, ?it/s, loss=1.91]\u001B[A\n",
      "                                                                        \r\n",
      "                                                            \u001B[A"
     ]
    },
    {
     "name": "stdout",
     "output_type": "stream",
     "text": [
      "Test Loss: 7.7406\n",
      "Training complete!\n"
     ]
    }
   ],
   "execution_count": 69
  },
  {
   "metadata": {},
   "cell_type": "code",
   "outputs": [],
   "execution_count": null,
   "source": "",
   "id": "11244fc2f768db90"
  }
 ],
 "metadata": {
  "kernelspec": {
   "display_name": "Python 3 (ipykernel)",
   "language": "python",
   "name": "python3"
  },
  "language_info": {
   "codemirror_mode": {
    "name": "ipython",
    "version": 3
   },
   "file_extension": ".py",
   "mimetype": "text/x-python",
   "name": "python",
   "nbconvert_exporter": "python",
   "pygments_lexer": "ipython3",
   "version": "3.10.13"
  }
 },
 "nbformat": 4,
 "nbformat_minor": 5
}
