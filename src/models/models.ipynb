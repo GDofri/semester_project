{
 "cells": [
  {
   "cell_type": "code",
   "id": "cf46c8ca6de1b101",
   "metadata": {
    "ExecuteTime": {
     "end_time": "2024-11-23T14:34:37.767694Z",
     "start_time": "2024-11-23T14:34:37.746293Z"
    }
   },
   "source": [
    "%load_ext autoreload\n",
    "%autoreload 2\n"
   ],
   "outputs": [],
   "execution_count": 6
  },
  {
   "cell_type": "code",
   "id": "initial_id",
   "metadata": {
    "ExecuteTime": {
     "end_time": "2024-11-23T14:34:38.285626Z",
     "start_time": "2024-11-23T14:34:38.239297Z"
    }
   },
   "source": [
    "from simple_transformer import Transformer\n",
    "from dataset import StreaksDataset\n",
    "import datasets.datasets as datasets\n",
    "import torch\n",
    "import utils"
   ],
   "outputs": [
    {
     "ename": "ModuleNotFoundError",
     "evalue": "No module named 'datasets'",
     "output_type": "error",
     "traceback": [
      "\u001B[0;31m---------------------------------------------------------------------------\u001B[0m",
      "\u001B[0;31mModuleNotFoundError\u001B[0m                       Traceback (most recent call last)",
      "Cell \u001B[0;32mIn[7], line 3\u001B[0m\n\u001B[1;32m      1\u001B[0m \u001B[38;5;28;01mfrom\u001B[39;00m \u001B[38;5;21;01msimple_transformer\u001B[39;00m \u001B[38;5;28;01mimport\u001B[39;00m Transformer\n\u001B[1;32m      2\u001B[0m \u001B[38;5;28;01mfrom\u001B[39;00m \u001B[38;5;21;01mdataset\u001B[39;00m \u001B[38;5;28;01mimport\u001B[39;00m StreaksDataset\n\u001B[0;32m----> 3\u001B[0m \u001B[38;5;28;01mimport\u001B[39;00m \u001B[38;5;21;01mdatasets\u001B[39;00m\u001B[38;5;21;01m.\u001B[39;00m\u001B[38;5;21;01mdatasets\u001B[39;00m \u001B[38;5;28;01mas\u001B[39;00m \u001B[38;5;21;01mdatasets\u001B[39;00m\n\u001B[1;32m      4\u001B[0m \u001B[38;5;28;01mimport\u001B[39;00m \u001B[38;5;21;01mtorch\u001B[39;00m\n\u001B[1;32m      5\u001B[0m \u001B[38;5;28;01mimport\u001B[39;00m \u001B[38;5;21;01mutils\u001B[39;00m\n",
      "\u001B[0;31mModuleNotFoundError\u001B[0m: No module named 'datasets'"
     ]
    }
   ],
   "execution_count": 7
  },
  {
   "cell_type": "code",
   "id": "de50bb9bed14937",
   "metadata": {
    "ExecuteTime": {
     "end_time": "2024-11-04T08:14:23.963787Z",
     "start_time": "2024-11-04T08:14:23.897811Z"
    }
   },
   "source": [
    "\n",
    "model = Transformer()\n",
    "model.eval()\n",
    "batch_size = 8\n",
    "inputs = torch.randn(batch_size, 512, 32)\n",
    "numeric_features = torch.rand(batch_size,5)\n",
    "mask = torch.ones(batch_size, 512, dtype=torch.bool)\n",
    "mask[:, 256:] = 0\n",
    "outputs = model(inputs, numeric_features, mask)\n",
    "print(outputs.shape)\n",
    "print(outputs)"
   ],
   "outputs": [
    {
     "name": "stdout",
     "output_type": "stream",
     "text": [
      "torch.Size([8, 1])\n",
      "tensor([[ 0.2081],\n",
      "        [ 0.0524],\n",
      "        [ 0.0327],\n",
      "        [-0.0637],\n",
      "        [-0.2525],\n",
      "        [-0.0735],\n",
      "        [ 0.1891],\n",
      "        [ 0.2999]], grad_fn=<AddmmBackward0>)\n"
     ]
    }
   ],
   "execution_count": 116
  },
  {
   "cell_type": "code",
   "id": "a04b9ae70310b6e2",
   "metadata": {
    "ExecuteTime": {
     "end_time": "2024-11-04T08:14:25.547461Z",
     "start_time": "2024-11-04T08:14:25.523675Z"
    }
   },
   "source": [
    "\n",
    "# Print the number of parameters\n",
    "num_params = sum(p.numel() for p in model.parameters())"
   ],
   "outputs": [],
   "execution_count": 117
  },
  {
   "cell_type": "code",
   "id": "924f67f5a9cf0440",
   "metadata": {
    "ExecuteTime": {
     "end_time": "2024-11-04T08:14:26.972743Z",
     "start_time": "2024-11-04T08:14:26.950320Z"
    }
   },
   "source": [
    "print(num_params)"
   ],
   "outputs": [
    {
     "name": "stdout",
     "output_type": "stream",
     "text": [
      "125633\n"
     ]
    }
   ],
   "execution_count": 118
  },
  {
   "cell_type": "code",
   "id": "337fdba16fe64258",
   "metadata": {
    "ExecuteTime": {
     "end_time": "2024-11-03T12:32:37.734828Z",
     "start_time": "2024-11-03T12:32:37.698739Z"
    }
   },
   "source": [
    "\n",
    "# load all images\n",
    "# images_train = \n",
    "# \n",
    "# train_dataset = StreaksDataset(\n"
   ],
   "outputs": [
    {
     "ename": "AttributeError",
     "evalue": "module 'datasets' has no attribute 'split_data'",
     "output_type": "error",
     "traceback": [
      "\u001B[0;31m---------------------------------------------------------------------------\u001B[0m",
      "\u001B[0;31mAttributeError\u001B[0m                            Traceback (most recent call last)",
      "Cell \u001B[0;32mIn[17], line 1\u001B[0m\n\u001B[0;32m----> 1\u001B[0m file_names_train, file_names_val, file_names_test \u001B[38;5;241m=\u001B[39m \u001B[43mdatasets\u001B[49m\u001B[38;5;241;43m.\u001B[39;49m\u001B[43msplit_data\u001B[49m()\n",
      "\u001B[0;31mAttributeError\u001B[0m: module 'datasets' has no attribute 'split_data'"
     ]
    }
   ],
   "execution_count": 17
  },
  {
   "cell_type": "code",
   "id": "ea7831066c23cb92",
   "metadata": {
    "jupyter": {
     "is_executing": true
    }
   },
   "source": [
    "import pandas as pd\n",
    "import os\n",
    "from sklearn.model_selection import train_test_split\n",
    "import numpy as np\n",
    "from matplotlib import pyplot as plt\n",
    "train=0.8\n",
    "val=0.1\n",
    "test=0.1\n",
    "seed=1104\n",
    "\n",
    "# Load the data\n",
    "good_data = pd.read_csv(os.path.join(utils.get_project_root(), 'good_data.csv'))\n",
    "numerical_data_df = pd.read_csv(os.path.join(utils.get_project_root(), 'datasets/auxiliary_data.csv'))\n",
    "targets_df = pd.read_csv(os.path.join(utils.get_project_root(), 'datasets/targets.csv'))\n",
    "# Split data by filenames\n",
    "file_names = good_data['file_name'].unique()\n",
    "file_names_temp, file_names_test = train_test_split(file_names, train_size=train+val, random_state=seed)\n",
    "file_names_train, file_names_val = train_test_split(file_names_temp, train_size=train/(train+val), random_state=seed + 1)\n",
    " \n",
    "train_data = good_data[good_data['file_name'].isin(file_names_train)]\n",
    "val_data = good_data[good_data['file_name'].isin(file_names_val)]\n",
    "test_data = good_data[good_data['file_name'].isin(file_names_test)]\n",
    "\n",
    "def get_data(data):\n",
    "    images = [\n",
    "        torch.tensor(np.load(utils.get_strip_file_path(row)), dtype=torch.float) for (_, row) in data.iterrows()\n",
    "    ]\n",
    "    numeric = torch.tensor(\n",
    "        pd.merge(data, numerical_data_df, on='file_name')[numerical_data_df.columns].drop(columns=['file_name']).to_numpy()\n",
    "    )\n",
    "    targets = torch.tensor(\n",
    "        pd.merge(data.drop(columns=['ang_vel[deg/s]']), targets_df, on=['file_name', 'extension', 'ID'])['ang_vel[deg/s]'].to_numpy()\n",
    "    )\n",
    "    return images, numeric, targets\n",
    "\n",
    "print(get_data(train_data)[0][0].shape)\n",
    "\n",
    "train_dataset = StreaksDataset(*get_data(train_data))\n",
    "\n",
    "val_dataset = StreaksDataset(*get_data(val_data), \n",
    "                             images_mean=train_dataset.images_mean,\n",
    "                             images_std=train_dataset.images_std,\n",
    "                             numeric_features_mean=train_dataset.numeric_features_mean,\n",
    "                             numeric_features_std=train_dataset.numeric_features_std,\n",
    "                             targets_mean=train_dataset.targets_mean,\n",
    "                             targets_std=train_dataset.targets_std)\n",
    "test_dataset = StreaksDataset( *get_data(test_data),\n",
    "                               images_mean=train_dataset.images_mean,\n",
    "                               images_std=train_dataset.images_std,\n",
    "                               numeric_features_mean=train_dataset.numeric_features_mean,\n",
    "                               numeric_features_std=train_dataset.numeric_features_std,\n",
    "                               targets_mean=train_dataset.targets_mean,\n",
    "                               targets_std=train_dataset.targets_std)\n",
    "train_dataset.__getitem__(1)[0].shape\n",
    "\n",
    "\n"
   ],
   "outputs": [],
   "execution_count": null
  },
  {
   "metadata": {
    "ExecuteTime": {
     "end_time": "2024-11-10T19:12:11.176789Z",
     "start_time": "2024-11-10T19:11:21.991534Z"
    }
   },
   "cell_type": "code",
   "source": [
    "from train import train\n",
    "\n",
    "train()\n"
   ],
   "id": "664c9aa4bb52b242",
   "outputs": [
    {
     "name": "stderr",
     "output_type": "stream",
     "text": [
      "Epoch 1/10 - Training:   0%|          | 0/59 [00:00<?, ?it/s]"
     ]
    },
    {
     "name": "stdout",
     "output_type": "stream",
     "text": [
      "Numeric features shape:  torch.Size([16, 7])\n"
     ]
    },
    {
     "name": "stderr",
     "output_type": "stream",
     "text": [
      "                                                             \r"
     ]
    },
    {
     "ename": "KeyboardInterrupt",
     "evalue": "",
     "output_type": "error",
     "traceback": [
      "\u001B[0;31m---------------------------------------------------------------------------\u001B[0m",
      "\u001B[0;31mKeyboardInterrupt\u001B[0m                         Traceback (most recent call last)",
      "Cell \u001B[0;32mIn[3], line 3\u001B[0m\n\u001B[1;32m      1\u001B[0m \u001B[38;5;28;01mfrom\u001B[39;00m \u001B[38;5;21;01mtrain\u001B[39;00m \u001B[38;5;28;01mimport\u001B[39;00m train\n\u001B[0;32m----> 3\u001B[0m \u001B[43mtrain\u001B[49m\u001B[43m(\u001B[49m\u001B[43m)\u001B[49m\n",
      "File \u001B[0;32m~/epfl/semester_project/models/train.py:51\u001B[0m, in \u001B[0;36mtrain\u001B[0;34m()\u001B[0m\n\u001B[1;32m     48\u001B[0m     loss\u001B[38;5;241m.\u001B[39mbackward()\n\u001B[1;32m     49\u001B[0m     optimizer\u001B[38;5;241m.\u001B[39mstep()\n\u001B[0;32m---> 51\u001B[0m     total_loss \u001B[38;5;241m+\u001B[39m\u001B[38;5;241m=\u001B[39m \u001B[43mloss\u001B[49m\u001B[38;5;241;43m.\u001B[39;49m\u001B[43mitem\u001B[49m\u001B[43m(\u001B[49m\u001B[43m)\u001B[49m\n\u001B[1;32m     52\u001B[0m     train_loader_tqdm\u001B[38;5;241m.\u001B[39mset_postfix(loss\u001B[38;5;241m=\u001B[39mloss\u001B[38;5;241m.\u001B[39mitem())  \u001B[38;5;66;03m# Update tqdm with the current loss\u001B[39;00m\n\u001B[1;32m     54\u001B[0m avg_loss \u001B[38;5;241m=\u001B[39m total_loss \u001B[38;5;241m/\u001B[39m \u001B[38;5;28mlen\u001B[39m(train_loader)\n",
      "\u001B[0;31mKeyboardInterrupt\u001B[0m: "
     ]
    }
   ],
   "execution_count": 3
  },
  {
   "metadata": {
    "ExecuteTime": {
     "end_time": "2024-11-23T14:35:24.811653Z",
     "start_time": "2024-11-23T14:35:24.744027Z"
    }
   },
   "cell_type": "code",
   "source": [
    "from transformer_artifical_data import artificial_transformer\n",
    "\n",
    "import torch\n",
    "\n",
    "model = artificial_transformer.Transformer()\n",
    "\n",
    "\n",
    "data = torch.rand(8,200,32)\n",
    "targets = torch.randn(8,1)\n",
    "mask = torch.zeros(8, 200, dtype=torch.bool)\n",
    "\n",
    "model.forward(data, mask)\n",
    "\n"
   ],
   "id": "816c85352e3d4e46",
   "outputs": [
    {
     "data": {
      "text/plain": [
       "tensor([[0.0806],\n",
       "        [0.0806],\n",
       "        [0.0806],\n",
       "        [0.0806],\n",
       "        [0.0806],\n",
       "        [0.0806],\n",
       "        [0.0806],\n",
       "        [0.0806]], grad_fn=<AddmmBackward0>)"
      ]
     },
     "execution_count": 10,
     "metadata": {},
     "output_type": "execute_result"
    }
   ],
   "execution_count": 10
  },
  {
   "metadata": {
    "ExecuteTime": {
     "end_time": "2024-11-23T14:35:50.177948Z",
     "start_time": "2024-11-23T14:35:47.554747Z"
    }
   },
   "cell_type": "code",
   "source": [
    "from transformer_artifical_data import artificial_dataset\n",
    "from src.analysis.artificial_model_analysis import evaluate_model\n",
    "from src.analysis.artificial_model_analysis import analyze_results\n",
    "from src.models.transformer_artifical_data import artificial_train\n",
    "\n",
    "# Dummy test dataset\n",
    "datasets, dfs = artificial_dataset.split_data_into_datasets(train=.333, val=.333, test=.333, no_samples=30)\n",
    "# model = artificial_transformer.Transformer()\n",
    "\n",
    "model, optimizer, trainin_losses, validation_losses, test_loss = artificial_train.train(1, datasets['train'], datasets['val'], datasets['test'])\n",
    "\n",
    "eval_df = evaluate_model(model, datasets['test'], dfs['test'])\n",
    "analyze_results(eval_df)\n",
    "\n",
    "\n"
   ],
   "id": "5a259bbea3da68f2",
   "outputs": [
    {
     "name": "stdout",
     "output_type": "stream",
     "text": [
      "Start of train()\n",
      "Data loaders initialized\n",
      "Created new model\n",
      "Created new optimizer\n",
      "Starting training\n"
     ]
    },
    {
     "name": "stderr",
     "output_type": "stream",
     "text": [
      "                                                                              \r"
     ]
    },
    {
     "name": "stdout",
     "output_type": "stream",
     "text": [
      "Epoch [1/1], Training Loss: 1.0066\n"
     ]
    },
    {
     "name": "stderr",
     "output_type": "stream",
     "text": [
      "Epoch 1/1 - Validation:   0%|          | 0/1 [00:00<?, ?it/s]/home/dofri/epfl/semester_project/venv/lib/python3.10/site-packages/torch/nn/modules/transformer.py:502: UserWarning: The PyTorch API of nested tensors is in prototype stage and will change in the near future. (Triggered internally at ../aten/src/ATen/NestedTensorImpl.cpp:178.)\n",
      "  output = torch._nested_tensor_from_mask(\n",
      "                                                                        \r"
     ]
    },
    {
     "name": "stdout",
     "output_type": "stream",
     "text": [
      "Validation Loss: 1.1202, Validation Mean Error: -0.6873 \n",
      "Validation loss improved to 1.1202. Saving model.\n",
      "Loaded best model based on validation loss.\n"
     ]
    },
    {
     "name": "stderr",
     "output_type": "stream",
     "text": [
      "                                                         \r"
     ]
    },
    {
     "name": "stdout",
     "output_type": "stream",
     "text": [
      "Test Loss: 1.8209\n",
      "Training complete!\n",
      "Correlation between True Frequency and MSE: 0.6354, p-value: 4.8362e-02\n",
      "Correlation between Width and MSE: -0.5784, p-value: 7.9843e-02\n",
      "Mean squared error: 2.3195, Mean error: -0.9302, Mean absolute error: 1.3463\n"
     ]
    },
    {
     "data": {
      "text/plain": [
       "<Figure size 800x600 with 1 Axes>"
      ],
      "image/png": "[encoded data removed]"
     },
     "metadata": {},
     "output_type": "display_data"
    }
   ],
   "execution_count": 12
  },
  {
   "metadata": {
    "ExecuteTime": {
     "end_time": "2024-11-23T14:38:22.041763Z",
     "start_time": "2024-11-23T14:38:21.476039Z"
    }
   },
   "cell_type": "code",
   "source": [
    "from src.models.transformer_artifical_data.artificial_transformer_cls import TransformerWCLS\n",
    "# Dummy test dataset\n",
    "datasets, dfs = artificial_dataset.split_data_into_datasets(train=.333, val=.333, test=.333, no_samples=30)\n",
    "model = TransformerWCLS()\n",
    "\n",
    "model, optimizer, trainin_losses, validation_losses, test_loss = artificial_train.train(1, datasets['train'], datasets['val'], datasets['test'], model=model)\n",
    "\n",
    "eval_df = evaluate_model(model, datasets['test'], dfs['test'])\n",
    "analyze_results(eval_df)\n",
    "\n",
    "\n",
    "\n"
   ],
   "id": "fbad354d11a7b1f2",
   "outputs": [
    {
     "name": "stdout",
     "output_type": "stream",
     "text": [
      "Start of train()\n",
      "Data loaders initialized\n",
      "Using existing model\n",
      "Created new optimizer\n",
      "Starting training\n"
     ]
    },
    {
     "name": "stderr",
     "output_type": "stream",
     "text": [
      "                                                                              \r"
     ]
    },
    {
     "name": "stdout",
     "output_type": "stream",
     "text": [
      "Epoch [1/1], Training Loss: 1.0439\n"
     ]
    },
    {
     "name": "stderr",
     "output_type": "stream",
     "text": [
      "                                                                        \r"
     ]
    },
    {
     "name": "stdout",
     "output_type": "stream",
     "text": [
      "Validation Loss: 1.2251, Validation Mean Error: -0.7598 \n",
      "Validation loss improved to 1.2251. Saving model.\n",
      "Loaded best model based on validation loss.\n"
     ]
    },
    {
     "name": "stderr",
     "output_type": "stream",
     "text": [
      "                                                         \r"
     ]
    },
    {
     "name": "stdout",
     "output_type": "stream",
     "text": [
      "Test Loss: 2.0679\n",
      "Training complete!\n",
      "Correlation between True Frequency and MSE: 0.8199, p-value: 3.6846e-03\n",
      "Correlation between Width and MSE: -0.4484, p-value: 1.9370e-01\n",
      "Mean squared error: 3.2932, Mean error: -1.3541, Mean absolute error: 1.6064\n"
     ]
    },
    {
     "data": {
      "text/plain": [
       "<Figure size 800x600 with 1 Axes>"
      ],
      "image/png": "[encoded data removed]"
     },
     "metadata": {},
     "output_type": "display_data"
    }
   ],
   "execution_count": 13
  },
  {
   "metadata": {
    "ExecuteTime": {
     "end_time": "2024-11-15T19:44:57.280374Z",
     "start_time": "2024-11-15T19:44:55.334502Z"
    }
   },
   "cell_type": "code",
   "source": [
    "# import zipfile\n",
    "# import os\n",
    "# from src import utils\n",
    "# zip_path = os.path.join(utils.get_project_root(), 'src','datasets','artificial_strips.zip')\n",
    "# extract_to = os.path.join(utils.get_project_root(), 'src', 'datasets')\n",
    "# with zipfile.ZipFile(zip_path, 'r') as zip_ref:\n",
    "#     zip_ref.extractall(extract_to)\n",
    "#     print(f\"Unzipped {zip_path} to {extract_to}\")"
   ],
   "id": "a02cea61b030db6c",
   "outputs": [
    {
     "name": "stdout",
     "output_type": "stream",
     "text": [
      "Unzipped /home/dofri/epfl/semester_project/src/datasets/artificial_strips.zip to /home/dofri/epfl/semester_project/src/datasets\n"
     ]
    }
   ],
   "execution_count": 7
  },
  {
   "metadata": {
    "ExecuteTime": {
     "end_time": "2024-11-16T15:12:18.977475Z",
     "start_time": "2024-11-16T15:12:18.925079Z"
    }
   },
   "cell_type": "code",
   "source": [
    "from src.models.cnn.simple_cnn import SimpleCNN \n",
    "from src.models.transformer_artifical_data import artificial_transformer \n",
    "cnn_model = SimpleCNN()\n",
    "transformer_model =  artificial_transformer.Transformer()\n",
    "\n",
    "\n",
    "\n",
    "# print model number of parameters\n",
    "num_params_cnn = sum(p.numel() for p in cnn_model.parameters())\n",
    "num_params_transformer = sum(p.numel() for p in transformer_model.parameters())\n",
    "print(num_params_cnn)\n",
    "print(num_params_transformer)"
   ],
   "id": "b61e83da18bd133b",
   "outputs": [
    {
     "name": "stdout",
     "output_type": "stream",
     "text": [
      "2542977\n",
      "607361\n"
     ]
    }
   ],
   "execution_count": 55
  },
  {
   "metadata": {
    "ExecuteTime": {
     "end_time": "2024-11-16T20:50:07.943629Z",
     "start_time": "2024-11-16T20:50:07.155105Z"
    }
   },
   "cell_type": "code",
   "source": [
    "from src.models.cnn import cnn_train \n",
    "from transformer_artifical_data import artificial_dataset\n",
    "from src.analysis.artificial_model_analysis import evaluate_model\n",
    "from src.analysis.artificial_model_analysis import analyze_results\n",
    "\n",
    "# Dummy test dataset\n",
    "datasets, dfs = artificial_dataset.split_data_into_datasets(train=.333, val=.333, test=.333, no_samples=30, data_path=utils.path_from_proot('src/datasets/artificial_strips/w600px'))\n",
    "# model = artificial_transformer.Transformer()\n",
    "\n",
    "model, optimizer, trainin_losses, validation_losses, test_loss = cnn_train.train(1, datasets['train'], datasets['val'], datasets['test'])\n",
    "\n",
    "\n",
    "eval_df = evaluate_model(model, datasets['test'], dfs['test'], masked_model=False)\n",
    "analyze_results(eval_df)\n",
    "\n",
    " "
   ],
   "id": "eda0c200f96b493e",
   "outputs": [
    {
     "name": "stdout",
     "output_type": "stream",
     "text": [
      "Start of train()\n",
      "Data loaders initialized\n",
      "Created new model\n",
      "Created new optimizer\n",
      "Starting training\n"
     ]
    },
    {
     "name": "stderr",
     "output_type": "stream",
     "text": [
      "                                                                               \r"
     ]
    },
    {
     "name": "stdout",
     "output_type": "stream",
     "text": [
      "Epoch [1/1], Training Loss: 0.8990\n"
     ]
    },
    {
     "name": "stderr",
     "output_type": "stream",
     "text": [
      "                                                                        \r"
     ]
    },
    {
     "name": "stdout",
     "output_type": "stream",
     "text": [
      "Validation Loss: 1.8312, Validation Mean Error: -0.3942 \n",
      "Validation loss improved to 1.8312. Saving model.\n",
      "Loaded best model based on validation loss.\n"
     ]
    },
    {
     "name": "stderr",
     "output_type": "stream",
     "text": [
      "/home/dofri/epfl/semester_project/src/analysis/artificial_model_analysis.py:147: ConstantInputWarning: An input array is constant; the correlation coefficient is not defined.\n",
      "  width_mse_corr, width_mse_pval = pearsonr(widths, mses)\n"
     ]
    },
    {
     "name": "stdout",
     "output_type": "stream",
     "text": [
      "Test Loss: 2.1701\n",
      "Training complete!\n",
      "Correlation between True Frequency and MSE: 0.6610, p-value: 3.7419e-02\n",
      "Correlation between Width and MSE: nan, p-value: nan\n",
      "Mean squared error: 1.9570, Mean error: -0.2539, Mean absolute error: 1.0868\n"
     ]
    },
    {
     "data": {
      "text/plain": [
       "<Figure size 800x600 with 1 Axes>"
      ],
      "image/png": "[encoded data removed]"
     },
     "metadata": {},
     "output_type": "display_data"
    },
    {
     "data": {
      "text/plain": [
       "<Figure size 800x600 with 1 Axes>"
      ],
      "image/png": "[encoded data removed]"
     },
     "metadata": {},
     "output_type": "display_data"
    },
    {
     "data": {
      "text/plain": [
       "<Figure size 800x600 with 1 Axes>"
      ],
      "image/png": "[encoded data removed]"
     },
     "metadata": {},
     "output_type": "display_data"
    }
   ],
   "execution_count": 112
  },
  {
   "metadata": {},
   "cell_type": "code",
   "outputs": [],
   "execution_count": null,
   "source": "",
   "id": "674b419ed12a31fc"
  },
  {
   "metadata": {},
   "cell_type": "code",
   "source": "",
   "id": "444b36036a42707a",
   "outputs": [],
   "execution_count": null
  }
 ],
 "metadata": {
  "kernelspec": {
   "display_name": "Python 3 (ipykernel)",
   "language": "python",
   "name": "python3"
  },
  "language_info": {
   "codemirror_mode": {
    "name": "ipython",
    "version": 3
   },
   "file_extension": ".py",
   "mimetype": "text/x-python",
   "name": "python",
   "nbconvert_exporter": "python",
   "pygments_lexer": "ipython3",
   "version": "3.10.13"
  }
 },
 "nbformat": 4,
 "nbformat_minor": 5
}
